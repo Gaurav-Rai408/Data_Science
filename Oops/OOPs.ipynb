{
  "nbformat": 4,
  "nbformat_minor": 0,
  "metadata": {
    "colab": {
      "provenance": []
    },
    "kernelspec": {
      "name": "python3",
      "display_name": "Python 3"
    },
    "language_info": {
      "name": "python"
    }
  },
  "cells": [
    {
      "cell_type": "markdown",
      "source": [
        "**OOPs**"
      ],
      "metadata": {
        "id": "tEDX7r6DIlNK"
      }
    },
    {
      "cell_type": "markdown",
      "source": [
        "# 1. What is Object-Oriented Programming (OOP)?\n",
        "Object-Oriented Programming (OOP) is a programming paradigm (way of writing programs) based on the concept of objects. These objects contain data (called attributes or properties) and methods (functions that operate on the data). OOP makes it easier to structure and manage complex programs by organizing code into reusable components."
      ],
      "metadata": {
        "id": "SiwUkuscIrXJ"
      }
    },
    {
      "cell_type": "markdown",
      "source": [
        "# 2. What is a class in OOP?\n",
        "\n",
        "The class is a user-defined data structure that combines the methods and data members into a single\n",
        "entity. For the production of objects, classes serve as blueprints or code templates. You can make as many objects as you desire using a class."
      ],
      "metadata": {
        "id": "eiExPJbBIraj"
      }
    },
    {
      "cell_type": "markdown",
      "source": [
        "# 3. What is an object in OOP?\n",
        "An object is an instance of a class. It represents a real-world entity and contains its own data (attributes) and behavior (methods).\n",
        "Think of a class as a blueprint, and an object as the actual product made from that blueprint."
      ],
      "metadata": {
        "id": "eOh4fA_8Ird9"
      }
    },
    {
      "cell_type": "markdown",
      "source": [
        "# 4.What is the difference between abstraction and encapsulation?\n",
        "**Abstraction**:\n",
        "Abstraction is the concept of hiding the complex implementation details of a system and exposing only the essential features to the user. It focuses on what an object does rather than how it does it.\n",
        "\n",
        "**Encapsulation**:\n",
        " Encapsulation is the practice of bundling the data (attributes) and methods (functions) that operate on that data into a single unit or class, while restricting direct access to some of the object's components. It often involves using access modifiers (like private, public, and protected) to control visibility.\n"
      ],
      "metadata": {
        "id": "ZvtY6tvxIrg0"
      }
    },
    {
      "cell_type": "markdown",
      "source": [
        "#5. What are dunder methods in Python?\n",
        "Dunder methods, short for \"double underscore\" methods, are special methods in Python that have names starting and ending with double underscores . They are also known as \"magic methods\" because they enable certain behaviors in classes and allow you to define how objects of a class behave with built-in functions and operators."
      ],
      "metadata": {
        "id": "dva5vONQhBUC"
      }
    },
    {
      "cell_type": "markdown",
      "source": [
        "#6. Explain the concept of inheritance in OOP.\n",
        "Inheritance is a fundamental concept in Object-Oriented Programming (OOP) that allows a new class (called a subclass or derived class) to inherit properties and behaviors (attributes and methods) from an existing class (called a superclass or base class). This mechanism promotes code reusability and establishes a hierarchical relationship between classes."
      ],
      "metadata": {
        "id": "w9QuG6HriMTg"
      }
    },
    {
      "cell_type": "markdown",
      "source": [
        "# 7. What is polymorphism in OOP?\n",
        "In OOP, polymorphism refers to an object's capacity to assume several forms.\n",
        "Simply said, polymorphism enables us to carry out a single activity in a variety of ways\n",
        "\n",
        "From the Greek words poly (many) and morphism (forms), we get polymorphism. Polymorphism is the capacity to assume several shapes."
      ],
      "metadata": {
        "id": "sPHa4c9wiwPj"
      }
    },
    {
      "cell_type": "markdown",
      "source": [
        "# 8. How is encapsulation achieved in Python?\n",
        "Encapsulation in Python is achieved through public, protected, and private access modifiers, along with the use of getter and setter methods. This allows for controlled access to an object's attributes and methods, promoting data hiding and protecting the integrity of the object's state."
      ],
      "metadata": {
        "id": "6L3dbom5jOdg"
      }
    },
    {
      "cell_type": "markdown",
      "source": [
        "# 9. What is a constructor in Python?\n",
        "A constructor is a particular method used in object-oriented programming to\n",
        "generate and initialise an object of a class. In the class, this method is defined.\n",
        "When an object is created, the constructor is automatically run.Declaring and initialising a class's instance and\n",
        "data member variables is the main function of the constructor. An object's attributes are initialised by the\n",
        "constructor, which is a collection of statements (i.e., instructions) that run when an object is created."
      ],
      "metadata": {
        "id": "ptkmOHR4j51p"
      }
    },
    {
      "cell_type": "markdown",
      "source": [
        "# 10.What are class and static methods in Python?\n",
        "**Class methods :**\n",
        "Class methods are methods that are bound to the class and not the instance of the class. They can access or modify class state that applies across all instances of the class. Class methods are defined using the @classmethod decorator.\n",
        "\n",
        "**Static methods :** Static methods are methods that belong to the class and don't access or modify class or instance state. They\n",
        "are defined using the @staticmethod decorator.\n"
      ],
      "metadata": {
        "id": "kMM4__k_rbOj"
      }
    },
    {
      "cell_type": "markdown",
      "source": [
        "# 11. What is method overloading in Python?\n",
        "Method overloading is a programming concept that allows multiple methods in the same class to have the same name but different parameters (i.e., different types or numbers of arguments). This enables a class to perform different tasks based on the input it receives."
      ],
      "metadata": {
        "id": "oX2NInHbsPo5"
      }
    },
    {
      "cell_type": "markdown",
      "source": [
        "# 12. What is method overriding in OOP?\n",
        "Method overriding is a feature in Object-Oriented Programming (OOP) that allows a subclass (derived class) to provide a specific implementation of a method that is already defined in its superclass (base class). When a method in a subclass has the same name, same parameters, and same return type as a method in the superclass, the subclass's method overrides the superclass's method."
      ],
      "metadata": {
        "id": "PS_Xswhpsila"
      }
    },
    {
      "cell_type": "markdown",
      "source": [
        "# 13. What is a property decorator in Python?\n",
        "the property decorator is a built-in decorator that allows you to define methods in a class that can be accessed like attributes. It provides a way to manage the access to instance variables, enabling you to add getter, setter, and deleter functionality to attributes while maintaining a clean and intuitive interface."
      ],
      "metadata": {
        "id": "aNVta7cSs4rN"
      }
    },
    {
      "cell_type": "markdown",
      "source": [
        "# 14.  Why is polymorphism important in OOP?\n",
        "Polymorphism is an essential concept in Object-Oriented Programming (OOP) that allows objects of different classes to be treated as objects of a common superclass. It plays a crucial role in enhancing the flexibility, maintainability, and scalability of code."
      ],
      "metadata": {
        "id": "hzfdAl4ktRzF"
      }
    },
    {
      "cell_type": "markdown",
      "source": [
        "# 15. What is an abstract class in Python?\n",
        "An abstract class in Python is a class that cannot be instantiated on its own and is designed to be a base class for other classes. It serves as a blueprint for other classes, defining a common interface and potentially providing some default behavior. Abstract classes are used to enforce that certain methods must be implemented in any subclass that inherits from the abstract class."
      ],
      "metadata": {
        "id": "BQ2Tv7Jztg1a"
      }
    },
    {
      "cell_type": "markdown",
      "source": [
        "# 16. What are the advantages of OOP?\n",
        "The advantages of Object-Oriented Programming include encapsulation, reusability, abstraction, polymorphism, improved maintainability, better organization, real-world modeling, scalability, and enhanced collaboration. These benefits make OOP a powerful paradigm for developing complex software systems that are easier to understand, maintain, and extend."
      ],
      "metadata": {
        "id": "ppwljnbxt6YW"
      }
    },
    {
      "cell_type": "markdown",
      "source": [
        "# 17. What is the difference between a class variable and an instance variable?\n",
        "**Class Variable:**\n",
        "A class variable is shared among all instances of a class. It is defined within the class but outside any instance methods. Changes to a class variable affect all instances of the class.\n",
        "\n",
        "**Instance Variable:**\n",
        "An instance variable is unique to each instance of a class. It is defined within instance methods (usually in the __init__ method) and is prefixed with self. Changes to an instance variable only affect that specific instance.\n"
      ],
      "metadata": {
        "id": "5cHc__vOub-R"
      }
    },
    {
      "cell_type": "markdown",
      "source": [
        "# 18. What is multiple inheritance in Python?\n",
        "Multiple inheritance in Python is a feature that allows a class to inherit attributes and methods from more than one parent class. This means that a derived class can have multiple base classes, enabling it to combine behaviors and properties from multiple sources."
      ],
      "metadata": {
        "id": "0TANPt5ku6Rw"
      }
    },
    {
      "cell_type": "markdown",
      "source": [
        "# 19. Explain the purpose of \"str\" and ‘repr’ methods in Python?\n",
        "__str__ Method\n",
        "\n",
        "Purpose: The __str__ method is intended to provide a \"user-friendly\" or informal string representation of an object. It is meant to be readable and provide a clear description of the object when printed or converted to a string.\n",
        "\n",
        "__repr__ Method\n",
        "\n",
        "Purpose: The __repr__ method is intended to provide an \"official\" or formal string representation of an object. It should ideally be unambiguous and, if possible, a valid Python expression that can be used to recreate the object. This method is useful for debugging and logging."
      ],
      "metadata": {
        "id": "xsDEQI41vKl2"
      }
    },
    {
      "cell_type": "markdown",
      "source": [
        "# 20. What is the significance of the ‘super()’ function in Python?\n",
        "The super() function is significant in Python because it facilitates access to parent class methods, adheres to the Method Resolution Order, avoids explicit class references, and supports cooperative multiple inheritance. This enhances code maintainability, readability, and flexibility in object-oriented programming.\n",
        "\n",
        "\n",
        "\n",
        "\n",
        "\n"
      ],
      "metadata": {
        "id": "c8LfpGCIwOpf"
      }
    },
    {
      "cell_type": "markdown",
      "source": [
        "# 21. What is the significance of the __del__ method in Python?\n",
        "The __del__ method in Python is a special method known as a destructor. It is called when an object is about to be destroyed, allowing for cleanup actions before the object is removed from memory."
      ],
      "metadata": {
        "id": "qi0ReJdjwdAc"
      }
    },
    {
      "cell_type": "markdown",
      "source": [
        "# 22. What is the difference between @staticmethod and @classmethod in Python?\n",
        "@staticmethod: Does not take self or cls as a parameter, does not access class or instance data, and is used for utility functions.\n",
        "\n",
        "@classmethod: Takes cls as the first parameter, can access and modify class data, and is used for operations related to the class itself."
      ],
      "metadata": {
        "id": "8o9kgk-Iw6DK"
      }
    },
    {
      "cell_type": "markdown",
      "source": [
        "# 23. How does polymorphism work in Python with inheritance?\n",
        "Polymorphism in Python with inheritance allows for method overriding and the use of a common interface, enabling different classes to be treated as instances of a common superclass. This leads to flexible and reusable code, as functions can operate on objects of different types without needing to know their specific class implementations."
      ],
      "metadata": {
        "id": "8YKDWxeaxgp3"
      }
    },
    {
      "cell_type": "markdown",
      "source": [
        "# 24. What is method chaining in Python OOP?\n",
        "Method chaining in Python Object-Oriented Programming (OOP) is a programming technique where multiple method calls are made on the same object in a single statement. This is achieved by having each method return the object itself (usually self), allowing for a sequence of method calls to be linked together."
      ],
      "metadata": {
        "id": "2FuVeGgtx88D"
      }
    },
    {
      "cell_type": "markdown",
      "source": [
        "# 25. What is the purpose of the __call__ method in Python?\n",
        "The __call__ method in Python is a special method that allows an instance of a class to be called as if it were a function. When you define the __call__ method in a class, you enable instances of that class to be invoked using parentheses, similar to how you would call a regular function.\n"
      ],
      "metadata": {
        "id": "qANxuKlbyPdf"
      }
    },
    {
      "cell_type": "code",
      "source": [
        "# Create a parent class Animal with a method speak() that prints a generic message. Create a child class Dog\n",
        "# that overrides the speak() method to print \"Bark!\".\n",
        "# Parent class\n",
        "class Animal:\n",
        "    def speak(self):\n",
        "        print(\"This animal makes a sound.\")\n",
        "\n",
        "# Child class\n",
        "class Dog(Animal):\n",
        "    def speak(self):\n",
        "        print(\"Bark!\")\n",
        "\n",
        "if __name__ == \"__main__\":\n",
        "    animal = Animal()\n",
        "    animal.speak()\n",
        "\n",
        "    dog = Dog()\n",
        "    dog.speak()"
      ],
      "metadata": {
        "id": "L-nnVpTzyj-F",
        "colab": {
          "base_uri": "https://localhost:8080/"
        },
        "outputId": "277002fd-3312-4d77-b6a4-7e2972df6192"
      },
      "execution_count": 2,
      "outputs": [
        {
          "output_type": "stream",
          "name": "stdout",
          "text": [
            "This animal makes a sound.\n",
            "Bark!\n"
          ]
        }
      ]
    },
    {
      "cell_type": "code",
      "source": [
        "#  Write a program to create an abstract class Shape with a method area(). Derive classes Circle and Rectangle\n",
        "# from it and implement the area() method in both.\n",
        "from abc import ABC, abstractmethod\n",
        "import math\n",
        "\n",
        "# Abstract class\n",
        "class Shape(ABC):\n",
        "    @abstractmethod\n",
        "    def area(self):\n",
        "        pass\n",
        "\n",
        "# Derived class for Circle\n",
        "class Circle(Shape):\n",
        "    def __init__(self, radius):\n",
        "        self.radius = radius\n",
        "\n",
        "    def area(self):\n",
        "        return math.pi * (self.radius ** 2)\n",
        "\n",
        "# Derived class for Rectangle\n",
        "class Rectangle(Shape):\n",
        "    def __init__(self, width, height):\n",
        "        self.width = width\n",
        "        self.height = height\n",
        "\n",
        "    def area(self):\n",
        "        return self.width * self.height\n",
        "\n",
        "if __name__ == \"__main__\":\n",
        "    circle = Circle(5)\n",
        "    print(f\"Area of the circle: {circle.area()}\")\n",
        "\n",
        "    rectangle = Rectangle(4, 6)\n",
        "    print(f\"Area of the rectangle: {rectangle.area()}\")"
      ],
      "metadata": {
        "colab": {
          "base_uri": "https://localhost:8080/"
        },
        "id": "XpA55sdNAdvD",
        "outputId": "26fe9f87-239f-48d6-ec80-93d334ebe5a0"
      },
      "execution_count": 3,
      "outputs": [
        {
          "output_type": "stream",
          "name": "stdout",
          "text": [
            "Area of the circle: 78.53981633974483\n",
            "Area of the rectangle: 24\n"
          ]
        }
      ]
    },
    {
      "cell_type": "code",
      "source": [
        "#  Implement a multi-level inheritance scenario where a class Vehicle has an attribute type. Derive a class Car\n",
        "# and further derive a class ElectricCar that adds a battery attribute.\n",
        "# Base class\n",
        "class Vehicle:\n",
        "    def __init__(self, vehicle_type):\n",
        "        self.vehicle_type = vehicle_type\n",
        "\n",
        "# Derived class\n",
        "class Car(Vehicle):\n",
        "    def __init__(self, vehicle_type, brand):\n",
        "        super().__init__(vehicle_type)\n",
        "        self.brand = brand\n",
        "\n",
        "# Further derived class\n",
        "class ElectricCar(Car):\n",
        "    def __init__(self, vehicle_type, brand, battery_capacity):\n",
        "        super().__init__(vehicle_type, brand)\n",
        "        self.battery_capacity = battery_capacity\n",
        "\n",
        "    def display_info(self):\n",
        "        print(f\"Vehicle Type: {self.vehicle_type}\")\n",
        "        print(f\"Car Brand: {self.brand}\")\n",
        "        print(f\"Battery Capacity: {self.battery_capacity} kWh\")\n",
        "\n",
        "if __name__ == \"__main__\":\n",
        "    my_electric_car = ElectricCar(\"Electric\", \"Tesla\", 75)\n",
        "    my_electric_car.display_info()"
      ],
      "metadata": {
        "colab": {
          "base_uri": "https://localhost:8080/"
        },
        "id": "yPhOvxOFBUh8",
        "outputId": "245520ab-146d-426d-bcca-71bd84d234ef"
      },
      "execution_count": 4,
      "outputs": [
        {
          "output_type": "stream",
          "name": "stdout",
          "text": [
            "Vehicle Type: Electric\n",
            "Car Brand: Tesla\n",
            "Battery Capacity: 75 kWh\n"
          ]
        }
      ]
    },
    {
      "cell_type": "code",
      "source": [
        "#  Demonstrate polymorphism by creating a base class Bird with a method fly(). Create two derived classes\n",
        "# Sparrow and Penguin that override the fly() method.\n",
        "# Base class\n",
        "class Bird:\n",
        "    def fly(self):\n",
        "        print(\"This bird can fly.\")\n",
        "\n",
        "# Derived class for Sparrow\n",
        "class Sparrow(Bird):\n",
        "    def fly(self):\n",
        "        print(\"Sparrow flies high in the sky!\")\n",
        "\n",
        "# Derived class for Penguin\n",
        "class Penguin(Bird):\n",
        "    def fly(self):\n",
        "        print(\"Penguins cannot fly, but they can swim!\")\n",
        "\n",
        "\n",
        "if __name__ == \"__main__\":\n",
        "\n",
        "    sparrow = Sparrow()\n",
        "    penguin = Penguin()\n",
        "\n",
        "\n",
        "    for bird in (sparrow, penguin):\n",
        "        bird.fly()"
      ],
      "metadata": {
        "colab": {
          "base_uri": "https://localhost:8080/"
        },
        "id": "KmA3YnlZBrwJ",
        "outputId": "52564c45-dfab-4e6f-c17f-4d1c9ecb7e29"
      },
      "execution_count": 6,
      "outputs": [
        {
          "output_type": "stream",
          "name": "stdout",
          "text": [
            "Sparrow flies high in the sky!\n",
            "Penguins cannot fly, but they can swim!\n"
          ]
        }
      ]
    },
    {
      "cell_type": "code",
      "source": [
        "# Write a program to demonstrate encapsulation by creating a class BankAccount with private attributes\n",
        "# balance and methods to deposit, withdraw, and check balance.\n",
        "class BankAccount:\n",
        "    def __init__(self):\n",
        "        self.__balance = 0  # Private attribute\n",
        "\n",
        "    def deposit(self, amount):\n",
        "        if amount > 0:\n",
        "            self.__balance += amount\n",
        "            print(f\"Deposited: ${amount:.2f}\")\n",
        "        else:\n",
        "            print(\"Deposit amount must be positive.\")\n",
        "\n",
        "    def withdraw(self, amount):\n",
        "        if 0 < amount <= self.__balance:\n",
        "            self.__balance -= amount\n",
        "            print(f\"Withdrew: ${amount:.2f}\")\n",
        "        else:\n",
        "            print(\"Invalid withdrawal amount or insufficient funds.\")\n",
        "\n",
        "    def check_balance(self):\n",
        "        print(f\"Current Balance: ${self.__balance:.2f}\")\n",
        "\n",
        "\n",
        "if __name__ == \"__main__\":\n",
        "    account = BankAccount()\n",
        "\n",
        "    account.deposit(100)\n",
        "    account.check_balance()\n",
        "\n",
        "    account.withdraw(30)\n",
        "    account.check_balance()\n",
        "\n",
        "    account.withdraw(100)\n",
        "    account.check_balance()"
      ],
      "metadata": {
        "colab": {
          "base_uri": "https://localhost:8080/"
        },
        "id": "JRS99txdCQRy",
        "outputId": "4d42b9e9-8cbe-43e4-d79c-be8fc03f7989"
      },
      "execution_count": 7,
      "outputs": [
        {
          "output_type": "stream",
          "name": "stdout",
          "text": [
            "Deposited: $100.00\n",
            "Current Balance: $100.00\n",
            "Withdrew: $30.00\n",
            "Current Balance: $70.00\n",
            "Invalid withdrawal amount or insufficient funds.\n",
            "Current Balance: $70.00\n"
          ]
        }
      ]
    },
    {
      "cell_type": "code",
      "source": [
        "#  Demonstrate runtime polymorphism using a method play() in a base class Instrument. Derive classes Guitar\n",
        "# and Piano that implement their own version of play().\n",
        "# Base class\n",
        "class Instrument:\n",
        "    def play(self):\n",
        "        print(\"Playing the instrument.\")\n",
        "\n",
        "# Derived class for Guitar\n",
        "class Guitar(Instrument):\n",
        "    def play(self):\n",
        "        print(\"Strumming the guitar!\")\n",
        "\n",
        "# Derived class for Piano\n",
        "class Piano(Instrument):\n",
        "    def play(self):\n",
        "        print(\"Playing the piano keys!\")\n",
        "\n",
        "\n",
        "if __name__ == \"__main__\":\n",
        "\n",
        "    instruments = [Guitar(), Piano()]\n",
        "\n",
        "    for instrument in instruments:\n",
        "        instrument.play()"
      ],
      "metadata": {
        "colab": {
          "base_uri": "https://localhost:8080/"
        },
        "id": "MZMBrHVuC7OX",
        "outputId": "3a157fe8-2289-4047-ef2c-7ad189bba0cb"
      },
      "execution_count": 8,
      "outputs": [
        {
          "output_type": "stream",
          "name": "stdout",
          "text": [
            "Strumming the guitar!\n",
            "Playing the piano keys!\n"
          ]
        }
      ]
    },
    {
      "cell_type": "code",
      "source": [
        "#  Create a class MathOperations with a class method add_numbers() to add two numbers and a static\n",
        "# method subtract_numbers() to subtract two numbers.\n",
        "class MathOperations:\n",
        "    @classmethod\n",
        "    def add_numbers(cls, a, b):\n",
        "        return a + b\n",
        "\n",
        "    @staticmethod\n",
        "    def subtract_numbers(a, b):\n",
        "        return a - b\n",
        "\n",
        "if __name__ == \"__main__\":\n",
        "    sum_result = MathOperations.add_numbers(10, 5)\n",
        "    print(f\"Sum: {sum_result}\")\n",
        "\n",
        "    difference_result = MathOperations.subtract_numbers(10, 5)\n",
        "    print(f\"Difference: {difference_result}\")"
      ],
      "metadata": {
        "colab": {
          "base_uri": "https://localhost:8080/"
        },
        "id": "idgc8J7bDTb1",
        "outputId": "b374f3cb-8e64-49a5-dd3b-3a729f029eec"
      },
      "execution_count": 9,
      "outputs": [
        {
          "output_type": "stream",
          "name": "stdout",
          "text": [
            "Sum: 15\n",
            "Difference: 5\n"
          ]
        }
      ]
    },
    {
      "cell_type": "code",
      "source": [
        "# Implement a class Person with a class method to count the total number of persons created.\n",
        "class Person:\n",
        "    total_persons = 0\n",
        "    def __init__(self, name):\n",
        "        self.name = name\n",
        "        Person.total_persons += 1\n",
        "\n",
        "    @classmethod\n",
        "    def count_persons(cls):\n",
        "        return cls.total_persons\n",
        "\n",
        "if __name__ == \"__main__\":\n",
        "    person1 = Person(\"Alice\")\n",
        "    person2 = Person(\"Bob\")\n",
        "    person3 = Person(\"Charlie\")\n",
        "\n",
        "    print(f\"Total persons created: {Person.count_persons()}\")"
      ],
      "metadata": {
        "colab": {
          "base_uri": "https://localhost:8080/"
        },
        "id": "06s3aXhRDkBB",
        "outputId": "2227abd8-a249-41be-b554-faf52037de16"
      },
      "execution_count": 10,
      "outputs": [
        {
          "output_type": "stream",
          "name": "stdout",
          "text": [
            "Total persons created: 3\n"
          ]
        }
      ]
    },
    {
      "cell_type": "code",
      "source": [
        "#  Write a class Fraction with attributes numerator and denominator. Override the str method to display the\n",
        "# fraction as \"numerator/denominator\".\n",
        "class Fraction:\n",
        "    def __init__(self, numerator, denominator):\n",
        "        if denominator == 0:\n",
        "            raise ValueError(\"Denominator cannot be zero.\")\n",
        "        self.numerator = numerator\n",
        "        self.denominator = denominator\n",
        "\n",
        "    def __str__(self):\n",
        "        return f\"{self.numerator}/{self.denominator}\"\n",
        "\n",
        "if __name__ == \"__main__\":\n",
        "\n",
        "    fraction1 = Fraction(3, 4)\n",
        "    fraction2 = Fraction(5, 2)\n",
        "\n",
        "    print(f\"Fraction 1: {fraction1}\")\n",
        "    print(f\"Fraction 2: {fraction2}\")"
      ],
      "metadata": {
        "colab": {
          "base_uri": "https://localhost:8080/"
        },
        "id": "f9UIDFfQD1lv",
        "outputId": "20f48473-a0cc-4085-c7b3-32d9e73ba8b5"
      },
      "execution_count": 11,
      "outputs": [
        {
          "output_type": "stream",
          "name": "stdout",
          "text": [
            "Fraction 1: 3/4\n",
            "Fraction 2: 5/2\n"
          ]
        }
      ]
    },
    {
      "cell_type": "code",
      "source": [
        "#  Demonstrate operator overloading by creating a class Vector and overriding the add method to add two\n",
        "# vectors.\n",
        "class Vector:\n",
        "    def __init__(self, x, y):\n",
        "        self.x = x\n",
        "        self.y = y\n",
        "\n",
        "    def __add__(self, other):\n",
        "        if isinstance(other, Vector):\n",
        "            return Vector(self.x + other.x, self.y + other.y)\n",
        "        return NotImplemented\n",
        "\n",
        "    def __str__(self):\n",
        "        return f\"Vector({self.x}, {self.y})\"\n",
        "\n",
        "if __name__ == \"__main__\":\n",
        "    vector1 = Vector(2, 3)\n",
        "    vector2 = Vector(4, 5)\n",
        "\n",
        "    result_vector = vector1 + vector2\n",
        "\n",
        "    print(f\"Vector 1: {vector1}\")\n",
        "    print(f\"Vector 2: {vector2}\")\n",
        "    print(f\"Result Vector: {result_vector}\")"
      ],
      "metadata": {
        "colab": {
          "base_uri": "https://localhost:8080/"
        },
        "id": "cfu19ElHEDjb",
        "outputId": "d57a3429-bc0c-4d7c-d356-895d4d7088f6"
      },
      "execution_count": 12,
      "outputs": [
        {
          "output_type": "stream",
          "name": "stdout",
          "text": [
            "Vector 1: Vector(2, 3)\n",
            "Vector 2: Vector(4, 5)\n",
            "Result Vector: Vector(6, 8)\n"
          ]
        }
      ]
    },
    {
      "cell_type": "code",
      "source": [
        "# Create a class Person with attributes name and age. Add a method greet() that prints \"Hello, my name is\n",
        "# {name} and I am {age} years old.\"\n",
        "class Person:\n",
        "    def __init__(self, name, age):\n",
        "        self.name = name\n",
        "        self.age = age\n",
        "\n",
        "    def greet(self):\n",
        "        print(f\"Hello, my name is {self.name} and I am {self.age} years old.\")\n",
        "\n",
        "if __name__ == \"__main__\":\n",
        "    person1 = Person(\"Alice\", 30)\n",
        "\n",
        "    person1.greet()"
      ],
      "metadata": {
        "colab": {
          "base_uri": "https://localhost:8080/"
        },
        "id": "G_grsxEWEZM4",
        "outputId": "401abe3e-0a13-41fb-9415-ef24841ea186"
      },
      "execution_count": 13,
      "outputs": [
        {
          "output_type": "stream",
          "name": "stdout",
          "text": [
            "Hello, my name is Alice and I am 30 years old.\n"
          ]
        }
      ]
    },
    {
      "cell_type": "code",
      "source": [
        "#  Implement a class Student with attributes name and grades. Create a method average_grade() to compute\n",
        "# the average of the grades.\n",
        "class Student:\n",
        "    def __init__(self, name, grades):\n",
        "        self.name = name\n",
        "        self.grades = grades\n",
        "\n",
        "    def average_grade(self):\n",
        "        if not self.grades:\n",
        "            return 0\n",
        "        return sum(self.grades) / len(self.grades)\n",
        "\n",
        "if __name__ == \"__main__\":\n",
        "    student1 = Student(\"Alice\", [85, 90, 78, 92, 88])\n",
        "\n",
        "    avg_grade = student1.average_grade()\n",
        "    print(f\"{student1.name}'s average grade is: {avg_grade:.2f}\")"
      ],
      "metadata": {
        "colab": {
          "base_uri": "https://localhost:8080/"
        },
        "id": "IHiVbK1uEjR_",
        "outputId": "36a59530-5d52-4340-ad86-fd707a456797"
      },
      "execution_count": 14,
      "outputs": [
        {
          "output_type": "stream",
          "name": "stdout",
          "text": [
            "Alice's average grade is: 86.60\n"
          ]
        }
      ]
    },
    {
      "cell_type": "code",
      "source": [
        "# Create a class Rectangle with methods set_dimensions() to set the dimensions and area() to calculate the\n",
        "# area.\n",
        "class Rectangle:\n",
        "    def __init__(self):\n",
        "        self.width = 0\n",
        "        self.height = 0\n",
        "\n",
        "    def set_dimensions(self, width, height):\n",
        "        self.width = width\n",
        "        self.height = height\n",
        "\n",
        "    def area(self):\n",
        "        return self.width * self.height\n",
        "\n",
        "if __name__ == \"__main__\":\n",
        "    rectangle = Rectangle()\n",
        "\n",
        "    rectangle.set_dimensions(5, 10)\n",
        "\n",
        "    area = rectangle.area()\n",
        "    print(f\"The area of the rectangle is: {area}\")"
      ],
      "metadata": {
        "colab": {
          "base_uri": "https://localhost:8080/"
        },
        "id": "PL11an7WE5BF",
        "outputId": "909941cc-9325-4076-b75a-683cdfa8996c"
      },
      "execution_count": 15,
      "outputs": [
        {
          "output_type": "stream",
          "name": "stdout",
          "text": [
            "The area of the rectangle is: 50\n"
          ]
        }
      ]
    },
    {
      "cell_type": "code",
      "source": [
        "#  Create a class Employee with a method calculate_salary() that computes the salary based on hours worked\n",
        "# and hourly rate. Create a derived class Manager that adds a bonus to the salary\n",
        "class Employee:\n",
        "    def __init__(self, name, hours_worked, hourly_rate):\n",
        "        self.name = name\n",
        "        self.hours_worked = hours_worked\n",
        "        self.hourly_rate = hourly_rate\n",
        "\n",
        "    def calculate_salary(self):\n",
        "        return self.hours_worked * self.hourly_rate\n",
        "\n",
        "class Manager(Employee):\n",
        "    def __init__(self, name, hours_worked, hourly_rate, bonus):\n",
        "        super().__init__(name, hours_worked, hourly_rate)\n",
        "        self.bonus = bonus\n",
        "\n",
        "    def calculate_salary(self):\n",
        "        base_salary = super().calculate_salary()\n",
        "        return base_salary + self.bonus\n",
        "\n",
        "if __name__ == \"__main__\":\n",
        "    employee = Employee(\"Alice\", 40, 20)\n",
        "    print(f\"{employee.name}'s salary: ${employee.calculate_salary():.2f}\")\n",
        "\n",
        "    manager = Manager(\"Bob\", 40, 25, 500)\n",
        "    print(f\"{manager.name}'s salary: ${manager.calculate_salary():.2f}\")"
      ],
      "metadata": {
        "colab": {
          "base_uri": "https://localhost:8080/"
        },
        "id": "fhvOJtA6FDog",
        "outputId": "7a11778b-cdfa-48bc-e2f5-fec01beddc85"
      },
      "execution_count": 16,
      "outputs": [
        {
          "output_type": "stream",
          "name": "stdout",
          "text": [
            "Alice's salary: $800.00\n",
            "Bob's salary: $1500.00\n"
          ]
        }
      ]
    },
    {
      "cell_type": "code",
      "source": [
        "# Create a class Product with attributes name, price, and quantity. Implement a method total_price() that\n",
        "# calculates the total price of the product\n",
        "class Product:\n",
        "    def __init__(self, name, price, quantity):\n",
        "        self.name = name\n",
        "        self.price = price\n",
        "        self.quantity = quantity\n",
        "\n",
        "    def total_price(self):\n",
        "        return self.price * self.quantity\n",
        "\n",
        "if __name__ == \"__main__\":\n",
        "    product = Product(\"Laptop\", 999.99, 3)\n",
        "\n",
        "    total = product.total_price()\n",
        "    print(f\"The total price for {product.quantity} {product.name}(s) is: ${total:.2f}\")  # Output: The total price for 3 Laptop(s) is: $2999.97"
      ],
      "metadata": {
        "colab": {
          "base_uri": "https://localhost:8080/"
        },
        "id": "XG0WOwQEFfAR",
        "outputId": "8a73051c-2b28-4c29-b6e4-7bb28d3e2612"
      },
      "execution_count": 17,
      "outputs": [
        {
          "output_type": "stream",
          "name": "stdout",
          "text": [
            "The total price for 3 Laptop(s) is: $2999.97\n"
          ]
        }
      ]
    },
    {
      "cell_type": "code",
      "source": [
        "# Create a class Animal with an abstract method sound(). Create two derived classes Cow and Sheep that implement the sound() method.\n",
        "from abc import ABC, abstractmethod\n",
        "\n",
        "# Abstract base class\n",
        "class Animal(ABC):\n",
        "    @abstractmethod\n",
        "    def sound(self):\n",
        "        pass\n",
        "\n",
        "# Derived class for Cow\n",
        "class Cow(Animal):\n",
        "    def sound(self):\n",
        "        return \"Moo\"\n",
        "\n",
        "# Derived class for Sheep\n",
        "class Sheep(Animal):\n",
        "    def sound(self):\n",
        "        return \"Baa\"\n",
        "\n",
        "if __name__ == \"__main__\":\n",
        "    cow = Cow()\n",
        "    sheep = Sheep()\n",
        "    print(f\"Cow sound: {cow.sound()}\")\n",
        "    print(f\"Sheep sound: {sheep.sound()}\")"
      ],
      "metadata": {
        "colab": {
          "base_uri": "https://localhost:8080/"
        },
        "id": "p0kmbwlcF4wI",
        "outputId": "4d202b4e-0d70-4a8b-efe2-980767bda9de"
      },
      "execution_count": 18,
      "outputs": [
        {
          "output_type": "stream",
          "name": "stdout",
          "text": [
            "Cow sound: Moo\n",
            "Sheep sound: Baa\n"
          ]
        }
      ]
    },
    {
      "cell_type": "code",
      "source": [
        "# Create a class Book with attributes title, author, and year_published. Add a method get_book_info() that\n",
        "# returns a formatted string with the book's details.\n",
        "class Book:\n",
        "    def __init__(self, title, author, year_published):\n",
        "        self.title = title\n",
        "        self.author = author\n",
        "        self.year_published = year_published\n",
        "\n",
        "    def get_book_info(self):\n",
        "        return f\"'{self.title}' by {self.author}, published in {self.year_published}\"\n",
        "\n",
        "if __name__ == \"__main__\":\n",
        "    book1 = Book(\"To Kill a Mockingbird\", \"Harper Lee\", 1960)\n",
        "\n",
        "    print(book1.get_book_info())"
      ],
      "metadata": {
        "colab": {
          "base_uri": "https://localhost:8080/"
        },
        "id": "Z-KQO2MUGXKG",
        "outputId": "34873cb5-29d1-4af8-9809-0e0552f8c5fb"
      },
      "execution_count": 22,
      "outputs": [
        {
          "output_type": "stream",
          "name": "stdout",
          "text": [
            "'To Kill a Mockingbird' by Harper Lee, published in 1960\n"
          ]
        }
      ]
    },
    {
      "cell_type": "code",
      "source": [
        "#  Create a class House with attributes address and price. Create a derived class Mansion that adds an\n",
        "# attribute number_of_rooms.\n",
        "class House:\n",
        "    def __init__(self, address, price):\n",
        "        self.address = address\n",
        "        self.price = price\n",
        "\n",
        "    def get_info(self):\n",
        "        return f\"House located at {self.address} with a price of ${self.price:.2f}\"\n",
        "\n",
        "# Derived class for Mansion\n",
        "class Mansion(House):\n",
        "    def __init__(self, address, price, number_of_rooms):\n",
        "        super().__init__(address, price)\n",
        "        self.number_of_rooms = number_of_rooms\n",
        "\n",
        "    def get_info(self):\n",
        "        base_info = super().get_info()\n",
        "        return f\"{base_info}, and it has {self.number_of_rooms} rooms.\"\n",
        "\n",
        "if __name__ == \"__main__\":\n",
        "    house = House(\"123 Main St\", 250000)\n",
        "    print(house.get_info())\n",
        "\n",
        "    mansion = Mansion(\"456 Luxury Ave\", 1500000, 5)\n",
        "    print(mansion.get_info())"
      ],
      "metadata": {
        "colab": {
          "base_uri": "https://localhost:8080/"
        },
        "id": "RE0Ug8E-GwRk",
        "outputId": "5ec9ec49-7739-4cbe-eb23-3a6c5341fcfe"
      },
      "execution_count": 24,
      "outputs": [
        {
          "output_type": "stream",
          "name": "stdout",
          "text": [
            "House located at 123 Main St with a price of $250000.00\n",
            "House located at 456 Luxury Ave with a price of $1500000.00, and it has 5 rooms.\n"
          ]
        }
      ]
    }
  ]
}