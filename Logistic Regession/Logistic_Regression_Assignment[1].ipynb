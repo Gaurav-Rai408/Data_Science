{
  "cells": [
    {
      "cell_type": "markdown",
      "metadata": {
        "id": "7rkrcgOoGafa"
      },
      "source": [
        "# Logistic Regression Assignment"
      ]
    },
    {
      "cell_type": "markdown",
      "metadata": {
        "id": "2yB80VryGchN"
      },
      "source": [
        "#Q1. What is Logistic Regression, and how does it differ from Linear Regression?\n",
        "\n",
        "Logistic Regression is a classification algorithm used to predict binary outcomes (like Yes/No or 0/1). It models the probability that an instance belongs to a particular class.\n",
        "Linear Regression predicts continuous numerical values, whereas Logistic Regression predicts probabilities for classification."
      ]
    },
    {
      "cell_type": "markdown",
      "metadata": {
        "id": "BMI4Ac3OGcsl"
      },
      "source": [
        "#Q2. What is the mathematical equation of Logistic Regression?\n",
        "\n",
        "P(Y=1|X) = 1/1+e^-(b0+b1x1+...bnxn)"
      ]
    },
    {
      "cell_type": "markdown",
      "metadata": {
        "id": "LnKjsfbBGc67"
      },
      "source": [
        "#Q3. Why do we use the Sigmoid function in Logistic Regression?\n",
        "\n",
        "The Sigmoid function maps predicted values to a range between 0 and 1, representing probabilities. It helps in interpreting the output as the probability of belonging to the positive class."
      ]
    },
    {
      "cell_type": "markdown",
      "metadata": {
        "id": "3AXrQmv8GdKQ"
      },
      "source": [
        "#Q4. What is the cost function of Logistic Regression?\n",
        "\n",
        "Logistic Regression uses Binary Cross-Entropy Loss (also called Log Loss):\n",
        "𝐶𝑜𝑠𝑡=−1/𝑛∑[𝑦𝑖log(𝑦𝑖^) + ( 1 − 𝑖 ) log ⁡ ( 1 − 𝑦 𝑖 ^ ) ]\n"
      ]
    },
    {
      "cell_type": "markdown",
      "metadata": {
        "id": "jEEu4BeOGdWP"
      },
      "source": [
        "#Q5. What is Regularization in Logistic Regression? Why is it needed?\n",
        "\n",
        "Regularization adds a penalty term to the cost function to prevent overfitting by discouraging overly complex models.\n",
        "It keeps model coefficients small and improves generalization."
      ]
    },
    {
      "cell_type": "markdown",
      "metadata": {
        "id": "gpAXSj2MGdge"
      },
      "source": [
        "#Q6. Explain the difference between Lasso, Ridge, and Elastic Net regression\n",
        "\n",
        "\n",
        "Lasso (L1): Can shrink some coefficients to exactly zero (feature selection).\n",
        "\n",
        "Ridge (L2): Shrinks coefficients but doesn’t set any to zero.\n",
        "\n",
        "Elastic Net: Combination of L1 and L2, balancing between shrinkage and feature selection."
      ]
    },
    {
      "cell_type": "markdown",
      "metadata": {
        "id": "sK8OY1CtGdqn"
      },
      "source": [
        "#Q7. When should we use Elastic Net instead of Lasso or Ridge?\n",
        "\n",
        "Use Elastic Net when there are many correlated features because it balances both Lasso (feature selection) and Ridge (coefficient shrinkage)."
      ]
    },
    {
      "cell_type": "markdown",
      "metadata": {
        "id": "Panw1W9tGdzp"
      },
      "source": [
        "#Q8. What is the impact of the regularization parameter (λ) in Logistic Regression?\n",
        "\n",
        "\n",
        "Higher λ → More regularization → Simpler model, may underfit.\n",
        "\n",
        "Lower λ → Less regularization → More complex model, may overfit."
      ]
    },
    {
      "cell_type": "markdown",
      "metadata": {
        "id": "DjJFv-dEGd-Y"
      },
      "source": [
        "#Q9. What are the key assumptions of Logistic Regression?\n",
        "\n",
        "\n",
        "No multicollinearity among independent variables\n",
        "\n",
        "Large sample size\n",
        "\n",
        "Linearity between independent variables and log-odds\n",
        "\n",
        "Independent observations"
      ]
    },
    {
      "cell_type": "markdown",
      "metadata": {
        "id": "4mCU-MSgGeH_"
      },
      "source": [
        "#Q10. What are some alternatives to Logistic Regression for classification tasks?\n",
        "\n",
        "\n",
        "Decision Trees\n",
        "\n",
        "Random Forest\n",
        "\n",
        "Support Vector Machines (SVM)\n",
        "\n",
        "k-Nearest Neighbors (k-NN)\n",
        "\n",
        "Neural Networks"
      ]
    },
    {
      "cell_type": "markdown",
      "metadata": {
        "id": "niz_BnniGeSc"
      },
      "source": [
        "#Q11. What are Classification Evaluation Metrics?\n",
        "\n",
        "\n",
        "Accuracy\n",
        "\n",
        "Precision\n",
        "\n",
        "Recall\n",
        "\n",
        "F1-Score\n",
        "\n",
        "ROC-AUC\n",
        "\n",
        "Confusion Matrix"
      ]
    },
    {
      "cell_type": "markdown",
      "metadata": {
        "id": "gz9DOcM5Gebf"
      },
      "source": [
        "#Q12. How does class imbalance affect Logistic Regression?\n",
        "\n",
        "When classes are imbalanced, the model may be biased towards the majority class, leading to poor performance on minority classes.\n",
        "Solutions include resampling techniques or using class weights."
      ]
    },
    {
      "cell_type": "markdown",
      "metadata": {
        "id": "NwXx5l9FGeld"
      },
      "source": [
        "#Q13. What is Hyperparameter Tuning in Logistic Regression?\n",
        "\n",
        "Hyperparameter tuning involves finding the best set of parameters (like C, penalty, solver) that optimize model performance using techniques like GridSearchCV or RandomizedSearchCV.\n",
        "\n"
      ]
    },
    {
      "cell_type": "markdown",
      "metadata": {
        "id": "TUXg3IsMGevF"
      },
      "source": [
        "#Q14. What are different solvers in Logistic Regression? Which one should be used?\n",
        "\n",
        "\n",
        "liblinear: Good for small datasets, supports L1 and L2 regularization.\n",
        "\n",
        "lbfgs: Good for multiclass and large datasets.\n",
        "\n",
        "saga: Handles L1, L2, Elastic Net; good for large datasets.\n",
        "Choose solver based on dataset size and regularization needs.\n",
        "\n"
      ]
    },
    {
      "cell_type": "markdown",
      "metadata": {
        "id": "ildSsrcaGe4t"
      },
      "source": [
        "#Q15. How is Logistic Regression extended for multiclass classification?\n",
        "\n",
        "\n",
        "One-vs-Rest (OvR): Build one binary classifier per class.\n",
        "\n",
        "Softmax Regression: Generalization for multiple classes at once."
      ]
    },
    {
      "cell_type": "markdown",
      "metadata": {
        "id": "EmSC8NIeGfB9"
      },
      "source": [
        "#Q16. What are the advantages and disadvantages of Logistic Regression?\n",
        "\n",
        "Advantages:\n",
        "\n",
        "Simple and easy to implement\n",
        "\n",
        "Outputs probabilities\n",
        "\n",
        "Works well with linearly separable data\n",
        "\n",
        "Disadvantages:\n",
        "\n",
        "Struggles with non-linear relationships\n",
        "\n",
        "Assumes linear decision boundary"
      ]
    },
    {
      "cell_type": "markdown",
      "metadata": {
        "id": "qtmgElgAGfKm"
      },
      "source": [
        "#Q17. What are some use cases of Logistic Regression?\n",
        "\n",
        "\n",
        "Spam email detection\n",
        "\n",
        "Customer churn prediction\n",
        "\n",
        "Disease diagnosis (yes/no)\n",
        "\n",
        "Credit card fraud detection\n",
        "\n"
      ]
    },
    {
      "cell_type": "markdown",
      "metadata": {
        "id": "fVnJ2_iOGfUE"
      },
      "source": [
        "#Q18. What is the difference between Softmax Regression and Logistic Regression?\n",
        "\n",
        "Logistic Regression handles binary classification.\n",
        "\n",
        "Softmax Regression handles multiclass classification by assigning probabilities across multiple classes.\n",
        "\n"
      ]
    },
    {
      "cell_type": "markdown",
      "metadata": {
        "id": "nzgTFM5ZGfdV"
      },
      "source": [
        "#Q19. How do we choose between One-vs-Rest (OvR) and Softmax for multiclass classification?\n",
        "\n",
        "Use OvR for simple, smaller datasets where binary classifiers are efficient.\n",
        "\n",
        "Use Softmax for large, complex multiclass problems needing probability distribution across classes."
      ]
    },
    {
      "cell_type": "markdown",
      "metadata": {
        "id": "HgSV365HGfmj"
      },
      "source": [
        "#Q20. How do we interpret coefficients in Logistic Regression?\n",
        "\n",
        "The coefficients represent the change in the log-odds of the outcome for a one-unit increase in the predictor variable, holding other variables constant."
      ]
    },
    {
      "cell_type": "markdown",
      "metadata": {
        "id": "344lt8JqGfxH"
      },
      "source": [
        "# Logistic Regression Practical"
      ]
    },
    {
      "cell_type": "code",
      "execution_count": null,
      "metadata": {
        "colab": {
          "base_uri": "https://localhost:8080/"
        },
        "id": "hkz5Q5AuI1xy",
        "outputId": "71ec5834-dd87-4497-9f70-9027b36b07da"
      },
      "outputs": [
        {
          "name": "stdout",
          "output_type": "stream",
          "text": [
            "Accuracy: 1.0\n"
          ]
        }
      ],
      "source": [
        "# 1. Write a Python program that loads a dataset, splits it into training and testing sets,\n",
        "# applies Logistic Regression, and prints the model accuracy.\n",
        "\n",
        "from sklearn.datasets import load_iris\n",
        "from sklearn.linear_model import LogisticRegression\n",
        "from sklearn.model_selection import train_test_split\n",
        "from sklearn.metrics import accuracy_score\n",
        "\n",
        "data = load_iris()\n",
        "X, y = data.data, data.target\n",
        "y_binary = (y == 0).astype(int)\n",
        "\n",
        "X_train, X_test, y_train, y_test = train_test_split(X, y_binary, test_size=0.3, random_state=42)\n",
        "\n",
        "model = LogisticRegression()\n",
        "model.fit(X_train, y_train)\n",
        "\n",
        "y_pred = model.predict(X_test)\n",
        "print(\"Accuracy:\", accuracy_score(y_test, y_pred))\n"
      ]
    },
    {
      "cell_type": "code",
      "execution_count": 11,
      "metadata": {
        "colab": {
          "base_uri": "https://localhost:8080/"
        },
        "id": "gV7msKitI1oI",
        "outputId": "86ee88b2-555c-4e1e-e470-e6a010144864"
      },
      "outputs": [
        {
          "name": "stdout",
          "output_type": "stream",
          "text": [
            "L1 Regularized Accuracy: 1.0\n"
          ]
        }
      ],
      "source": [
        "# 2. Write a Python program to apply L1 regularization (Lasso) on a dataset\n",
        "# using LogisticRegression(penalty='l1') and print the model accuracy.\n",
        "\n",
        "from sklearn.linear_model import LogisticRegression\n",
        "from sklearn.model_selection import train_test_split\n",
        "from sklearn.datasets import load_iris\n",
        "from sklearn.metrics import accuracy_score\n",
        "\n",
        "data = load_iris()\n",
        "X, y = data.data, data.target\n",
        "y_binary = (y == 0).astype(int)\n",
        "\n",
        "X_train, X_test, y_train, y_test = train_test_split(X, y_binary, test_size=0.3, random_state=42)\n",
        "\n",
        "model_l1 = LogisticRegression(penalty='l1', solver='liblinear')\n",
        "model_l1.fit(X_train, y_train)\n",
        "y_pred_l1 = model_l1.predict(X_test)\n",
        "\n",
        "print(\"L1 Regularized Accuracy:\", accuracy_score(y_test, y_pred_l1))\n"
      ]
    },
    {
      "cell_type": "code",
      "execution_count": 3,
      "metadata": {
        "colab": {
          "base_uri": "https://localhost:8080/"
        },
        "id": "QxzP-ejeI1ec",
        "outputId": "d7105b87-1c47-4f3d-a3c8-2ca981d76057"
      },
      "outputs": [
        {
          "name": "stdout",
          "output_type": "stream",
          "text": [
            "L2 Regularized Accuracy: 1.0\n",
            "Coefficients: [[-0.43107698  0.84570847 -2.15658006 -0.88940818]]\n"
          ]
        }
      ],
      "source": [
        "# 3. Write a Python program to train Logistic Regression with L2 regularization (Ridge)\n",
        "# using LogisticRegression(penalty='l2'). Print model accuracy and coefficients.\n",
        "\n",
        "from sklearn.linear_model import LogisticRegression\n",
        "from sklearn.model_selection import train_test_split\n",
        "from sklearn.datasets import load_iris\n",
        "from sklearn.metrics import accuracy_score\n",
        "\n",
        "data = load_iris()\n",
        "X, y = data.data, data.target\n",
        "y_binary = (y == 0).astype(int)\n",
        "\n",
        "X_train, X_test, y_train, y_test = train_test_split(X, y_binary, test_size=0.3, random_state=42)\n",
        "\n",
        "model_l2 = LogisticRegression(penalty='l2')\n",
        "model_l2.fit(X_train, y_train)\n",
        "y_pred_l2 = model_l2.predict(X_test)\n",
        "\n",
        "print(\"L2 Regularized Accuracy:\", accuracy_score(y_test, y_pred_l2))\n",
        "print(\"Coefficients:\", model_l2.coef_)\n"
      ]
    },
    {
      "cell_type": "code",
      "execution_count": 22,
      "metadata": {
        "colab": {
          "base_uri": "https://localhost:8080/"
        },
        "id": "p10rPjhRI1U3",
        "outputId": "1de7f737-7d07-418c-a09c-139c5807f10d"
      },
      "outputs": [
        {
          "name": "stdout",
          "output_type": "stream",
          "text": [
            "Elastic Net Accuracy: 1.0\n"
          ]
        },
        {
          "name": "stderr",
          "output_type": "stream",
          "text": [
            "c:\\Users\\Gaurav Rai\\AppData\\Local\\Programs\\Python\\Python311\\Lib\\site-packages\\sklearn\\linear_model\\_sag.py:348: ConvergenceWarning: The max_iter was reached which means the coef_ did not converge\n",
            "  warnings.warn(\n"
          ]
        }
      ],
      "source": [
        "# 4. Write a Python program to train Logistic Regression with Elastic Net Regularization (penalty='elasticnet').\n",
        "from sklearn.linear_model import LogisticRegression\n",
        "from sklearn.model_selection import train_test_split\n",
        "from sklearn.datasets import load_iris\n",
        "from sklearn.metrics import accuracy_score\n",
        "\n",
        "data = load_iris()\n",
        "X, y = data.data, data.target\n",
        "y_binary = (y == 0).astype(int)\n",
        "\n",
        "X_train, X_test, y_train, y_test = train_test_split(X, y_binary, test_size=0.3, random_state=42)\n",
        "\n",
        "model_elastic = LogisticRegression(penalty='elasticnet', solver='saga', l1_ratio=0.5, max_iter=1000)\n",
        "model_elastic.fit(X_train, y_train)\n",
        "\n",
        "y_pred_elastic = model_elastic.predict(X_test)\n",
        "\n",
        "accuracy = accuracy_score(y_test, y_pred_elastic)\n",
        "print(\"Elastic Net Accuracy:\", accuracy)"
      ]
    },
    {
      "cell_type": "code",
      "execution_count": null,
      "metadata": {
        "colab": {
          "base_uri": "https://localhost:8080/"
        },
        "id": "qXvW9VOdI1NB",
        "outputId": "9fe25f4d-24e5-453e-b70c-013102df0c5b"
      },
      "outputs": [
        {
          "name": "stdout",
          "output_type": "stream",
          "text": [
            "Multiclass (OvR) Accuracy: 0.9555555555555556\n"
          ]
        }
      ],
      "source": [
        "# 5. Write a Python program to train a Logistic Regression model for multiclass classification using multi_class='ovr'.\n",
        "from sklearn.datasets import load_iris\n",
        "from sklearn.model_selection import train_test_split\n",
        "from sklearn.linear_model import LogisticRegression\n",
        "from sklearn.multiclass import OneVsRestClassifier\n",
        "from sklearn.metrics import accuracy_score\n",
        "\n",
        "data = load_iris()\n",
        "X, y = data.data, data.target\n",
        "\n",
        "X_train, X_test, y_train, y_test = train_test_split(X, y, test_size=0.3, random_state=42)\n",
        "\n",
        "model_multiclass = OneVsRestClassifier(LogisticRegression())\n",
        "model_multiclass.fit(X_train, y_train)\n",
        "\n",
        "y_pred_multiclass = model_multiclass.predict(X_test)\n",
        "\n",
        "accuracy = accuracy_score(y_test, y_pred_multiclass)\n",
        "print(\"Multiclass (OvR) Accuracy:\", accuracy)"
      ]
    },
    {
      "cell_type": "code",
      "execution_count": 14,
      "metadata": {
        "colab": {
          "base_uri": "https://localhost:8080/"
        },
        "id": "JroSCT18I1Cx",
        "outputId": "53f3aa48-0887-4e49-aceb-6f68b59c59fd"
      },
      "outputs": [
        {
          "name": "stdout",
          "output_type": "stream",
          "text": [
            "Best Parameters: {'C': 0.1, 'penalty': 'l1', 'solver': 'liblinear'}\n",
            "Best Accuracy on Validation: 1.0\n"
          ]
        }
      ],
      "source": [
        "# 6. Write a Python program to apply GridSearchCV to tune the hyperparameters (C and penalty) of Logistic Regression.\n",
        "# Print the best parameters and accuracy.\n",
        "\n",
        "from sklearn.datasets import load_iris\n",
        "from sklearn.model_selection import train_test_split, GridSearchCV\n",
        "from sklearn.linear_model import LogisticRegression\n",
        "\n",
        "data = load_iris()\n",
        "X, y = data.data, data.target\n",
        "y_binary = (y == 0).astype(int)\n",
        "\n",
        "X_train, X_test, y_train, y_test = train_test_split(X, y_binary, test_size=0.3, random_state=42)\n",
        "\n",
        "param_grid = {\n",
        "    'C': [0.01, 0.1, 1, 10],\n",
        "    'penalty': ['l1', 'l2'],\n",
        "    'solver': ['liblinear']\n",
        "}\n",
        "\n",
        "grid = GridSearchCV(LogisticRegression(), param_grid, cv=5)\n",
        "grid.fit(X_train, y_train)\n",
        "\n",
        "print(\"Best Parameters:\", grid.best_params_)\n",
        "print(\"Best Accuracy on Validation:\", grid.best_score_)\n"
      ]
    },
    {
      "cell_type": "code",
      "execution_count": 15,
      "metadata": {
        "colab": {
          "base_uri": "https://localhost:8080/"
        },
        "id": "9d5deJbaI057",
        "outputId": "31af165b-6932-4f9a-8a22-7967d81f0f1d"
      },
      "outputs": [
        {
          "name": "stdout",
          "output_type": "stream",
          "text": [
            "Cross-Validation Scores: [1. 1. 1. 1. 1.]\n",
            "Average Accuracy: 1.0\n"
          ]
        }
      ],
      "source": [
        "# 7. Write a Python program to evaluate Logistic Regression using Stratified K-Fold Cross-Validation.\n",
        "# Print the average accuracy.\n",
        "\n",
        "from sklearn.datasets import load_iris\n",
        "from sklearn.model_selection import StratifiedKFold, cross_val_score\n",
        "from sklearn.linear_model import LogisticRegression\n",
        "\n",
        "data = load_iris()\n",
        "X, y = data.data, data.target\n",
        "y_binary = (y == 0).astype(int)\n",
        "\n",
        "model_skf = LogisticRegression()\n",
        "skf = StratifiedKFold(n_splits=5)\n",
        "\n",
        "scores = cross_val_score(model_skf, X, y_binary, cv=skf)\n",
        "\n",
        "print(\"Cross-Validation Scores:\", scores)\n",
        "print(\"Average Accuracy:\", scores.mean())\n"
      ]
    },
    {
      "cell_type": "code",
      "execution_count": 16,
      "metadata": {
        "colab": {
          "base_uri": "https://localhost:8080/"
        },
        "id": "ajD5LQYKI0w7",
        "outputId": "ab5d27c3-7830-4c43-e0c5-be481465592c"
      },
      "outputs": [
        {
          "name": "stdout",
          "output_type": "stream",
          "text": [
            "CSV Dataset Accuracy: 1.0\n"
          ]
        }
      ],
      "source": [
        "# 8. Write a Python program to load a dataset from a CSV file,\n",
        "# apply Logistic Regression, and evaluate its accuracy.\n",
        "\n",
        "import pandas as pd\n",
        "from sklearn.model_selection import train_test_split\n",
        "from sklearn.linear_model import LogisticRegression\n",
        "from sklearn.datasets import load_iris\n",
        "\n",
        "# Simulating a CSV using Iris data\n",
        "data = load_iris()\n",
        "df = pd.DataFrame(data.data, columns=data.feature_names)\n",
        "df['target'] = (data.target == 0).astype(int)\n",
        "\n",
        "X = df.drop('target', axis=1)\n",
        "y = df['target']\n",
        "\n",
        "X_train, X_test, y_train, y_test = train_test_split(X, y, test_size=0.3, random_state=42)\n",
        "\n",
        "model = LogisticRegression()\n",
        "model.fit(X_train, y_train)\n",
        "\n",
        "print(\"CSV Dataset Accuracy:\", model.score(X_test, y_test))\n"
      ]
    },
    {
      "cell_type": "code",
      "execution_count": null,
      "metadata": {
        "colab": {
          "base_uri": "https://localhost:8080/"
        },
        "id": "UolxWrBLKGgI",
        "outputId": "3a4b2b3c-1f0b-4f69-a66e-be82b3cfc264"
      },
      "outputs": [
        {
          "name": "stdout",
          "output_type": "stream",
          "text": [
            "Best Parameters: {'C': 3.7554011884736247, 'penalty': 'l1', 'solver': 'liblinear'}\n",
            "Best Accuracy on Validation: 1.0\n",
            "Test Accuracy: 1.0\n"
          ]
        }
      ],
      "source": [
        "# 9. Write a Python program to apply RandomizedSearchCV for tuning hyperparameters (C, penalty, solver)\n",
        "# in Logistic Regression. Print the best parameters and accuracy.\n",
        "from sklearn.datasets import load_iris\n",
        "from sklearn.model_selection import RandomizedSearchCV, train_test_split\n",
        "from sklearn.linear_model import LogisticRegression\n",
        "from sklearn.metrics import accuracy_score\n",
        "import scipy.stats as stats\n",
        "from sklearn.datasets import load_iris\n",
        "from sklearn.model_selection import RandomizedSearchCV, train_test_split\n",
        "from sklearn.linear_model import LogisticRegression\n",
        "from sklearn.metrics import accuracy_score\n",
        "from sklearn.preprocessing import StandardScaler\n",
        "import scipy.stats as stats\n",
        "\n",
        "data = load_iris()\n",
        "X, y = data.data, data.target\n",
        "\n",
        "y_binary = (y == 0).astype(int)\n",
        "\n",
        "X_train, X_test, y_train, y_test = train_test_split(X, y_binary, test_size=0.3, random_state=42)\n",
        "\n",
        "scaler = StandardScaler()\n",
        "X_train = scaler.fit_transform(X_train)\n",
        "X_test = scaler.transform(X_test)\n",
        "\n",
        "param_dist = {\n",
        "    'C': stats.uniform(0.01, 10),  \n",
        "    'penalty': ['l1', 'l2'],        \n",
        "    'solver': ['liblinear', 'saga'] ]\n",
        "}\n",
        "\n",
        "random_search = RandomizedSearchCV(LogisticRegression(max_iter=1000), param_distributions=param_dist, n_iter=10, cv=5, random_state=42)\n",
        "\n",
        "random_search.fit(X_train, y_train)\n",
        "\n",
        "print(\"Best Parameters:\", random_search.best_params_)\n",
        "print(\"Best Accuracy on Validation:\", random_search.best_score_)\n",
        "\n",
        "best_model = random_search.best_estimator_\n",
        "y_pred = best_model.predict(X_test)\n",
        "test_accuracy = accuracy_score(y_test, y_pred)\n",
        "print(\"Test Accuracy:\", test_accuracy)"
      ]
    },
    {
      "cell_type": "code",
      "execution_count": 23,
      "metadata": {
        "colab": {
          "base_uri": "https://localhost:8080/"
        },
        "id": "v7mIn-JEI0nh",
        "outputId": "5abdf50d-da2c-4a42-b854-0ffb86cdf4c5"
      },
      "outputs": [
        {
          "name": "stdout",
          "output_type": "stream",
          "text": [
            "One-vs-One (OvO) Multiclass Accuracy: 1.0\n"
          ]
        }
      ],
      "source": [
        "# 10. Write a Python program to implement One-vs-One (OvO) Multiclass Logistic Regression\n",
        "# and print accuracy.\n",
        "\n",
        "from sklearn.datasets import load_iris\n",
        "from sklearn.model_selection import train_test_split\n",
        "from sklearn.multiclass import OneVsOneClassifier\n",
        "from sklearn.linear_model import LogisticRegression\n",
        "from sklearn.metrics import accuracy_score\n",
        "\n",
        "data = load_iris()\n",
        "X, y = data.data, data.target\n",
        "\n",
        "X_train, X_test, y_train, y_test = train_test_split(X, y, test_size=0.3, random_state=42)\n",
        "\n",
        "ovo_model = OneVsOneClassifier(LogisticRegression())\n",
        "ovo_model.fit(X_train, y_train)\n",
        "\n",
        "y_pred_ovo = ovo_model.predict(X_test)\n",
        "\n",
        "print(\"One-vs-One (OvO) Multiclass Accuracy:\", accuracy_score(y_test, y_pred_ovo))\n"
      ]
    },
    {
      "cell_type": "code",
      "execution_count": 24,
      "metadata": {
        "colab": {
          "base_uri": "https://localhost:8080/",
          "height": 449
        },
        "id": "dVicyr1mI0fi",
        "outputId": "63489abe-d064-46bb-8187-b8942c29085e"
      },
      "outputs": [
        {
          "data": {
            "image/png": "[encoded data removed]",
            "text/plain": [
              "<Figure size 640x480 with 2 Axes>"
            ]
          },
          "metadata": {},
          "output_type": "display_data"
        }
      ],
      "source": [
        "# 11. Write a Python program to train a Logistic Regression model and visualize the confusion matrix for binary classification.\n",
        "\n",
        "from sklearn.datasets import load_iris\n",
        "from sklearn.linear_model import LogisticRegression\n",
        "from sklearn.model_selection import train_test_split\n",
        "from sklearn.metrics import confusion_matrix, ConfusionMatrixDisplay\n",
        "import matplotlib.pyplot as plt\n",
        "\n",
        "data = load_iris()\n",
        "X, y = data.data, data.target\n",
        "y_binary = (y == 0).astype(int)\n",
        "\n",
        "X_train, X_test, y_train, y_test = train_test_split(X, y_binary, test_size=0.3, random_state=42)\n",
        "\n",
        "model = LogisticRegression()\n",
        "model.fit(X_train, y_train)\n",
        "y_pred = model.predict(X_test)\n",
        "\n",
        "cm = confusion_matrix(y_test, y_pred)\n",
        "disp = ConfusionMatrixDisplay(confusion_matrix=cm)\n",
        "disp.plot()\n",
        "plt.show()\n"
      ]
    },
    {
      "cell_type": "code",
      "execution_count": 25,
      "metadata": {
        "colab": {
          "base_uri": "https://localhost:8080/"
        },
        "id": "-riXpdYsI0We",
        "outputId": "d43e651f-839d-4c1c-9bca-ada3a509fe03"
      },
      "outputs": [
        {
          "name": "stdout",
          "output_type": "stream",
          "text": [
            "Precision: 1.0\n",
            "Recall: 1.0\n",
            "F1-Score: 1.0\n"
          ]
        }
      ],
      "source": [
        "# 12. Write a Python program to train a Logistic Regression model and evaluate its performance using Precision, Recall, and F1-Score.\n",
        "\n",
        "from sklearn.metrics import precision_score, recall_score, f1_score\n",
        "\n",
        "precision = precision_score(y_test, y_pred)\n",
        "recall = recall_score(y_test, y_pred)\n",
        "f1 = f1_score(y_test, y_pred)\n",
        "\n",
        "print(\"Precision:\", precision)\n",
        "print(\"Recall:\", recall)\n",
        "print(\"F1-Score:\", f1)\n"
      ]
    },
    {
      "cell_type": "code",
      "execution_count": 26,
      "metadata": {
        "colab": {
          "base_uri": "https://localhost:8080/"
        },
        "id": "QsUcshFDI0N4",
        "outputId": "8dff1688-1117-4bac-8148-d0f5f3e7e8bc"
      },
      "outputs": [
        {
          "name": "stdout",
          "output_type": "stream",
          "text": [
            "Accuracy with class weights: 1.0\n"
          ]
        }
      ],
      "source": [
        "# 13. Write a Python program to train a Logistic Regression model on imbalanced data and apply class weights to improve model performance.\n",
        "\n",
        "from sklearn.datasets import make_classification\n",
        "\n",
        "X, y = make_classification(n_classes=2, class_sep=2, weights=[0.9, 0.1], n_informative=3, n_redundant=0, flip_y=0, n_features=5, n_clusters_per_class=1, n_samples=1000, random_state=42)\n",
        "\n",
        "X_train, X_test, y_train, y_test = train_test_split(X, y, test_size=0.3, random_state=42)\n",
        "\n",
        "model_weighted = LogisticRegression(class_weight='balanced')\n",
        "model_weighted.fit(X_train, y_train)\n",
        "y_pred_weighted = model_weighted.predict(X_test)\n",
        "\n",
        "print(\"Accuracy with class weights:\", accuracy_score(y_test, y_pred_weighted))\n",
        "\n"
      ]
    },
    {
      "cell_type": "code",
      "execution_count": 27,
      "metadata": {
        "colab": {
          "base_uri": "https://localhost:8080/"
        },
        "id": "ZxU7DSARI0De",
        "outputId": "6ff5ac2a-a88b-4814-d497-8e504171d84c"
      },
      "outputs": [
        {
          "name": "stdout",
          "output_type": "stream",
          "text": [
            "Titanic Dataset Accuracy: 0.8097014925373134\n"
          ]
        }
      ],
      "source": [
        "# 14. Write a Python program to train Logistic Regression on the Titanic dataset, handle missing values, and evaluate performance.\n",
        "\n",
        "import pandas as pd\n",
        "from sklearn.model_selection import train_test_split\n",
        "from sklearn.linear_model import LogisticRegression\n",
        "from sklearn.metrics import accuracy_score\n",
        "\n",
        "# Load Titanic dataset\n",
        "url = 'https://raw.githubusercontent.com/datasciencedojo/datasets/master/titanic.csv'\n",
        "df = pd.read_csv(url)\n",
        "\n",
        "# Feature selection and preprocessing\n",
        "df['Age'].fillna(df['Age'].mean(), inplace=True)\n",
        "df['Embarked'].fillna(df['Embarked'].mode()[0], inplace=True)\n",
        "\n",
        "df = df.drop(['Name', 'Ticket', 'Cabin', 'PassengerId'], axis=1)\n",
        "df = pd.get_dummies(df, drop_first=True)\n",
        "\n",
        "X = df.drop('Survived', axis=1)\n",
        "y = df['Survived']\n",
        "\n",
        "X_train, X_test, y_train, y_test = train_test_split(X, y, test_size=0.3, random_state=42)\n",
        "\n",
        "model = LogisticRegression(max_iter=1000)\n",
        "model.fit(X_train, y_train)\n",
        "\n",
        "print(\"Titanic Dataset Accuracy:\", model.score(X_test, y_test))\n"
      ]
    },
    {
      "cell_type": "code",
      "execution_count": 28,
      "metadata": {
        "colab": {
          "base_uri": "https://localhost:8080/"
        },
        "id": "-oSUtfQPIz6o",
        "outputId": "32e318cc-5c92-4802-f0c5-208230664517"
      },
      "outputs": [
        {
          "name": "stdout",
          "output_type": "stream",
          "text": [
            "Accuracy without scaling: 0.8097014925373134\n",
            "Accuracy with scaling: 0.8097014925373134\n"
          ]
        }
      ],
      "source": [
        "# 15. Write a Python program to apply feature scaling (Standardization) before training a Logistic Regression model.\n",
        "# Evaluate its accuracy and compare results with and without scaling.\n",
        "\n",
        "from sklearn.preprocessing import StandardScaler\n",
        "\n",
        "# Without scaling\n",
        "model_no_scaling = LogisticRegression(max_iter=1000)\n",
        "model_no_scaling.fit(X_train, y_train)\n",
        "acc_no_scaling = model_no_scaling.score(X_test, y_test)\n",
        "\n",
        "# With scaling\n",
        "scaler = StandardScaler()\n",
        "X_train_scaled = scaler.fit_transform(X_train)\n",
        "X_test_scaled = scaler.transform(X_test)\n",
        "\n",
        "model_scaling = LogisticRegression(max_iter=1000)\n",
        "model_scaling.fit(X_train_scaled, y_train)\n",
        "acc_scaling = model_scaling.score(X_test_scaled, y_test)\n",
        "\n",
        "print(\"Accuracy without scaling:\", acc_no_scaling)\n",
        "print(\"Accuracy with scaling:\", acc_scaling)\n"
      ]
    },
    {
      "cell_type": "code",
      "execution_count": 16,
      "metadata": {
        "colab": {
          "base_uri": "https://localhost:8080/"
        },
        "id": "HZRd2t5NIzy4",
        "outputId": "8844e990-aa10-437d-9691-4e1a62dc85e5"
      },
      "outputs": [
        {
          "name": "stdout",
          "output_type": "stream",
          "text": [
            "ROC-AUC Score: 0.8804728295174155\n"
          ]
        }
      ],
      "source": [
        "# 16. Write a Python program to train Logistic Regression and evaluate its performance using ROC-AUC score.\n",
        "\n",
        "from sklearn.metrics import roc_auc_score\n",
        "\n",
        "y_pred_prob = model.predict_proba(X_test)[:, 1]\n",
        "roc_auc = roc_auc_score(y_test, y_pred_prob)\n",
        "\n",
        "print(\"ROC-AUC Score:\", roc_auc)\n"
      ]
    },
    {
      "cell_type": "code",
      "execution_count": 30,
      "metadata": {
        "colab": {
          "base_uri": "https://localhost:8080/"
        },
        "id": "KkM9OWdoIzqI",
        "outputId": "49ade761-44fc-427d-ab98-e0cfdc4803db"
      },
      "outputs": [
        {
          "name": "stdout",
          "output_type": "stream",
          "text": [
            "Accuracy with C=0.5: 1.0\n"
          ]
        }
      ],
      "source": [
        "# 17. Write a Python program to train Logistic Regression using a custom learning rate (C=0.5) and evaluate accuracy.\n",
        "\n",
        "from sklearn.linear_model import LogisticRegression\n",
        "from sklearn.model_selection import train_test_split\n",
        "from sklearn.datasets import load_iris\n",
        "from sklearn.metrics import accuracy_score\n",
        "from sklearn.preprocessing import StandardScaler\n",
        "\n",
        "data = load_iris()\n",
        "X, y = data.data, data.target\n",
        "y_binary = (y == 0).astype(int)\n",
        "\n",
        "X_train, X_test, y_train, y_test = train_test_split(X, y_binary, test_size=0.3, random_state=42)\n",
        "\n",
        "# Scale the features\n",
        "scaler = StandardScaler()\n",
        "X_train = scaler.fit_transform(X_train)\n",
        "X_test = scaler.transform(X_test)\n",
        "\n",
        "model_cust = LogisticRegression(C=0.5, max_iter=1000)\n",
        "model_cust.fit(X_train, y_train)\n",
        "\n",
        "accuracy = model_cust.score(X_test, y_test)\n",
        "print(\"Accuracy with C=0.5:\", accuracy)"
      ]
    },
    {
      "cell_type": "code",
      "execution_count": 32,
      "metadata": {
        "colab": {
          "base_uri": "https://localhost:8080/"
        },
        "id": "OrJJsbHuIzhk",
        "outputId": "e4d43a92-ccf0-47c4-83af-9752463be603"
      },
      "outputs": [
        {
          "name": "stdout",
          "output_type": "stream",
          "text": [
            "Feature Importance:\n",
            "sepal width (cm)     0.966541\n",
            "sepal length (cm)   -0.821750\n",
            "petal width (cm)    -1.241644\n",
            "petal length (cm)   -1.358033\n",
            "dtype: float64\n"
          ]
        }
      ],
      "source": [
        "# 18. Write a Python program to train Logistic Regression and identify important features based on model coefficients.\n",
        "import pandas as pd\n",
        "from sklearn.linear_model import LogisticRegression\n",
        "from sklearn.model_selection import train_test_split\n",
        "from sklearn.datasets import load_iris\n",
        "from sklearn.preprocessing import StandardScaler\n",
        "\n",
        "data = load_iris()\n",
        "X, y = data.data, data.target\n",
        "y_binary = (y == 0).astype(int)\n",
        "\n",
        "feature_names = data.feature_names\n",
        "X = pd.DataFrame(X, columns=feature_names)\n",
        "\n",
        "X_train, X_test, y_train, y_test = train_test_split(X, y_binary, test_size=0.3, random_state=42)\n",
        "\n",
        "scaler = StandardScaler()\n",
        "X_train = scaler.fit_transform(X_train)\n",
        "X_test = scaler.transform(X_test)\n",
        "\n",
        "model_cust = LogisticRegression(C=0.5, max_iter=1000)\n",
        "model_cust.fit(X_train, y_train)\n",
        "\n",
        "feature_importance = pd.Series(model_cust.coef_[0], index=X.columns)\n",
        "print(\"Feature Importance:\")\n",
        "print(feature_importance.sort_values(ascending=False))"
      ]
    },
    {
      "cell_type": "code",
      "execution_count": 33,
      "metadata": {
        "id": "ZoqABLiCIzZV"
      },
      "outputs": [
        {
          "name": "stdout",
          "output_type": "stream",
          "text": [
            "Cohen's Kappa Score: 1.0\n"
          ]
        }
      ],
      "source": [
        "# 19. Write a Python program to train Logistic Regression and evaluate its performance using Cohen’s Kappa Score.\n",
        "\n",
        "from sklearn.metrics import cohen_kappa_score\n",
        "\n",
        "y_pred_cust = model_cust.predict(X_test)\n",
        "kappa = cohen_kappa_score(y_test, y_pred_cust)\n",
        "\n",
        "print(\"Cohen's Kappa Score:\", kappa)\n"
      ]
    },
    {
      "cell_type": "code",
      "execution_count": 51,
      "metadata": {
        "colab": {
          "base_uri": "https://localhost:8080/",
          "height": 472
        },
        "id": "t5fZgM2tIzQZ",
        "outputId": "59872908-433a-4ccc-e028-2de69b4deca4"
      },
      "outputs": [
        {
          "data": {
            "image/png": "[encoded data removed]",
            "text/plain": [
              "<Figure size 640x480 with 1 Axes>"
            ]
          },
          "metadata": {},
          "output_type": "display_data"
        }
      ],
      "source": [
        "# 20. Write a Python program to train Logistic Regression and visualize the Precision-Recall Curve for binary classification.\n",
        "import pandas as pd\n",
        "from sklearn.linear_model import LogisticRegression\n",
        "from sklearn.model_selection import train_test_split\n",
        "from sklearn.datasets import load_iris\n",
        "from sklearn.preprocessing import StandardScaler\n",
        "from sklearn.metrics import precision_recall_curve\n",
        "import matplotlib.pyplot as plt\n",
        "\n",
        "data = load_iris()\n",
        "X, y = data.data, data.target\n",
        "y_binary = (y == 0).astype(int)\n",
        "\n",
        "feature_names = data.feature_names\n",
        "X = pd.DataFrame(X, columns=feature_names)\n",
        "\n",
        "X_train, X_test, y_train, y_test = train_test_split(X, y_binary, test_size=0.3, random_state=42)\n",
        "\n",
        "scaler = StandardScaler()\n",
        "X_train = scaler.fit_transform(X_train)\n",
        "X_test = scaler.transform(X_test)\n",
        "\n",
        "model_cust = LogisticRegression(C=0.5, max_iter=1000)\n",
        "model_cust.fit(X_train, y_train)\n",
        "\n",
        "y_pred_prob = model_cust.predict_proba(X_test)[:, 1]\n",
        "\n",
        "precision, recall, thresholds = precision_recall_curve(y_test, y_pred_prob)\n",
        "\n",
        "plt.plot(recall, precision, marker='.')\n",
        "plt.xlabel('Recall')\n",
        "plt.ylabel('Precision')\n",
        "plt.title('Precision-Recall Curve')\n",
        "plt.show()\n"
      ]
    },
    {
      "cell_type": "code",
      "execution_count": 37,
      "metadata": {
        "colab": {
          "base_uri": "https://localhost:8080/"
        },
        "id": "5d7xNUgkIzI5",
        "outputId": "2988ab2a-0f81-44ab-c74d-929e7a5d6407"
      },
      "outputs": [
        {
          "name": "stdout",
          "output_type": "stream",
          "text": [
            "Solver: liblinear -> Accuracy: 1.0\n",
            "Solver: saga -> Accuracy: 1.0\n",
            "Solver: lbfgs -> Accuracy: 1.0\n"
          ]
        }
      ],
      "source": [
        "# 21. Write a Python program to train Logistic Regression with different solvers (liblinear, saga, lbfgs) and compare their accuracy.\n",
        "\n",
        "solvers = ['liblinear', 'saga', 'lbfgs']\n",
        "\n",
        "for solver in solvers:\n",
        "    model_solver = LogisticRegression(solver=solver, max_iter=5000)\n",
        "    model_solver.fit(X_train, y_train)\n",
        "    acc_solver = model_solver.score(X_test, y_test)\n",
        "    print(f\"Solver: {solver} -> Accuracy: {acc_solver}\")\n"
      ]
    },
    {
      "cell_type": "code",
      "execution_count": 39,
      "metadata": {
        "colab": {
          "base_uri": "https://localhost:8080/"
        },
        "id": "iOdGzTLsIzAF",
        "outputId": "287481ed-e982-47b3-ab67-1dbe867b5fdb"
      },
      "outputs": [
        {
          "name": "stdout",
          "output_type": "stream",
          "text": [
            "Matthews Correlation Coefficient (MCC): 1.0\n"
          ]
        }
      ],
      "source": [
        "# 22. Write a Python program to train Logistic Regression and evaluate its performance using Matthews Correlation Coefficient (MCC).\n",
        "import pandas as pd\n",
        "from sklearn.linear_model import LogisticRegression\n",
        "from sklearn.model_selection import train_test_split\n",
        "from sklearn.datasets import load_iris\n",
        "from sklearn.preprocessing import StandardScaler\n",
        "from sklearn.metrics import matthews_corrcoef\n",
        "\n",
        "data = load_iris()\n",
        "X, y = data.data, data.target\n",
        "y_binary = (y == 0).astype(int)\n",
        "\n",
        "feature_names = data.feature_names\n",
        "X = pd.DataFrame(X, columns=feature_names)\n",
        "\n",
        "X_train, X_test, y_train, y_test = train_test_split(X, y_binary, test_size=0.3, random_state=42)\n",
        "\n",
        "scaler = StandardScaler()\n",
        "X_train = scaler.fit_transform(X_train)\n",
        "X_test = scaler.transform(X_test)\n",
        "\n",
        "model = LogisticRegression(C=0.5, max_iter=1000)\n",
        "model.fit(X_train, y_train)\n",
        "\n",
        "y_pred_solver = model.predict(X_test)\n",
        "mcc = matthews_corrcoef(y_test, y_pred_solver)\n",
        "\n",
        "print(\"Matthews Correlation Coefficient (MCC):\", mcc)"
      ]
    },
    {
      "cell_type": "code",
      "execution_count": 47,
      "metadata": {
        "colab": {
          "base_uri": "https://localhost:8080/"
        },
        "id": "GoDlPEc-Iy3D",
        "outputId": "599dda33-a81a-41d8-90c0-73d237202772"
      },
      "outputs": [
        {
          "name": "stdout",
          "output_type": "stream",
          "text": [
            "Accuracy on Raw Data: 1.0\n",
            "Accuracy on Standardized Data: 1.0\n"
          ]
        }
      ],
      "source": [
        "# 23. Write a Python program to train Logistic Regression on both raw and standardized data.\n",
        "# Compare their accuracy to see the impact of feature scaling.\n",
        "\n",
        "# (Already covered earlier in scaling question - here summarize)\n",
        "\n",
        "import pandas as pd\n",
        "from sklearn.linear_model import LogisticRegression\n",
        "from sklearn.model_selection import train_test_split\n",
        "from sklearn.datasets import load_iris\n",
        "from sklearn.preprocessing import StandardScaler\n",
        "from sklearn.metrics import accuracy_score\n",
        "\n",
        "data = load_iris()\n",
        "X, y = data.data, data.target\n",
        "y_binary = (y == 0).astype(int)\n",
        "\n",
        "feature_names = data.feature_names\n",
        "X = pd.DataFrame(X, columns=feature_names)\n",
        "\n",
        "X_train, X_test, y_train, y_test = train_test_split(X, y_binary, test_size=0.3, random_state=42)\n",
        "\n",
        "# Train on raw data\n",
        "model_raw = LogisticRegression(C=0.5, max_iter=1000)\n",
        "model_raw.fit(X_train, y_train)\n",
        "y_pred_raw = model_raw.predict(X_test)\n",
        "accuracy_raw = accuracy_score(y_test, y_pred_raw)\n",
        "\n",
        "# Standardize the data\n",
        "scaler = StandardScaler()\n",
        "X_train_scaled = scaler.fit_transform(X_train)\n",
        "X_test_scaled = scaler.transform(X_test)\n",
        "\n",
        "# Train on standardized data\n",
        "model_scaled = LogisticRegression(C=0.5, max_iter=1000)\n",
        "model_scaled.fit(X_train_scaled, y_train)\n",
        "y_pred_scaled = model_scaled.predict(X_test_scaled)\n",
        "accuracy_scaled = accuracy_score(y_test, y_pred_scaled)\n",
        "\n",
        "print(\"Accuracy on Raw Data:\", accuracy_raw)\n",
        "print(\"Accuracy on Standardized Data:\", accuracy_scaled)"
      ]
    },
    {
      "cell_type": "code",
      "execution_count": 48,
      "metadata": {
        "colab": {
          "base_uri": "https://localhost:8080/"
        },
        "id": "ligPYIR5Iysq",
        "outputId": "6459ba43-b8a3-4cee-b0a8-2035612502a3"
      },
      "outputs": [
        {
          "name": "stdout",
          "output_type": "stream",
          "text": [
            "Best C value: {'C': 0.1}\n"
          ]
        }
      ],
      "source": [
        "# 24. Write a Python program to train Logistic Regression and find the optimal C (regularization strength) using cross-validation.\n",
        "\n",
        "from sklearn.model_selection import GridSearchCV\n",
        "\n",
        "param_grid_c = {'C': [0.001, 0.01, 0.1, 1, 10, 100]}\n",
        "\n",
        "grid_c = GridSearchCV(LogisticRegression(max_iter=1000), param_grid_c, cv=5)\n",
        "grid_c.fit(X_train, y_train)\n",
        "\n",
        "print(\"Best C value:\", grid_c.best_params_)\n"
      ]
    },
    {
      "cell_type": "code",
      "execution_count": 49,
      "metadata": {
        "colab": {
          "base_uri": "https://localhost:8080/"
        },
        "id": "TyYnU4k3Iyje",
        "outputId": "78e2092d-ab91-45b3-cd93-32fd7ed8d652"
      },
      "outputs": [
        {
          "name": "stdout",
          "output_type": "stream",
          "text": [
            "Loaded Model Accuracy: 1.0\n"
          ]
        }
      ],
      "source": [
        "# 25. Write a Python program to train Logistic Regression, save the trained model using joblib, and load it again to make predictions.\n",
        "\n",
        "import joblib\n",
        "\n",
        "# Train and save\n",
        "model_save = LogisticRegression(max_iter=1000)\n",
        "model_save.fit(X_train, y_train)\n",
        "joblib.dump(model_save, 'logistic_model.pkl')\n",
        "\n",
        "# Load and predict\n",
        "loaded_model = joblib.load('logistic_model.pkl')\n",
        "print(\"Loaded Model Accuracy:\", loaded_model.score(X_test, y_test))\n"
      ]
    }
  ],
  "metadata": {
    "colab": {
      "collapsed_sections": [
        "7rkrcgOoGafa"
      ],
      "provenance": []
    },
    "kernelspec": {
      "display_name": "Python 3",
      "name": "python3"
    },
    "language_info": {
      "codemirror_mode": {
        "name": "ipython",
        "version": 3
      },
      "file_extension": ".py",
      "mimetype": "text/x-python",
      "name": "python",
      "nbconvert_exporter": "python",
      "pygments_lexer": "ipython3",
      "version": "3.11.0"
    }
  },
  "nbformat": 4,
  "nbformat_minor": 0
}
