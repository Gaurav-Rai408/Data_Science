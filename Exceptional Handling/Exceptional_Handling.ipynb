{
  "nbformat": 4,
  "nbformat_minor": 0,
  "metadata": {
    "colab": {
      "provenance": []
    },
    "kernelspec": {
      "name": "python3",
      "display_name": "Python 3"
    },
    "language_info": {
      "name": "python"
    }
  },
  "cells": [
    {
      "cell_type": "markdown",
      "source": [
        "# Files, exceptional handling,logging and memory management questions\n",
        "\n",
        "\n",
        "\n"
      ],
      "metadata": {
        "id": "3eLa-axIYQG1"
      }
    },
    {
      "cell_type": "markdown",
      "source": [
        "# 1. What is the difference between interpreted and compiled languages?\n",
        "Compiled Languages: Translated to machine code before execution, generally faster, errors caught at compile time.\n",
        "\n",
        "Interpreted Languages: Executed line-by-line at runtime, generally slower, errors caught at runtime."
      ],
      "metadata": {
        "id": "CatbGtCIYkJW"
      }
    },
    {
      "cell_type": "markdown",
      "source": [
        "# 2. What is exception handling in Python?\n",
        "Exception handling in Python is a mechanism that allows developers to manage errors and exceptional conditions that may occur during the execution of a program. Instead of crashing the program when an error occurs, exception handling provides a way to gracefully handle the error, allowing the program to continue running or to terminate in a controlled manner."
      ],
      "metadata": {
        "id": "JD2aRfBUY_C2"
      }
    },
    {
      "cell_type": "markdown",
      "source": [
        "# 3. What is the purpose of the finally block in exception handling?\n",
        "The finally block in exception handling in Python is used to define a section of code that will always be executed, regardless of whether an exception was raised or not in the preceding try block. This makes it particularly useful for cleanup actions that need to occur regardless of the outcome of the try-except logic."
      ],
      "metadata": {
        "id": "wl1a7gBFZSB9"
      }
    },
    {
      "cell_type": "markdown",
      "source": [
        "# 4. What is logging in Python?\n",
        "Logging in Python is a way to track events that happen when your software runs. It provides a means to record messages that can help developers understand the flow of a program, diagnose issues, and monitor the application's behavior over time. The built-in 'logging' module in Python offers a flexible framework for emitting log messages from Python programs."
      ],
      "metadata": {
        "id": "C0G5EZw3Zq3q"
      }
    },
    {
      "cell_type": "markdown",
      "source": [
        "# 5. What is the significance of the __del__ method in Python0 ?\n",
        "The '__del__ 'method in Python is a special method, also known as a destructor, that is called when an object is about to be destroyed. It is part of Python's object-oriented programming model and is used to define cleanup actions that should be performed when an object is no longer needed."
      ],
      "metadata": {
        "id": "apy6X0vkaGl3"
      }
    },
    {
      "cell_type": "markdown",
      "source": [
        "# 6. What is the difference between import and from ... import in Python ?\n",
        "import module_name: Imports the entire module, requiring you to use the module name to access its contents.\n",
        "\n",
        "from module_name import specific_item: Imports specific items from a module, allowing you to access them directly without the module name prefix."
      ],
      "metadata": {
        "id": "r59yvY1RaV-r"
      }
    },
    {
      "cell_type": "markdown",
      "source": [
        "# 7. How can you handle multiple exceptions in Python?\n",
        "In Python, you can handle multiple exceptions using several approaches. This allows you to manage different types of errors that may arise during the execution of your code. Here are the most common methods for handling multiple exceptions:\n",
        "1. Multiple except Blocks :\n",
        "You can specify multiple except blocks to handle different exceptions separately. This allows you to define specific handling logic for each type of exception.\n",
        "\n",
        "\n",
        "```\n",
        "try:\n",
        "    # Code that may raise an exception\n",
        "    value = int(input(\"Enter a number: \"))\n",
        "    result = 10 / value\n",
        "except ValueError:\n",
        "    print(\"That's not a valid number!\")\n",
        "except ZeroDivisionError:\n",
        "    print(\"You cannot divide by zero!\")\n",
        "```\n",
        "2. Single except Block for Multiple Exceptions :\n",
        "You can also handle multiple exceptions in a single except block by specifying a tuple of exception types. This is useful when you want to execute the same handling logic for different exceptions.\n",
        "\n",
        "```\n",
        "try:\n",
        "    # Code that may raise an exception\n",
        "    value = int(input(\"Enter a number: \"))\n",
        "    result = 10 / value\n",
        "except (ValueError, ZeroDivisionError) as e:\n",
        "    print(f\"An error occurred: {e}\")\n",
        "\n",
        "```\n",
        "\n",
        "3. Catching All Exceptions :\n",
        "If you want to catch all exceptions, you can use a bare except clause. However, this is generally discouraged because it can make debugging difficult and may catch unexpected exceptions.\n",
        "\n",
        "\n",
        "```\n",
        "try:\n",
        "    # Code that may raise an exception\n",
        "    value = int(input(\"Enter a number: \"))\n",
        "    result = 10 / value\n",
        "except Exception as e:  # Catching all exceptions\n",
        "    print(f\"An error occurred: {e}\")\n",
        "```\n",
        "\n",
        "4. Using else and finally with Exception Handling :\n",
        "You can also use else and finally blocks in conjunction with try and except to manage exceptions more effectively.\n",
        "\n",
        "else Block: The code inside the else block runs if the try block does not raise an exception.\n",
        "\n",
        "finally Block: The code inside the finally block runs regardless of whether an exception occurred or not. This is useful for cleanup actions.\n",
        "\n",
        "\n",
        "\n",
        "```\n",
        "try:\n",
        "    value = int(input(\"Enter a number: \"))\n",
        "    result = 10 / value\n",
        "except (ValueError, ZeroDivisionError) as e:\n",
        "    print(f\"An error occurred: {e}\")\n",
        "else:\n",
        "    print(f\"The result is {result}\")\n",
        "finally:\n",
        "    print(\"Execution completed.\")\n",
        "\n",
        "```\n",
        "\n"
      ],
      "metadata": {
        "id": "O7yhjqgcbV9B"
      }
    },
    {
      "cell_type": "markdown",
      "source": [
        "# 8. What is the purpose of the with statement when handling files in Python?\n",
        "The 'with' statement in Python is used to wrap the execution of a block of code within methods defined by a context manager. When handling files, the with statement provides a convenient and efficient way to manage file resources, ensuring that files are properly opened and closed, even if an error occurs during file operations."
      ],
      "metadata": {
        "id": "_YiCbGHRfov_"
      }
    },
    {
      "cell_type": "markdown",
      "source": [
        "# 9. What is the difference between multithreading and multiprocessing?\n",
        "Multithreading: This involves multiple threads within a single process. Threads share the same memory space and resources of the process, allowing for lightweight context switching and communication between threads.\n",
        "\n",
        "Multiprocessing: This involves multiple processes, each with its own memory space and resources. Processes are independent and do not share memory, which can lead to more overhead in terms of inter-process communication."
      ],
      "metadata": {
        "id": "3fmzTtDshFih"
      }
    },
    {
      "cell_type": "markdown",
      "source": [
        "# 10. What are the advantages of using logging in a program?\n",
        "logging is a powerful tool that enhances the reliability, maintainability, and observability of software applications. It aids in debugging, monitoring, auditing, and understanding application behavior, making it an essential practice for developers and system administrators. By implementing a robust logging strategy, teams can improve their ability to diagnose issues, optimize performance, and ensure the overall health of their applications."
      ],
      "metadata": {
        "id": "iy3e3Z-3hfVt"
      }
    },
    {
      "cell_type": "markdown",
      "source": [
        "# 11. What is memory management in Python?\n",
        "Memory management in Python refers to the process of allocating, using, and freeing memory during the execution of a Python program. Python has a built-in memory management system that handles memory allocation and deallocation automatically, allowing developers to focus on writing code without worrying about low-level memory management details."
      ],
      "metadata": {
        "id": "4Y1qUBojh3nJ"
      }
    },
    {
      "cell_type": "markdown",
      "source": [
        "# 12. What are the basic steps involved in exception handling in Python?\n",
        "By following these steps, you can effectively manage exceptions in your Python programs, leading to more robust and error-resistant code.\n",
        "\n",
        "Identify: Determine which code may raise exceptions.\n",
        "\n",
        "Try Block: Wrap the code in a try block.\n",
        "\n",
        "Except Blocks: Use except blocks to handle specific exceptions.\n",
        "\n",
        "Else Block: Optionally, use an else block for code that runs if no exceptions occur.\n",
        "\n",
        "Finally Block: Optionally, use a finally block for cleanup code that runs regardless of exceptions.\n",
        "\n",
        "Raise Exceptions: Optionally, use raise to trigger exceptions manually."
      ],
      "metadata": {
        "id": "h-2zl78LiEtA"
      }
    },
    {
      "cell_type": "markdown",
      "source": [
        "# 13. Why is memory management important in Python?\n",
        "Memory management is crucial in Python for several reasons, including resource efficiency, performance optimization, stability, ease of development, scalability, cross-platform compatibility, and security."
      ],
      "metadata": {
        "id": "2FhPATPnjAQY"
      }
    },
    {
      "cell_type": "markdown",
      "source": [
        "# 14. What is the role of try and except in exception handling?\n",
        "\n",
        "try Block: Used to wrap code that may raise exceptions. It allows you to monitor for errors during execution.\n",
        "\n",
        "except Block: Used to define how to handle specific exceptions raised in the try block. It allows for graceful error handling and recovery.\n"
      ],
      "metadata": {
        "id": "KVGv3yYwjXvN"
      }
    },
    {
      "cell_type": "markdown",
      "source": [
        "# 15. How does Python's garbage collection system work?\n",
        "Python's garbage collection system primarily uses a combination of \"reference counting\" and \"generational garbage collection\" to automatically identify and reclaim memory occupied by objects that are no longer referenced in the program."
      ],
      "metadata": {
        "id": "YsJU3g3bjtAT"
      }
    },
    {
      "cell_type": "markdown",
      "source": [
        "# 16. What is the purpose of the else block in exception handling?\n",
        "In Python's exception handling mechanism, the else block is used in conjunction with the try and except blocks. Its primary purpose is to define a section of code that should run only if the code in the try block does not raise any exceptions. This allows for a clear separation of normal execution flow from error handling."
      ],
      "metadata": {
        "id": "NizQgRfHkjoH"
      }
    },
    {
      "cell_type": "markdown",
      "source": [
        "# 17. What are the common logging levels in Python?\n",
        "DEBUG :\n",
        "Numeric Value: 10\n",
        "Description: Detailed information for diagnosing problems.\n",
        "\n",
        "INFO :\n",
        "Numeric Value: 20\n",
        "Description: General information about application progress.\n",
        "\n",
        "WARNING :\n",
        "Numeric Value: 30\n",
        "Description: Indicates something unexpected or potential issues.\n",
        "\n",
        "ERROR :\n",
        "Numeric Value: 40\n",
        "Description: A serious problem that prevented a function from executing.\n",
        "\n",
        "CRITICAL :\n",
        "Numeric Value: 50\n",
        "Description: A very serious error that may prevent the program from continuing."
      ],
      "metadata": {
        "id": "XNyvEeMBlcZ4"
      }
    },
    {
      "cell_type": "markdown",
      "source": [
        "# 18. What is the difference between os.fork() and multiprocessing in Python?\n",
        "| Feature            | os.fork() | multiprocessing |\n",
        "|-------------------|------------|-------------------|\n",
        "| **Platform**         | Unix only (Linux, macOS) | Cross-platform (Windows, Linux, macOS) |\n",
        "| **Ease of Use**      | Low-level (manual handling of parent/child logic) | High-level API for process management |\n",
        "| **Process Communication** | No built-in communication | Provides Queues, Pipes, Shared Memory |\n",
        "| **Memory**           | Copies process memory (but separate spaces) | Separate memory space for each process |\n",
        "| **Best For**         | Simple process creation in Unix systems | Complex multiprocessing tasks (CPU-bound) |\n",
        "\n"
      ],
      "metadata": {
        "id": "wACMi_FrqEFM"
      }
    },
    {
      "cell_type": "markdown",
      "source": [
        "# 19. What is the importance of closing a file in Python?\n",
        "Closing a file in Python is crucial for resource management, data integrity, avoiding memory leaks, preventing file locking issues, reducing errors, and following best practices. Using the with statement is a recommended approach to ensure files are closed properly."
      ],
      "metadata": {
        "id": "uB9vnDqXsSXb"
      }
    },
    {
      "cell_type": "markdown",
      "source": [
        "# 20. What is the difference between file.read() and file.readline() in Python?\n",
        "file.read(): Reads the entire file content as a single string; suitable for smaller files.\n",
        "file.readline(): Reads one line at a time; suitable for larger files and line-by-line processing."
      ],
      "metadata": {
        "id": "pew16sKIskcs"
      }
    },
    {
      "cell_type": "markdown",
      "source": [
        "# 21. What is the logging module in Python used for?\n",
        " The logging module in Python is used for tracking events, debugging, monitoring application performance, and managing error handling. It provides a flexible and configurable framework for generating log messages, making it an essential tool for developers to maintain and improve their applications."
      ],
      "metadata": {
        "id": "rLs_AA8as3B1"
      }
    },
    {
      "cell_type": "markdown",
      "source": [
        "# 22. What is the os module in Python used for in file handling?\n",
        "The 'os' module in Python is used for various file handling tasks, including creating and removing files and directories, manipulating file paths, changing the current working directory, listing directory contents, accessing environment variables, and executing system commands. It provides a comprehensive set of tools for interacting with the operating system and managing files effectively."
      ],
      "metadata": {
        "id": "zHrmH3u-tJ-B"
      }
    },
    {
      "cell_type": "markdown",
      "source": [
        "# 23. What are the challenges associated with memory management in Python?\n",
        "While Python's memory management system simplifies many aspects of memory handling, it also presents challenges such as memory leaks, circular references, fragmentation, performance overhead, limited control, object lifetime management, monitoring difficulties, and compatibility issues with C extensions."
      ],
      "metadata": {
        "id": "LIxXv5tVtixi"
      }
    },
    {
      "cell_type": "markdown",
      "source": [
        "# 24. How do you raise an exception manually in Python?\n",
        " You can raise an exception manually using the raise statement. This allows you to trigger an exception intentionally, which can be useful for error handling, validation, or signaling that something unexpected has occurred in your code."
      ],
      "metadata": {
        "id": "QEOfxRdAuKxV"
      }
    },
    {
      "cell_type": "markdown",
      "source": [
        "# 25. Why is it important to use multithreading in certain applications?\n",
        "Multithreading is important in certain applications because it improves responsiveness, allows concurrent execution of tasks, enhances CPU utilization, facilitates resource sharing, and enables asynchronous operations. It is particularly beneficial in scenarios where applications need to handle multiple tasks simultaneously, such as in user interfaces, web servers, and data processing applications."
      ],
      "metadata": {
        "id": "1Y4G0MXDu91f"
      }
    },
    {
      "cell_type": "markdown",
      "source": [
        "**Practical Questions**"
      ],
      "metadata": {
        "id": "NetLQctWRobc"
      }
    },
    {
      "cell_type": "code",
      "source": [
        "#How can you open a file for writing in Python and write a string to it?\n",
        "with open('example.txt', 'w') as file:\n",
        "    file.write(\"Hello, world!\")"
      ],
      "metadata": {
        "id": "orAmJ9faRwgl"
      },
      "execution_count": null,
      "outputs": []
    },
    {
      "cell_type": "code",
      "source": [
        "# Write a Python program to read the contents of a file and print each line?\n",
        "file_name = 'example.txt'\n",
        "\n",
        "with open(file_name, 'r') as file:\n",
        "    for line in file:\n",
        "        print(line.strip())"
      ],
      "metadata": {
        "id": "MKCD34DfSEmB"
      },
      "execution_count": null,
      "outputs": []
    },
    {
      "cell_type": "code",
      "source": [
        "# How would you handle a case where the file doesn't exist while trying to open it for reading\n",
        "\n",
        "file_name = 'example.txt'\n",
        "\n",
        "try:\n",
        "    # Attempt to open the file for reading\n",
        "    with open(file_name, 'r') as file:\n",
        "\n",
        "        for line in file:\n",
        "            print(line.strip())\n",
        "except FileNotFoundError:\n",
        "    # Handle the case where the file does not exist\n",
        "    print(f\"The file '{file_name}' does not exist. Please check the file name and try again.\")\n",
        "except Exception as e:\n",
        "    # Handle any other exceptions that may occur\n",
        "    print(f\"An error occurred: {e}\")"
      ],
      "metadata": {
        "id": "-YfeA2ncSlaJ"
      },
      "execution_count": null,
      "outputs": []
    },
    {
      "cell_type": "code",
      "source": [
        "# Write a Python script that reads from one file and writes its content to another file\n",
        "\n",
        "input_file_name = 'input.txt'\n",
        "output_file_name = 'output.txt'\n",
        "\n",
        "try:\n",
        "\n",
        "    with open(input_file_name, 'r') as input_file:\n",
        "\n",
        "        with open(output_file_name, 'w') as output_file:\n",
        "            for line in input_file:\n",
        "                output_file.write(line)\n",
        "\n",
        "    print(f\"Contents of '{input_file_name}' have been written to '{output_file_name}'.\")\n",
        "\n",
        "except FileNotFoundError:\n",
        "    print(f\"The file '{input_file_name}' does not exist. Please check the file name and try again.\")\n",
        "except Exception as e:\n",
        "    print(f\"An error occurred: {e}\")"
      ],
      "metadata": {
        "id": "0GhMFMazTGlL"
      },
      "execution_count": null,
      "outputs": []
    },
    {
      "cell_type": "code",
      "source": [
        "# How would you catch and handle division by zero error in Python\n",
        "def divide(a, b):\n",
        "    try:\n",
        "        result = a / b\n",
        "        return result\n",
        "    except ZeroDivisionError:\n",
        "        print(\"Error: Division by zero is not allowed.\")\n",
        "        return None\n",
        "\n",
        "numerator = 10\n",
        "denominator = 0\n",
        "\n",
        "result = divide(numerator, denominator)\n",
        "\n",
        "if result is not None:\n",
        "    print(f\"The result is: {result}\")\n",
        "else:\n",
        "    print(\"No result due to division by zero.\")"
      ],
      "metadata": {
        "id": "_Jswhx5TTlIo"
      },
      "execution_count": null,
      "outputs": []
    },
    {
      "cell_type": "code",
      "source": [
        "# Write a Python program that logs an error message to a log file when a division by zero exception occurs\n",
        "import logging\n",
        "\n",
        "logging.basicConfig(\n",
        "    filename='error.log',\n",
        "    level=logging.ERROR,\n",
        "    format='%(asctime)s - %(levelname)s - %(message)s'\n",
        ")\n",
        "\n",
        "def divide(a, b):\n",
        "    try:\n",
        "        result = a / b\n",
        "        return result\n",
        "    except ZeroDivisionError:\n",
        "        # Log the error message to the log file\n",
        "        logging.error(\"Division by zero error: Attempted to divide %s by %s\", a, b)\n",
        "        return None  # Return None to indicate an error\n",
        "\n",
        "\n",
        "numerator = 10\n",
        "denominator = 0\n",
        "\n",
        "\n",
        "result = divide(numerator, denominator)\n",
        "\n",
        "if result is not None:\n",
        "    print(f\"The result is: {result}\")\n",
        "else:\n",
        "    print(\"No result due to division by zero. Check the log file for details.\")"
      ],
      "metadata": {
        "id": "5o4cTnJyT2OY"
      },
      "execution_count": null,
      "outputs": []
    },
    {
      "cell_type": "code",
      "source": [
        "#  How do you log information at different levels (INFO, ERROR, WARNING) in Python using the logging module?\n",
        "import logging\n",
        "\n",
        "logging.basicConfig(\n",
        "    filename='app.log',\n",
        "    level=logging.DEBUG,\n",
        "    format='%(asctime)s - %(levelname)s - %(message)s'\n",
        ")\n",
        "\n",
        "# Logging messages at different levels\n",
        "logging.debug(\"This is a debug message.\")  # Detailed information, typically for diagnosing problems\n",
        "logging.info(\"This is an info message.\")    # General information about the program's execution\n",
        "logging.warning(\"This is a warning message.\")  # An indication that something unexpected happened\n",
        "logging.error(\"This is an error message.\")    # An error occurred, but the program can continue running\n",
        "logging.critical(\"This is a critical message.\")  # A serious error, indicating that the program may not be able to continue"
      ],
      "metadata": {
        "id": "Q-IiBB8KUDy7"
      },
      "execution_count": null,
      "outputs": []
    },
    {
      "cell_type": "code",
      "source": [
        "# Write a program to handle a file opening error using exception handling\n",
        "def read_file(file_name):\n",
        "    try:\n",
        "\n",
        "        with open(file_name, 'r') as file:\n",
        "            content = file.read()\n",
        "            print(content)\n",
        "    except FileNotFoundError:\n",
        "\n",
        "        print(f\"Error: The file '{file_name}' does not exist. Please check the file name and try again.\")\n",
        "    except IOError:\n",
        "\n",
        "        print(f\"Error: An I/O error occurred while trying to read the file '{file_name}'.\")\n",
        "    except Exception as e:\n",
        "\n",
        "        print(f\"An unexpected error occurred: {e}\")\n",
        "\n",
        "\n",
        "file_name = 'example.txt'\n",
        "read_file(file_name)"
      ],
      "metadata": {
        "id": "J-4D4FDTUlLW"
      },
      "execution_count": null,
      "outputs": []
    },
    {
      "cell_type": "code",
      "source": [
        "#  How can you read a file line by line and store its content in a list in Python?\n",
        "def read_file_to_list(file_name):\n",
        "    lines = []\n",
        "    try:\n",
        "\n",
        "        with open(file_name, 'r') as file:\n",
        "\n",
        "            for line in file:\n",
        "                lines.append(line.strip())\n",
        "    except FileNotFoundError:\n",
        "        print(f\"Error: The file '{file_name}' does not exist.\")\n",
        "    except IOError:\n",
        "        print(f\"Error: An I/O error occurred while trying to read the file '{file_name}'.\")\n",
        "    except Exception as e:\n",
        "        print(f\"An unexpected error occurred: {e}\")\n",
        "\n",
        "    return lines\n",
        "\n",
        "\n",
        "file_name = 'example.txt'\n",
        "lines_list = read_file_to_list(file_name)\n",
        "\n",
        "\n",
        "print(\"Contents of the file:\")\n",
        "for line in lines_list:\n",
        "    print(line)"
      ],
      "metadata": {
        "id": "TZwq2Fx6Uvb0"
      },
      "execution_count": null,
      "outputs": []
    },
    {
      "cell_type": "code",
      "source": [
        "# How can you append data to an existing file in Python?\n",
        "def append_to_file(file_name, data):\n",
        "    try:\n",
        "\n",
        "        with open(file_name, 'a') as file:\n",
        "            file.write(data + '\\n')\n",
        "        print(f\"Data appended to '{file_name}' successfully.\")\n",
        "    except IOError:\n",
        "        print(f\"Error: An I/O error occurred while trying to append to the file '{file_name}'.\")\n",
        "    except Exception as e:\n",
        "        print(f\"An unexpected error occurred: {e}\")\n",
        "\n",
        "\n",
        "file_name = 'example.txt'\n",
        "data_to_append = \"This is a new line of text.\"\n",
        "append_to_file(file_name, data_to_append)"
      ],
      "metadata": {
        "id": "0xIa4hQqVR15"
      },
      "execution_count": null,
      "outputs": []
    },
    {
      "cell_type": "code",
      "source": [
        "# Write a Python program that uses a try-except block to handle an error when attempting to access a\n",
        "#dictionary key that doesn't exist\n",
        "def access_dictionary_key(my_dict, key):\n",
        "    try:\n",
        "\n",
        "        value = my_dict[key]\n",
        "        print(f\"The value for the key '{key}' is: {value}\")\n",
        "    except KeyError:\n",
        "        print(f\"Error: The key '{key}' does not exist in the dictionary.\")\n",
        "\n",
        "my_dict = {\n",
        "    'name': 'Alice',\n",
        "    'age': 30,\n",
        "    'city': 'New York'\n",
        "}\n",
        "\n",
        "access_dictionary_key(my_dict, 'name')\n",
        "\n",
        "access_dictionary_key (my_dict, 'country')"
      ],
      "metadata": {
        "id": "YaAB384_VjIU"
      },
      "execution_count": null,
      "outputs": []
    },
    {
      "cell_type": "code",
      "source": [
        "# Write a program that demonstrates using multiple except blocks to handle different types of exceptions\n",
        "def perform_operations():\n",
        "    try:\n",
        "        # Get user input for two numbers\n",
        "        num1 = float(input(\"Enter the first number: \"))\n",
        "        num2 = float(input(\"Enter the second number: \"))\n",
        "\n",
        "        # Perform division\n",
        "        result = num1 / num2\n",
        "        print(f\"The result of {num1} divided by {num2} is: {result}\")\n",
        "\n",
        "        # Attempt to convert a string to an integer (this will raise a ValueError if input is not a valid integer)\n",
        "        int_value = int(input(\"Enter a number to convert to integer: \"))\n",
        "        print(f\"The integer value is: {int_value}\")\n",
        "\n",
        "    except ValueError:\n",
        "        print(\"Error: Invalid input. Please enter a valid number.\")\n",
        "    except ZeroDivisionError:\n",
        "        print(\"Error: Division by zero is not allowed.\")\n",
        "    except TypeError:\n",
        "        print(\"Error: Type mismatch. Please ensure you are using the correct types.\")\n",
        "    except Exception as e:\n",
        "        print(f\"An unexpected error occurred: {e}\")\n",
        "\n",
        "# Example usage\n",
        "perform_operations()"
      ],
      "metadata": {
        "id": "wLIrVGD3WAvZ"
      },
      "execution_count": null,
      "outputs": []
    },
    {
      "cell_type": "code",
      "source": [
        "# How would you check if a file exists before attempting to read it in Python\n",
        "import os\n",
        "\n",
        "def read_file(file_name):\n",
        "    if os.path.exists(file_name):\n",
        "        with open(file_name, 'r') as file:\n",
        "            content = file.read()\n",
        "            print(content)\n",
        "    else:\n",
        "        print(f\"Error: The file '{file_name}' does not exist.\")\n",
        "\n",
        "# Example usage\n",
        "file_name = 'example.txt'\n",
        "read_file(file_name)"
      ],
      "metadata": {
        "id": "rXRY58CJWSJE"
      },
      "execution_count": null,
      "outputs": []
    },
    {
      "cell_type": "code",
      "source": [
        "# Write a program that uses the logging module to log both informational and error messages\n",
        "import logging\n",
        "\n",
        "logging.basicConfig(\n",
        "    filename='app.log',\n",
        "    level=logging.DEBUG,\n",
        "    format='%(asctime)s - %(levelname)s - %(message)s'\n",
        ")\n",
        "\n",
        "def divide_numbers(num1, num2):\n",
        "    logging.info(f\"Attempting to divide {num1} by {num2}.\")\n",
        "    try:\n",
        "        result = num1 / num2\n",
        "        logging.info(f\"The result of {num1} divided by {num2} is: {result}\")\n",
        "        return result\n",
        "    except ZeroDivisionError:\n",
        "        logging.error(f\"Error: Division by zero when trying to divide {num1} by {num2}.\")\n",
        "        return None\n",
        "    except Exception as e:\n",
        "        logging.error(f\"An unexpected error occurred: {e}\")\n",
        "        return None\n",
        "\n",
        "\n",
        "if __name__ == \"__main__\":\n",
        "    divide_numbers(10, 2)\n",
        "    divide_numbers(10, 0)\n",
        "    divide_numbers(10, 'a')"
      ],
      "metadata": {
        "id": "IOI7nn02Wgph"
      },
      "execution_count": null,
      "outputs": []
    },
    {
      "cell_type": "code",
      "source": [
        "# Write a Python program that prints the content of a file and handles the case when the file is empty\n",
        "def print_file_content(file_name):\n",
        "    try:\n",
        "\n",
        "        with open(file_name, 'r') as file:\n",
        "            content = file.read()\n",
        "\n",
        "            if not content.strip():\n",
        "                print(f\"The file '{file_name}' is empty.\")\n",
        "            else:\n",
        "                print(f\"Contents of the file '{file_name}':\")\n",
        "                print(content)\n",
        "    except FileNotFoundError:\n",
        "        print(f\"Error: The file '{file_name}' does not exist.\")\n",
        "    except IOError:\n",
        "        print(f\"Error: An I/O error occurred while trying to read the file '{file_name}'.\")\n",
        "    except Exception as e:\n",
        "        print(f\"An unexpected error occurred: {e}\")\n",
        "\n",
        "\n",
        "file_name = 'example.txt'\n",
        "print_file_content(file_name)"
      ],
      "metadata": {
        "id": "DC4ou919XCJc"
      },
      "execution_count": null,
      "outputs": []
    },
    {
      "cell_type": "code",
      "source": [
        "# Demonstrate how to use memory profiling to check the memory usage of a small program?\n",
        "!pip install -U memory_profiler\n",
        "from memory_profiler import profile\n",
        "\n",
        "# Create a Python script to use memory profiling\n",
        "script_code = \"\"\"\n",
        "from memory_profiler import profile\n",
        "\n",
        "@profile\n",
        "def create_large_list():\n",
        "    # Create a large list\n",
        "    large_list = [i for i in range(1000000)]\n",
        "    return large_list\n",
        "\n",
        "@profile\n",
        "def main():\n",
        "    print(\"Creating a large list...\")\n",
        "    large_list = create_large_list()\n",
        "    print(\"List created.\")\n",
        "\n",
        "if __name__ == \"__main__\":\n",
        "    main()\n",
        "\"\"\"\n",
        "\n",
        "# Write the script to a file\n",
        "with open('memory_profile_script.py', 'w') as f:\n",
        "    f.write(script_code)\n",
        "\n",
        "# Run the script with memory profiling\n",
        "!python -m memory_profiler memory_profile_script.py"
      ],
      "metadata": {
        "id": "dH33jljLXWsK"
      },
      "execution_count": null,
      "outputs": []
    },
    {
      "cell_type": "code",
      "source": [
        "#  Write a Python program to create and write a list of numbers to a file, one number per line\n",
        "def write_numbers_to_file(file_name, numbers):\n",
        "    try:\n",
        "        # Open the file in write mode\n",
        "        with open(file_name, 'w') as file:\n",
        "            for number in numbers:\n",
        "                file.write(f\"{number}\\n\")  # Write each number followed by a newline\n",
        "        print(f\"Numbers written to '{file_name}' successfully.\")\n",
        "    except IOError:\n",
        "        print(f\"Error: An I/O error occurred while trying to write to the file '{file_name}'.\")\n",
        "\n",
        "# Example usage\n",
        "if __name__ == \"__main__\":\n",
        "    numbers_list = [1, 2, 3, 4, 5, 6, 7, 8, 9, 10]  # List of numbers to write\n",
        "    file_name = 'numbers.txt'  # Specify the name of the file\n",
        "    write_numbers_to_file(file_name, numbers_list)  # Call the function to write numbers to the file"
      ],
      "metadata": {
        "id": "yxLa05WyaLfZ"
      },
      "execution_count": null,
      "outputs": []
    },
    {
      "cell_type": "code",
      "source": [
        "# How would you implement a basic logging setup that logs to a file with rotation after 1MB\n",
        "import logging\n",
        "from logging.handlers import RotatingFileHandler\n",
        "\n",
        "# Create a logger\n",
        "logger = logging.getLogger(__name__)\n",
        "\n",
        "# Set the logging level\n",
        "logger.setLevel(logging.DEBUG)\n",
        "\n",
        "# Create a rotating file handler\n",
        "handler = RotatingFileHandler('app.log', maxBytes=1024*1024, backupCount=5)\n",
        "\n",
        "# Create a formatter and add it to the handler\n",
        "formatter = logging.Formatter('%(asctime)s - %(name)s - %(levelname)s - %(message)s')\n",
        "handler.setFormatter(formatter)\n",
        "\n",
        "# Add the handler to the logger\n",
        "logger.addHandler(handler)\n",
        "\n",
        "# Test the logger\n",
        "logger.debug('This is a debug message')\n",
        "logger.info('This is an info message')\n",
        "logger.warning('This is a warning message')\n",
        "logger.error('This is an error message')\n",
        "logger.critical('This is a critical message')"
      ],
      "metadata": {
        "id": "oie28kxnaifd"
      },
      "execution_count": null,
      "outputs": []
    },
    {
      "cell_type": "code",
      "source": [
        "# Write a program that handles both IndexError and KeyError using a try-except block\n",
        "def access_data(my_list, my_dict, list_index, dict_key):\n",
        "    try:\n",
        "        list_value = my_list[list_index]\n",
        "        print(f\"Value from list at index {list_index}: {list_value}\")\n",
        "\n",
        "        dict_value = my_dict[dict_key]\n",
        "        print(f\"Value from dictionary for key '{dict_key}': {dict_value}\")\n",
        "\n",
        "    except IndexError:\n",
        "        print(f\"Error: Index {list_index} is out of range for the list.\")\n",
        "    except KeyError:\n",
        "        print(f\"Error: Key '{dict_key}' does not exist in the dictionary.\")\n",
        "    except Exception as e:\n",
        "        print(f\"An unexpected error occurred: {e}\")\n",
        "\n",
        "if __name__ == \"__main__\":\n",
        "    my_list = [10, 20, 30, 40, 50]\n",
        "    my_dict = {'a': 1, 'b': 2, 'c': 3}\n",
        "    access_data(my_list, my_dict, 2, 'b')\n",
        "\n",
        "    access_data(my_list, my_dict, 10, 'b')\n",
        "    access_data(my_list, my_dict, 2, 'z')"
      ],
      "metadata": {
        "id": "f_w5gAm2aqmQ"
      },
      "execution_count": null,
      "outputs": []
    },
    {
      "cell_type": "code",
      "source": [
        "#  How would you open a file and read its contents using a context manager in Python?\n",
        "def read_file_contents(file_name):\n",
        "    try:\n",
        "        # Use a context manager to open the file\n",
        "        with open(file_name, 'r') as file:\n",
        "            content = file.read()  # Read the entire content of the file\n",
        "            return content\n",
        "    except FileNotFoundError:\n",
        "        print(f\"Error: The file '{file_name}' does not exist.\")\n",
        "    except IOError:\n",
        "        print(f\"Error: An I/O error occurred while trying to read the file '{file_name}'.\")\n",
        "    except Exception as e:\n",
        "        print(f\"An unexpected error occurred: {e}\")\n",
        "\n",
        "# Example usage\n",
        "if __name__ == \"__main__\":\n",
        "    file_name = 'example.txt'  # Specify the name of the file to read\n",
        "    contents = read_file_contents(file_name)  # Call the function to read the file\n",
        "    if contents is not None:\n",
        "        print(\"File Contents:\")\n",
        "        print(contents)  # Print the contents of the file"
      ],
      "metadata": {
        "id": "gm-UNhNabK_H"
      },
      "execution_count": null,
      "outputs": []
    },
    {
      "cell_type": "code",
      "source": [
        "#  Write a Python program that reads a file and prints the number of occurrences of a specific word\n",
        "def count_word_occurrences(file_name, word):\n",
        "    try:\n",
        "\n",
        "        with open(file_name, 'r') as file:\n",
        "            content = file.read()\n",
        "            words = content.split()\n",
        "            word_count = words.count(word.lower())\n",
        "            return word_count\n",
        "    except FileNotFoundError:\n",
        "        print(f\"Error: The file '{file_name}' does not exist.\")\n",
        "    except IOError:\n",
        "        print(f\"Error: An I/O error occurred while trying to read the file '{file_name}'.\")\n",
        "    except Exception as e:\n",
        "        print(f\"An unexpected error occurred: {e}\")\n",
        "\n",
        "\n",
        "if __name__ == \"__main__\":\n",
        "    file_name = 'example.txt'\n",
        "    word_to_count = 'the'\n",
        "    occurrences = count_word_occurrences(file_name, word_to_count)\n",
        "    if occurrences is not None:\n",
        "        print(f\"The word '{word_to_count}' occurs {occurrences} times in the file '{file_name}'.\")"
      ],
      "metadata": {
        "colab": {
          "base_uri": "https://localhost:8080/"
        },
        "id": "P-68d3FdbN6D",
        "outputId": "7901dabc-f65b-45f7-acb9-b92451aa2060"
      },
      "execution_count": null,
      "outputs": [
        {
          "output_type": "stream",
          "name": "stdout",
          "text": [
            "The word 'the' occurs 0 times in the file 'example.txt'.\n"
          ]
        }
      ]
    },
    {
      "cell_type": "code",
      "source": [
        "# How can you check if a file is empty before attempting to read its contents?\n",
        "import os\n",
        "\n",
        "def read_file_if_not_empty(file_name):\n",
        "    if os.path.exists(file_name) and os.path.getsize(file_name) > 0:\n",
        "        try:\n",
        "            with open(file_name, 'r') as file:\n",
        "                content = file.read()\n",
        "                print(\"File Contents:\")\n",
        "                print(content)\n",
        "        except IOError:\n",
        "            print(f\"Error: An I/O error occurred while trying to read the file '{file_name}'.\")\n",
        "    else:\n",
        "        if not os.path.exists(file_name):\n",
        "            print(f\"Error: The file '{file_name}' does not exist.\")\n",
        "        else:\n",
        "            print(f\"The file '{file_name}' is empty.\")\n",
        "\n",
        "if __name__ == \"__main__\":\n",
        "    file_name = 'example.txt'\n",
        "    read_file_if_not_empty(file_name)"
      ],
      "metadata": {
        "id": "ogxvfmbXbwgQ"
      },
      "execution_count": null,
      "outputs": []
    },
    {
      "cell_type": "code",
      "source": [
        "# Write a Python program that writes to a log file when an error occurs during file handling\n",
        "import logging\n",
        "\n",
        "logging.basicConfig(\n",
        "    filename='file_handling_errors.log',\n",
        "    level=logging.ERROR,\n",
        "    format='%(asctime)s - %(levelname)s - %(message)s'\n",
        ")\n",
        "\n",
        "def read_file(file_name):\n",
        "    try:\n",
        "        with open(file_name, 'r') as file:\n",
        "            content = file.read()\n",
        "            print(\"File Contents:\")\n",
        "            print(content)\n",
        "    except FileNotFoundError:\n",
        "        error_message = f\"Error: The file '{file_name}' does not exist.\"\n",
        "        print(error_message)\n",
        "        logging.error(error_message)\n",
        "    except IOError as e:\n",
        "        error_message = f\"Error: An I/O error occurred while trying to read the file '{file_name}': {e}\"\n",
        "        print(error_message)\n",
        "        logging.error(error_message)\n",
        "    except Exception as e:\n",
        "        error_message = f\"An unexpected error occurred: {e}\"\n",
        "        print(error_message)\n",
        "        logging.error(error_message)\n",
        "\n",
        "\n",
        "if __name__ == \"__main__\":\n",
        "    file_name = 'example.txt'\n",
        "    read_file(file_name)"
      ],
      "metadata": {
        "id": "NrDOEpDvcOTa"
      },
      "execution_count": null,
      "outputs": []
    }
  ]
}