{
  "nbformat": 4,
  "nbformat_minor": 0,
  "metadata": {
    "colab": {
      "provenance": []
    },
    "kernelspec": {
      "name": "python3",
      "display_name": "Python 3"
    },
    "language_info": {
      "name": "python"
    }
  },
  "cells": [
    {
      "cell_type": "markdown",
      "source": [
        "#Q1. What are data structures, and whywhy are they important?\n",
        "\n",
        "are they important?  \n",
        "Data structure are specialized formats for organizing,storing,and accesing collection of data.They provide efficient way to manage information based on its characteristics and intended use.\n",
        "\n",
        "\n",
        "*   choosing the right data structure significantly impacts the efficiency and performance of your program.\n",
        "*   Well chosen data structure can simply manipulate (add,remove,modify elements),optimize searching and sorting operation,conserve memory usage\n",
        "---\n",
        "#Q2. Explain the difference between mutable and immutable data types with examples?\n",
        "\n",
        "\n",
        "The difference between the mutable and immutale is whether the data can be modified after the creation or not . If modified then it is called mutable data types and if cannot change then it is called immutable data types.\n",
        "\n",
        "   \n",
        "\n",
        "*   Mutable data types are list,set, and  dictionary\n",
        "*   Immutable data types are tuple,int,string,float, and boolean.\n",
        "\n",
        "\n",
        "---\n",
        "\n",
        "\n",
        "\n",
        "#Q3. What are the main differences between lists and tuples in Python?\n",
        "\n",
        "The main differnce between list and tuples are how they are declared\n",
        "list are declared using [square bracket] and tuples are declared using (parentheses)\n",
        "\n",
        "---\n",
        "#Q4. Describe how dictionaries store data\n",
        "\n",
        "Dictionary is a data structure that store data in a key-value pair where keys are unique and immutable.\n",
        "\n",
        "---\n",
        "\n",
        "#Q5. Why might you use a set instead of a list in Python?\n",
        "\n",
        "I will use set insted of list because set don't allow for duplicate items like list. In set every element is unique , no element are repeated and using set we can also find the differnce , intersection between the sets.\n",
        "\n",
        "---\n",
        "#Q6. What is a string in Python, and how is it different from a list?\n",
        "String is a data structure in python .It is a sequence of characters enclosed within ('single') or (\"double\") quote and are immutable in nature and can only store characters whereas list can store  and type of element enclosed in [square bracket] and are mutable in nature.\n",
        "\n",
        "---\n",
        "#7. How do tuples ensure data integrity in Python?\n",
        "Tuple is a immutable datatype means once created then cannot be modified , due to this it prevents accidental modification of tuple and provide secure data storage that shouldn't be modified.\n",
        "\n",
        "---\n",
        "#Q8. What is a hash table, and how does it relate to dictionaries in Python?\n",
        "Hash table is the data structure that store data in key-value pair.similarly dictionaries also use key-value pair .The key dictionary passes through a hash function , which generate hash code for the corresponding value and are use to retrieve value using the hash code.\n",
        "\n",
        "---\n",
        "#Q9. Can lists contain different data types in Python?\n",
        "Yes , list can contain different data types like int,float,string,boolean value.\n",
        "\n",
        "---\n",
        "#Q10. Explain why strings are immutable in Python?\n",
        "String are immutable in python to enhance memory usage ,performance, safety and ease of use.\n",
        "\n",
        "---\n",
        "#Q11.  What advantages do dictionaries offer over lists for certain tasks?\n",
        "Dictionaries offer significant advantages over lists for tasks that require fast lookups,associative data storage,uniqueness of keys and semantic clarity.\n",
        "\n",
        "---\n",
        "#Q12. Describe a scenario where using a tuple would be preferable over a list?\n",
        "We can use tuple to store values that should not be change over time like storing the co-ordinate of a location as every place has its unique co-ordinate  and cannot be change over time.\n",
        "\n",
        "---\n",
        "#Q13. How do sets handle duplicate values in Python?\n",
        "Sets in python handle duplicate values by only allowing unique elements. when you try to add a duplicate , the set simply ignores it, ensuring that all elements remain distinct.\n",
        "\n",
        " ---\n",
        "\n",
        "#Q14. How does the “in” keyword work differently for lists and dictionaries?\n",
        "\n",
        "The in keyword in Python is used to check for membership, but it behaves differently when used with lists and dictionaries due to the underlying data structures and how they store their elements.\n",
        "* For Lists: The in keyword checks for the presence of a value and performs a sequential search, resulting in O(n) time complexity.\n",
        "* For Dictionaries: The in keyword checks for the presence of a key and performs a hash table lookup, resulting in O(1) average time complexity.\n",
        "\n",
        "---\n",
        "#Q15. Can you modify the elements of a tuple? Explain why or why not?\n",
        "No, you cannot modify the elements of a tuple in Python. This is because tuples are immutable data structures.\n",
        "\n",
        "---\n",
        "#Q16. What is a nested dictionary, and give an example of its use case?\n",
        "A nested dictionary in Python is a dictionary that contains other dictionaries as its values. This allows for the representation of complex data structures where each key can map to another dictionary, enabling a hierarchical organization of data.\n",
        "\n",
        "Use Case Example: Storing Student Information\n",
        "Consider a scenario where you want to store information about multiple students, including their names, ages, and grades in different subjects. A nested dictionary is an ideal way to represent this data.\n",
        "\n",
        "---\n",
        "#Q17. Describe the time complexity of accessing elements in a dictionary?\n",
        "The average time complexity for accessing elements in a Python dictionary is    O(1), making it a highly efficient data structure for key-value storage and retrieval. While the worst-case time complexity can be O(n) due to collisions.\n",
        "\n",
        "---\n",
        "#Q18. In what situations are lists preferred over dictionaries?\n",
        "Lists are preferred over dictionaries in situations where you need to maintain order, work with homogeneous collections, access elements by index, iterate over items, dynamically manage size, slice data, or when key-value associations are not necessary. Lists provide a simple and efficient way to handle collections of data in these scenarios.\n",
        "\n",
        "---\n",
        "#Q19. Why are dictionaries considered unordered, and how does that affect data retrieval?\n",
        "Dictionaries in Python are considered unordered collections because they do not maintain the order of elements based on the sequence in which they were added. Instead, dictionaries use a hash table to store key-value pairs, which allows for efficient access and retrieval but does not guarantee any specific order of the keys.\n",
        "\n",
        "---\n",
        "#Q20. Explain the difference between a list and a dictionary in terms of data retrieval?\n",
        "The key differences between lists and dictionaries in terms of data retrieval are:\n",
        "\n",
        "* Access Method: Lists use integer indices for access, while dictionaries use unique keys.\n",
        "* Order: Lists maintain the order of elements, while dictionaries are unordered (though they preserve insertion order in Python 3.7 and later).\n",
        "* Use Cases: Lists are used for ordered collections, while dictionaries are used for key-value associations.\n",
        "\n",
        "---"
      ],
      "metadata": {
        "id": "Uw2SXx7J8aAR"
      }
    },
    {
      "cell_type": "code",
      "source": [
        "#1.Write a code to create a string with your name and print it\n",
        "my_name=input(\"Enter ypur name: \")\n",
        "print(my_name)"
      ],
      "metadata": {
        "id": "MsWlJqotKp_t",
        "colab": {
          "base_uri": "https://localhost:8080/"
        },
        "outputId": "6c17eebb-c650-4289-e66f-986fe74ef47e"
      },
      "execution_count": null,
      "outputs": [
        {
          "output_type": "stream",
          "name": "stdout",
          "text": [
            "Enter ypur name: gaurav\n",
            "gaurav\n"
          ]
        }
      ]
    },
    {
      "cell_type": "code",
      "source": [
        "#2. Write a code to find the length of the string \"Hello World\"\n",
        "str_langth=(\"Hello world\")\n",
        "print(len(str_langth))"
      ],
      "metadata": {
        "colab": {
          "base_uri": "https://localhost:8080/"
        },
        "id": "Gh2xJGr2aqwZ",
        "outputId": "f2ea2216-8443-4d64-f549-cf9192cece5f"
      },
      "execution_count": null,
      "outputs": [
        {
          "output_type": "stream",
          "name": "stdout",
          "text": [
            "11\n"
          ]
        }
      ]
    },
    {
      "cell_type": "code",
      "source": [
        "#3. Write a code to slice the first 3 characters from the string \"Python Programming\"\n",
        "a=\"Python Programming\"\n",
        "print(a[:3])"
      ],
      "metadata": {
        "colab": {
          "base_uri": "https://localhost:8080/"
        },
        "id": "QqISfvNHaq-G",
        "outputId": "45808a6f-5000-4df8-f202-0d37606d7e01"
      },
      "execution_count": null,
      "outputs": [
        {
          "output_type": "stream",
          "name": "stdout",
          "text": [
            "Pyt\n"
          ]
        }
      ]
    },
    {
      "cell_type": "code",
      "source": [
        "#4. Write a code to convert the string \"hello\" to uppercase\n",
        "text=\"hello\"\n",
        "print(text.upper())"
      ],
      "metadata": {
        "colab": {
          "base_uri": "https://localhost:8080/"
        },
        "id": "eAEs9xAecu45",
        "outputId": "67b02de1-2d42-4696-94ea-9960e47c4673"
      },
      "execution_count": null,
      "outputs": [
        {
          "output_type": "stream",
          "name": "stdout",
          "text": [
            "HELLO\n"
          ]
        }
      ]
    },
    {
      "cell_type": "code",
      "source": [
        "#5. Write a code to replace the word \"apple\" with \"orange\" in the string \"I like apple\"\n",
        "string=\"I like apple\"\n",
        "a=string.replace(\"apple\",\"orange\")\n",
        "print(a)"
      ],
      "metadata": {
        "colab": {
          "base_uri": "https://localhost:8080/"
        },
        "id": "371GHiWBcu1s",
        "outputId": "b288fd33-b5f5-49f7-8409-bb3865bcfce1"
      },
      "execution_count": null,
      "outputs": [
        {
          "output_type": "stream",
          "name": "stdout",
          "text": [
            "I like orange\n"
          ]
        }
      ]
    },
    {
      "cell_type": "code",
      "source": [
        "#6. Write a code to create a list with numbers 1 to 5 and print it\n",
        "a=[]\n",
        "for i in range(1,6):\n",
        "  a.append(i)\n",
        "print(a)"
      ],
      "metadata": {
        "colab": {
          "base_uri": "https://localhost:8080/"
        },
        "id": "uhSDmYXicuyn",
        "outputId": "ff11866a-587c-4c5d-9491-de2e20ecf907"
      },
      "execution_count": null,
      "outputs": [
        {
          "output_type": "stream",
          "name": "stdout",
          "text": [
            "[1, 2, 3, 4, 5]\n"
          ]
        }
      ]
    },
    {
      "cell_type": "code",
      "source": [
        "#7 Write a code to append the number 10 to the list [1, 2, 3, 4]\n",
        "lst=[1, 2, 3, 4]\n",
        "lst.append(10)\n",
        "print(lst)"
      ],
      "metadata": {
        "colab": {
          "base_uri": "https://localhost:8080/"
        },
        "id": "g1Y66htIcuuB",
        "outputId": "81fc57ed-3e7e-47f3-c740-552501348ce0"
      },
      "execution_count": null,
      "outputs": [
        {
          "output_type": "stream",
          "name": "stdout",
          "text": [
            "[1, 2, 3, 4, 10]\n"
          ]
        }
      ]
    },
    {
      "cell_type": "code",
      "source": [
        "#8. Write a code to remove the number 3 from the list [1, 2, 3, 4, 5]\n",
        "lst=[1, 2, 3, 4, 5]\n",
        "lst.remove(3)\n",
        "print(lst)"
      ],
      "metadata": {
        "colab": {
          "base_uri": "https://localhost:8080/"
        },
        "id": "sdgC0TEqcun8",
        "outputId": "0b4ac4a4-5758-4bc2-b68c-e1b4d1a0221d"
      },
      "execution_count": null,
      "outputs": [
        {
          "output_type": "stream",
          "name": "stdout",
          "text": [
            "[1, 2, 4, 5]\n"
          ]
        }
      ]
    },
    {
      "cell_type": "code",
      "source": [
        "#9. Write a code to access the second element in the list ['a', 'b', 'c', 'd']\n",
        "lst=['a', 'b', 'c', 'd']\n",
        "print(lst[1])"
      ],
      "metadata": {
        "colab": {
          "base_uri": "https://localhost:8080/"
        },
        "id": "3E72Tk2-haNp",
        "outputId": "e0f32a9f-3383-46c3-f539-907c437f3892"
      },
      "execution_count": null,
      "outputs": [
        {
          "output_type": "stream",
          "name": "stdout",
          "text": [
            "b\n"
          ]
        }
      ]
    },
    {
      "cell_type": "code",
      "source": [
        "#10. Write a code to reverse the list [10, 20, 30, 40, 50]\n",
        "lst=[10, 20, 30, 40, 50]\n",
        "rev=lst[::-1]\n",
        "print(rev)"
      ],
      "metadata": {
        "colab": {
          "base_uri": "https://localhost:8080/"
        },
        "id": "jdCbY3cUhaQW",
        "outputId": "a8c92daf-84ee-4daf-c4a0-900430fded31"
      },
      "execution_count": null,
      "outputs": [
        {
          "output_type": "stream",
          "name": "stdout",
          "text": [
            "[50, 40, 30, 20, 10]\n"
          ]
        }
      ]
    },
    {
      "cell_type": "code",
      "source": [
        "#11.  Write a code to create a tuple with the elements 10, 20, 30 and print it.\n",
        "n=(10,20,30)\n",
        "print(n)\n",
        "\n"
      ],
      "metadata": {
        "colab": {
          "base_uri": "https://localhost:8080/"
        },
        "id": "PK8PZ_MVhaWp",
        "outputId": "88021f94-b0a6-4b2b-eade-4f09b71c683d"
      },
      "execution_count": null,
      "outputs": [
        {
          "output_type": "stream",
          "name": "stdout",
          "text": [
            "(10, 20, 30)\n"
          ]
        }
      ]
    },
    {
      "cell_type": "code",
      "source": [
        "#12. Write a code to access the first element of the tuple ('apple', 'banana', 'cherry').\n",
        "tup=('apple', 'banana', 'cherry')\n",
        "tup[0]"
      ],
      "metadata": {
        "colab": {
          "base_uri": "https://localhost:8080/",
          "height": 36
        },
        "id": "3SazPIAGQEeA",
        "outputId": "24f84a57-7ec3-4306-b4d7-9a0d18025132"
      },
      "execution_count": null,
      "outputs": [
        {
          "output_type": "execute_result",
          "data": {
            "text/plain": [
              "'apple'"
            ],
            "application/vnd.google.colaboratory.intrinsic+json": {
              "type": "string"
            }
          },
          "metadata": {},
          "execution_count": 87
        }
      ]
    },
    {
      "cell_type": "code",
      "source": [
        "\n",
        "#13. Write a code to count how many times the number 2 appears in the tuple (1, 2, 3, 2, 4, 2).\n",
        "a=(1, 2, 3, 2, 4, 2)\n",
        "# a.count(2)\n",
        "count=0\n",
        "for num in a:\n",
        "  if num==2:\n",
        "    count+=1\n",
        "print(count)"
      ],
      "metadata": {
        "colab": {
          "base_uri": "https://localhost:8080/"
        },
        "id": "DlH17YyDQEgp",
        "outputId": "61e8675c-69ce-4711-954c-25404236737f"
      },
      "execution_count": null,
      "outputs": [
        {
          "output_type": "stream",
          "name": "stdout",
          "text": [
            "3\n"
          ]
        }
      ]
    },
    {
      "cell_type": "code",
      "source": [
        "#14. Write a code to find the index of the element \"cat\" in the tuple ('dog', 'cat', 'rabbit').\n",
        "idn=('dog', 'cat', 'rabbit')\n",
        "idn.index('cat')"
      ],
      "metadata": {
        "colab": {
          "base_uri": "https://localhost:8080/"
        },
        "id": "-F6uYs-AQEjM",
        "outputId": "de04b645-d6fa-4946-f638-101921b3e5ea"
      },
      "execution_count": null,
      "outputs": [
        {
          "output_type": "execute_result",
          "data": {
            "text/plain": [
              "1"
            ]
          },
          "metadata": {},
          "execution_count": 89
        }
      ]
    },
    {
      "cell_type": "code",
      "source": [
        "#15. Write a code to check if the element \"banana\" is in the tuple ('apple', 'orange', 'banana').\n",
        "check=('apple', 'orange', 'banana')\n",
        "ban=\"banana\"\n",
        "if ban in check:\n",
        "  print(\"yes,banana is present in the tuple check\")"
      ],
      "metadata": {
        "colab": {
          "base_uri": "https://localhost:8080/"
        },
        "id": "smZ6JkbvQEmg",
        "outputId": "12ac4e5c-a9a0-4b45-d9c1-31a878015414"
      },
      "execution_count": null,
      "outputs": [
        {
          "output_type": "stream",
          "name": "stdout",
          "text": [
            "yes,banana is present in the tuple check\n"
          ]
        }
      ]
    },
    {
      "cell_type": "code",
      "source": [
        "#16. Write a code to create a set with the elements 1, 2, 3, 4, 5 and print it.\n",
        "my_set={1, 2, 3, 4, 5}\n",
        "print(my_set)"
      ],
      "metadata": {
        "colab": {
          "base_uri": "https://localhost:8080/"
        },
        "id": "vXZQOMPnVh6H",
        "outputId": "2ec61ce7-57a9-4176-8ca3-89b20f119dcc"
      },
      "execution_count": null,
      "outputs": [
        {
          "output_type": "stream",
          "name": "stdout",
          "text": [
            "{1, 2, 3, 4, 5}\n"
          ]
        }
      ]
    },
    {
      "cell_type": "code",
      "source": [
        "#17. Write a code to add the element 6 to the set{1, 2, 3, 4}. .\n",
        "sett={1, 2, 3, 4}\n",
        "sett.add(6)\n",
        "print(sett)"
      ],
      "metadata": {
        "colab": {
          "base_uri": "https://localhost:8080/"
        },
        "id": "o97B0GPwVh8v",
        "outputId": "9209cd65-61e6-40c2-9e02-2a2da0f50700"
      },
      "execution_count": null,
      "outputs": [
        {
          "output_type": "stream",
          "name": "stdout",
          "text": [
            "{1, 2, 3, 4, 6}\n"
          ]
        }
      ]
    },
    {
      "cell_type": "code",
      "source": [
        "#18. Write a code to create a tuple with the elements 10, 20, 30 and print it.\n",
        "n=(10,20,30)\n",
        "print(n)"
      ],
      "metadata": {
        "colab": {
          "base_uri": "https://localhost:8080/"
        },
        "id": "6JGoTwB6Vh_j",
        "outputId": "81335306-9f8b-4796-8cb1-6de1118535dc"
      },
      "execution_count": null,
      "outputs": [
        {
          "output_type": "stream",
          "name": "stdout",
          "text": [
            "(10, 20, 30)\n"
          ]
        }
      ]
    },
    {
      "cell_type": "code",
      "source": [
        "#19. Write a code to access the first element of the tuple ('apple', 'banana', 'cherry').\n",
        "first_element=('apple', 'banana', 'cherry')\n",
        "print(first_element[0])"
      ],
      "metadata": {
        "colab": {
          "base_uri": "https://localhost:8080/"
        },
        "id": "HBKKO6ZPViCI",
        "outputId": "bf997cc2-9691-4e34-b13f-b4dba66505c8"
      },
      "execution_count": null,
      "outputs": [
        {
          "output_type": "stream",
          "name": "stdout",
          "text": [
            "apple\n"
          ]
        }
      ]
    },
    {
      "cell_type": "code",
      "source": [
        "#20. Write a code to count how many times the number 2 appears in the tuple (1, 2, 3, 2, 4, 2).\n",
        "num=(1, 2, 3, 2, 4, 2)\n",
        "count=0\n",
        "for i in num:\n",
        "  if i==2:\n",
        "    count+=1\n",
        "print(count)"
      ],
      "metadata": {
        "colab": {
          "base_uri": "https://localhost:8080/"
        },
        "id": "jK2TLzQGViEj",
        "outputId": "6169d332-40b4-4ccc-83d8-5a68600352af"
      },
      "execution_count": null,
      "outputs": [
        {
          "output_type": "stream",
          "name": "stdout",
          "text": [
            "3\n"
          ]
        }
      ]
    },
    {
      "cell_type": "code",
      "source": [
        "#21. Write a code to find the index of the element \"cat\" in the tuple ('dog', 'cat', 'rabbit').\n",
        "ind=('dog', 'cat', 'rabbit')\n",
        "ind.index(\"cat\")"
      ],
      "metadata": {
        "colab": {
          "base_uri": "https://localhost:8080/"
        },
        "id": "FelIdRBBViHQ",
        "outputId": "d54600d4-5174-45f4-cea9-511d00311f38"
      },
      "execution_count": null,
      "outputs": [
        {
          "output_type": "execute_result",
          "data": {
            "text/plain": [
              "1"
            ]
          },
          "metadata": {},
          "execution_count": 96
        }
      ]
    },
    {
      "cell_type": "code",
      "source": [
        "#22. Write a code to check if the element \"banana\" is in the tuple ('apple', 'orange', 'banana').\n",
        "tup=('apple', 'orange', 'banana')\n",
        "check=\"banana\"\n",
        "if check in tup:\n",
        "  print(\"yes, banana is present in the tuple\")\n",
        "else:\n",
        "  print(\"banana is not present in the tuple.\")"
      ],
      "metadata": {
        "colab": {
          "base_uri": "https://localhost:8080/"
        },
        "id": "JQGWb54XViKP",
        "outputId": "19d3d6f1-6087-4abe-e7ed-ddafdb99f531"
      },
      "execution_count": null,
      "outputs": [
        {
          "output_type": "stream",
          "name": "stdout",
          "text": [
            "yes, banana is present in the tuple\n"
          ]
        }
      ]
    },
    {
      "cell_type": "code",
      "source": [
        "#23. Write a code to create a set with the elements 1, 2, 3, 4, 5 and print it.\n",
        "my_set={1, 2, 3, 4, 5}\n",
        "print(my_set)"
      ],
      "metadata": {
        "colab": {
          "base_uri": "https://localhost:8080/"
        },
        "id": "UKZFCBfFaR40",
        "outputId": "739837fe-33e5-4a6a-8509-a7ef53c5fd3a"
      },
      "execution_count": null,
      "outputs": [
        {
          "output_type": "stream",
          "name": "stdout",
          "text": [
            "{1, 2, 3, 4, 5}\n"
          ]
        }
      ]
    },
    {
      "cell_type": "code",
      "source": [
        "#24. Write a code to add the element 6 to the set {1, 2, 3, 4}.\n",
        "add_to_set={1, 2, 3, 4}\n",
        "add_to_set.add(6)\n",
        "print(add_to_set)"
      ],
      "metadata": {
        "colab": {
          "base_uri": "https://localhost:8080/"
        },
        "id": "bpZYu2EEaR7o",
        "outputId": "0600432c-75ad-42ad-f28f-6f89542c19db"
      },
      "execution_count": null,
      "outputs": [
        {
          "output_type": "stream",
          "name": "stdout",
          "text": [
            "{1, 2, 3, 4, 6}\n"
          ]
        }
      ]
    },
    {
      "cell_type": "code",
      "source": [],
      "metadata": {
        "id": "qzSPuo--aR-x"
      },
      "execution_count": null,
      "outputs": []
    }
  ]
}