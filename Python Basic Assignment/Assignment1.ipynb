{
  "cells": [
    {
      "cell_type": "markdown",
      "metadata": {
        "id": "U9mS4mIuVUEy"
      },
      "source": [
        "Q1. What is Python, and why is it popular?\n",
        "\n",
        "Python is general purpose interpreted,interactive ,object oriented and high\n",
        "level programming language.python is popular due to various reasons like\n",
        "\n",
        "-Easy-to-learn,easy-to-read and easy-to-maintain\n",
        "\n",
        "-Large number of standard library\n",
        "\n",
        "-Portable\n",
        "\n",
        "-Interface to major commercial database\n",
        "\n",
        "---\n",
        "\n",
        "Q2. What is an interpreter in Python?\n",
        "\n",
        "Python interpretor is a computer program that read and execute python code line by line.\n",
        "\n",
        "---\n",
        "\n",
        "Q3. What are pre-defined keywords in Python?\n",
        "\n",
        "Pre-defined keywords are special reserved words which convey  a special meaning to the interpreter.**Keywords are False,True,None,and,as, assert,async,await,break,class,continue,def,del,elif,else,except,finally,for,from,global,if,import,in,is,lambda,nonlocal,not,or,pass,raise,return,try,while,with,yield.**\n",
        "\n",
        "\n",
        "---\n",
        "\n",
        "Q4.Can keywords be used as variable names?\n",
        "\n",
        "No, keywords cannot be used as a variable because keywords are reserved words with special meaning and purpose in a programming language.\n",
        "\n",
        "\n",
        "---\n",
        "\n",
        "\n",
        "Q5. What is mutability in Python ?\n",
        "\n",
        "Mutabilty in python is ability of the object to  change after it is created.\n",
        "This means that you can change or alter data or attribute without creating the new object.\n",
        "\n",
        "---\n",
        "\n",
        "\n",
        "Q6. Why are lists mutable, but tuples are immutable?\n",
        "\n",
        "Mutable means the ability to change after creation and in python  list has the\n",
        "property to change after its creation  while tuple does not have any property like this.\n",
        "\n",
        "---\n",
        "\n",
        "Q7. What is the difference between “==” and “is” operators in Python?\n",
        "\n",
        "'==' opertor checks whether the value of two object are same or not if same , then return Ture otherwise False whereas 'is' operator checks the memory location of the object ,if same return True otherwise False.\n",
        "\n",
        "---\n",
        "Q8. What are logical operators in Python?\n",
        "\n",
        "AND,OR , and NOT are the logical operators in python.\n",
        "\n",
        "-AND operator will return True if both condition is true .If anyone of the conditon is False , it return False.\n",
        "\n",
        "-OR operator will retuen True if anyone of the condition is True . If both the condition is false then only it will return False othwise True.\n",
        "\n",
        "-NOT operator will always return the opposite of the actual answer i.e if answer is true it will return false and vice versa.\n",
        "\n",
        "\n",
        "\n",
        "---\n",
        "\n",
        "Q9. What is type casting in Python?\n",
        "\n",
        "In python type casting refer to the process of converting one datatype to another datatype like int to string, bool to int ,etc.\n",
        "\n",
        "\n",
        "\n",
        "---\n",
        "\n",
        "\n",
        "Q10. What is the difference between implicit and explicit type casting?\n",
        "\n",
        "\n",
        "In implicit type casting python will automatically convert form one datatype to another while in explicit type conversion , individual will convert the datatype using buit-in functions.\n",
        "\n",
        "\n",
        "---\n",
        "\n",
        "\n",
        "\n",
        "Q11. What is the purpose of conditional statements in Python?\n",
        "\n",
        "The purpose of the conditional statements is python is to execute the block of code based on condition i.e if the condition is true it'll execute the true block or else execute the false block.\n",
        "\n",
        "---\n",
        "Q12. How does the elif statement work?\n",
        "\n",
        "\n",
        "elif is the acronym of else if in python. It is used when you have multiple(more than 2) condition like\n",
        "\n",
        "The program evaluates the if condition first.\n",
        "If the if condition is True, the corresponding block of code runs, and the rest (including elif) is skipped.\n",
        "\n",
        "If the if condition is False, the program checks the next elif condition.\n",
        "\n",
        "If an elif condition is True, the corresponding block runs, and the rest of the conditions are ignored.\n",
        "\n",
        "If none of the if or elif conditions are True, the program executes the else block (if it exists).\n",
        "\n",
        "---\n",
        "\n",
        "Q13. What is the difference between for and while loops?\n",
        "\n",
        "The main difference between a for loop and a while loop is that a for loop is used when the number of iterations is known, while a while loop is used when the number of iterations is unknown\n",
        "\n",
        "\n",
        "\n",
        "---\n",
        "Q14.Describe a scenario where a while loop is more suitable than a for loop?\n",
        "\n",
        "Take the example of cricket where a batsman at top order don't know till when he can bat without getting out (how many ball or over he can play) ,here we can use while loop whereas batsman at lower order comes to bat at last over know that he has an over to paly,here we can use if loop as we know how many ball he can play. In simple term scenerio where exact number are known there we can use for loop and when exact number are not known there we can use while loop."
      ]
    },
    {
      "cell_type": "code",
      "execution_count": null,
      "metadata": {
        "colab": {
          "base_uri": "https://localhost:8080/"
        },
        "id": "ZBKibGMDdc4w",
        "outputId": "48a4aca7-6f50-4efd-dcdb-b33b7dcd083b"
      },
      "outputs": [
        {
          "name": "stdout",
          "output_type": "stream",
          "text": [
            "Hello,World\n"
          ]
        }
      ],
      "source": [
        "# Q1. Write a Python program to print \"Hello, World!\"\n",
        "print(\"Hello,World\")\n"
      ]
    },
    {
      "cell_type": "code",
      "execution_count": null,
      "metadata": {
        "colab": {
          "base_uri": "https://localhost:8080/"
        },
        "id": "YB_IUM4OeZ4D",
        "outputId": "d06a0b59-4efc-434b-9ffe-7babd5ee1df1"
      },
      "outputs": [
        {
          "name": "stdout",
          "output_type": "stream",
          "text": [
            "Enter your name:gaurav\n",
            "Enter your age:21\n",
            "My name is  gaurav and i am  21 year old\n",
            "My name is gaurav and my age is 21 \n"
          ]
        }
      ],
      "source": [
        "# Q2. Write a Python program that displays your name and age.\n",
        "name=input(\"Enter your name:\")\n",
        "age=int(input(\"Enter your age:\"))\n",
        "# print(\"My name is \",name,\"and i am \",age,\"year old\")\n",
        "print(f\"My name is {name} and my age is {age} \")"
      ]
    },
    {
      "cell_type": "code",
      "execution_count": null,
      "metadata": {
        "colab": {
          "base_uri": "https://localhost:8080/"
        },
        "id": "6Tv7r9MvebXg",
        "outputId": "91df7d42-7e11-4085-ff40-e78861a33734"
      },
      "outputs": [
        {
          "name": "stdout",
          "output_type": "stream",
          "text": [
            "['False', 'None', 'True', 'and', 'as', 'assert', 'async', 'await', 'break', 'class', 'continue', 'def', 'del', 'elif', 'else', 'except', 'finally', 'for', 'from', 'global', 'if', 'import', 'in', 'is', 'lambda', 'nonlocal', 'not', 'or', 'pass', 'raise', 'return', 'try', 'while', 'with', 'yield']\n"
          ]
        }
      ],
      "source": [
        "# Q3. Write code to print all the pre-defined keywords in Python using the keyword library.\n",
        "import keyword\n",
        "a=keyword.kwlist\n",
        "print(a)\n"
      ]
    },
    {
      "cell_type": "code",
      "execution_count": null,
      "metadata": {
        "colab": {
          "base_uri": "https://localhost:8080/"
        },
        "id": "bvxXqq1CeZYp",
        "outputId": "7bcde883-66f1-4096-94b6-6232d50d54ed"
      },
      "outputs": [
        {
          "name": "stdout",
          "output_type": "stream",
          "text": [
            "Enter the word:True\n",
            "Yes True is a keyword\n"
          ]
        }
      ],
      "source": [
        "#Q4. Write a program that checks if a given word is a Python keyword.\n",
        "import keyword\n",
        "keyword=keyword.kwlist\n",
        "i=input(\"Enter the word:\")\n",
        "\n",
        "if i in keyword:\n",
        "  print(f\"Yes {i} is a keyword\")\n",
        "else:\n",
        "  print(f\"No {i} is not a keyword\")"
      ]
    },
    {
      "cell_type": "code",
      "execution_count": 5,
      "metadata": {
        "colab": {
          "base_uri": "https://localhost:8080/"
        },
        "id": "utpUNTtPikjQ",
        "outputId": "56d29671-1fc6-42bd-84c2-690f6eb7fbf2"
      },
      "outputs": [
        {
          "name": "stdout",
          "output_type": "stream",
          "text": [
            "[1, 2, 3, 4, 5, 6, 11, 23, 43, 68, 89]\n",
            "'tuple' object has no attribute 'append'\n"
          ]
        }
      ],
      "source": [
        "#Q5. Create a list and tuple in Python, and demonstrate how attempting to change an element works differently for each.\n",
        "# List\n",
        "lst=[11,23,43,1,2,3,4,6,68]\n",
        "lst.append(89)\n",
        "lst.insert(5,5)\n",
        "lst.sort()\n",
        "print(lst)\n",
        "\n",
        "# Tuple\n",
        "tp=(0,4,5\"True\",\"False\",\"bool\")\n",
        "try:\n",
        "  tp.append(89)\n",
        "  tp.insert(5,5)\n",
        "  tp.sort()\n",
        "except AttributeError as a:\n",
        "  print(a)"
      ]
    },
    {
      "cell_type": "code",
      "execution_count": null,
      "metadata": {
        "id": "mT9PZI14ilJt"
      },
      "outputs": [],
      "source": [
        "#Q6. Write a function to demonstrate the behavior of mutable and immutable arguments.\n",
        "# Function not taught"
      ]
    },
    {
      "cell_type": "code",
      "execution_count": null,
      "metadata": {
        "colab": {
          "base_uri": "https://localhost:8080/"
        },
        "id": "OjcN6Ropile6",
        "outputId": "4be4f4fe-7511-4d7f-cdba-ec3e66c0d656"
      },
      "outputs": [
        {
          "name": "stdout",
          "output_type": "stream",
          "text": [
            "You can enter the pub\n",
            "a is greater than b \n",
            "You cannot enter\n",
            "a is smaller\n"
          ]
        }
      ],
      "source": [
        "# Q7. Write a program to demonstrate the use of logical operators.\n",
        "# AND\n",
        "age=21\n",
        "permission=True\n",
        "if age>=21 and permission==True:\n",
        "  print(\"You can enter the pub\")\n",
        "else:\n",
        "  print(\"You cannot enter\")\n",
        "\n",
        "# OR\n",
        "a=26\n",
        "b=11\n",
        "if a>=b or a<b:\n",
        "  print(\"a is greater than b \")\n",
        "else:\n",
        "  print(\"a is smaller\")\n",
        "\n",
        "# NOT\n",
        "\n",
        "age=21\n",
        "permission=True\n",
        "if age>=21 and not permission==True:\n",
        "  print(\"You can enter the pub\")\n",
        "else:\n",
        "  print(\"You cannot enter\")\n",
        "\n",
        "a=26\n",
        "b=11\n",
        "if a<b or not a>=b:\n",
        "  print(\"a is greater than b \")\n",
        "else:\n",
        "  print(\"a is smaller\")\n",
        "\n",
        "\n",
        "\n"
      ]
    },
    {
      "cell_type": "code",
      "execution_count": null,
      "metadata": {
        "colab": {
          "base_uri": "https://localhost:8080/"
        },
        "id": "l38zR0xQiljp",
        "outputId": "fc620f05-b8ae-4db8-a2f0-c58237db6356"
      },
      "outputs": [
        {
          "name": "stdout",
          "output_type": "stream",
          "text": [
            "Enter the string: 754869\n",
            "754869\n",
            "754869.0\n",
            "True\n"
          ]
        }
      ],
      "source": [
        "# Q8. Write a Python program to convert user input from string to integer, float, and boolean types.\n",
        "a=input(\"Enter the string: \")\n",
        "if a.isalpha():\n",
        "  print(\"cannot convert\")  # String cannot be converted to number datatype\n",
        "else:\n",
        "  print(int(a))\n",
        "  print(float(a))\n",
        "  print(bool(a))"
      ]
    },
    {
      "cell_type": "code",
      "execution_count": null,
      "metadata": {
        "colab": {
          "base_uri": "https://localhost:8080/"
        },
        "id": "vd-rcFQMilsL",
        "outputId": "0a3e0772-b39b-43fe-9aa8-eb4493e98e60"
      },
      "outputs": [
        {
          "name": "stdout",
          "output_type": "stream",
          "text": [
            "True\n",
            "2\n",
            "3.0\n",
            "1\n",
            "0\n",
            "False\n"
          ]
        }
      ],
      "source": [
        "# Q9. Write code to demonstrate type casting with list elements.\n",
        "\n",
        "lst=[\"hii\",2.0,3, True,False,\"\"]\n",
        "print(bool(lst[0]))\n",
        "print(int(lst[1]))\n",
        "print(float(lst[2]))\n",
        "print(int(lst[3]))\n",
        "print(int(lst[4]))\n",
        "print(bool(lst[5]))"
      ]
    },
    {
      "cell_type": "code",
      "execution_count": null,
      "metadata": {
        "colab": {
          "base_uri": "https://localhost:8080/"
        },
        "id": "hOAhxapHPp5U",
        "outputId": "ad06bee4-b082-4a63-d902-2755102a3e22"
      },
      "outputs": [
        {
          "name": "stdout",
          "output_type": "stream",
          "text": [
            "Enter the number:-9\n",
            "-9 is a negative number\n"
          ]
        }
      ],
      "source": [
        "# Q10. Write a program that checks if a number is positive, negative, or zero.\n",
        "a=int(input(\"Enter the number:\"))\n",
        "if a>0:\n",
        "  print(a,\"is a positive number\")\n",
        "elif a<0:\n",
        "  print(a,\"is a negative number\")\n",
        "else:\n",
        "  print(a,\"is zero\")"
      ]
    },
    {
      "cell_type": "code",
      "execution_count": null,
      "metadata": {
        "colab": {
          "base_uri": "https://localhost:8080/"
        },
        "id": "45SdPA1LPqT6",
        "outputId": "7a323f69-9658-4482-9541-b6dbc60d57d5"
      },
      "outputs": [
        {
          "name": "stdout",
          "output_type": "stream",
          "text": [
            "Number from 1 to 10 are:\n",
            "1\n",
            "2\n",
            "3\n",
            "4\n",
            "5\n",
            "6\n",
            "7\n",
            "8\n",
            "9\n",
            "10\n"
          ]
        }
      ],
      "source": [
        "# Q11. Write a for loop to print numbers from 1 to 10.\n",
        "a=1\n",
        "b=11\n",
        "print(\"Number from 1 to 10 are:\")\n",
        "for i in range(a,b):\n",
        "  print(i)"
      ]
    },
    {
      "cell_type": "code",
      "execution_count": null,
      "metadata": {
        "colab": {
          "base_uri": "https://localhost:8080/"
        },
        "id": "TZR1NTGIPqba",
        "outputId": "970507a0-8504-4784-f7c7-d042331ba04c"
      },
      "outputs": [
        {
          "name": "stdout",
          "output_type": "stream",
          "text": [
            "650\n"
          ]
        }
      ],
      "source": [
        "# Q12 Write a Python program to find the sum of all even numbers between 1 and 50.\n",
        "a=0\n",
        "for i in range(1,51):\n",
        "  if i%2==0:\n",
        "    a+=i\n",
        "print(a)"
      ]
    },
    {
      "cell_type": "code",
      "execution_count": null,
      "metadata": {
        "colab": {
          "base_uri": "https://localhost:8080/"
        },
        "id": "SE7FQXPSPqiP",
        "outputId": "da46eedd-2030-4315-d098-4c50da1e28ab"
      },
      "outputs": [
        {
          "name": "stdout",
          "output_type": "stream",
          "text": [
            "enter string: hello\n",
            "olleh\n"
          ]
        }
      ],
      "source": [
        "#Q13.  Write a program to reverse a string using a while loop.\n",
        "s=input(\"enter string: \")\n",
        "a=len(s)\n",
        "r=\"\"\n",
        "while a>0:\n",
        "  a-=1\n",
        "  r+=s[a]\n",
        "print(r)\n",
        "\n",
        "\n"
      ]
    },
    {
      "cell_type": "code",
      "execution_count": null,
      "metadata": {
        "colab": {
          "base_uri": "https://localhost:8080/"
        },
        "id": "wTPBp2DSPqmk",
        "outputId": "9723447f-63c1-4256-a038-a8a31362e864"
      },
      "outputs": [
        {
          "name": "stdout",
          "output_type": "stream",
          "text": [
            "Enter the number: 5\n",
            "120\n"
          ]
        }
      ],
      "source": [
        "# Q14. Write a Python program to calculate the factorial of a number provided by the user using a while loop.\n",
        "f=int(input(\"Enter the number: \"))\n",
        "a=1\n",
        "b=1\n",
        "while b<=f:\n",
        "  a=a*b\n",
        "  b+=1\n",
        "print(a)"
      ]
    }
  ],
  "metadata": {
    "colab": {
      "provenance": []
    },
    "kernelspec": {
      "display_name": "Python 3",
      "name": "python3"
    },
    "language_info": {
      "name": "python"
    }
  },
  "nbformat": 4,
  "nbformat_minor": 0
}
