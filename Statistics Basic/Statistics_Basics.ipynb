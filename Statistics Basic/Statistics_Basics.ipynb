{
  "nbformat": 4,
  "nbformat_minor": 0,
  "metadata": {
    "colab": {
      "provenance": []
    },
    "kernelspec": {
      "name": "python3",
      "display_name": "Python 3"
    },
    "language_info": {
      "name": "python"
    }
  },
  "cells": [
    {
      "cell_type": "markdown",
      "source": [
        "# **Statistics Basics**"
      ],
      "metadata": {
        "id": "reTY4SkXuKQu"
      }
    },
    {
      "cell_type": "markdown",
      "source": [
        "# 1. What is statistics, and why is it important?\n",
        "Statistics is a branch of mathematics that deals with the collection, analysis, interpretation, presentation, and organization of data. It provides tools and methodologies for making sense of complex data sets, allowing researchers, analysts, and decision-makers to draw conclusions, make predictions, and inform decisions based on empirical evidence."
      ],
      "metadata": {
        "id": "lCD7hUBSuKUy"
      }
    },
    {
      "cell_type": "markdown",
      "source": [],
      "metadata": {
        "id": "vHnNy-kDuKYb"
      }
    },
    {
      "cell_type": "markdown",
      "source": [
        "#2. What are the two main types of statistics?\n",
        "The two main types of statistics are:\n",
        "\n",
        "1. Descriptive Statistics\n",
        "Purpose: Summarizes and describes the main features of a data set.\n",
        "Key Tools: Measures of central tendency (mean, median, mode), measures of dispersion (range, variance, standard deviation), and visual representations (graphs and charts).\n",
        "2. Inferential Statistics\n",
        "Purpose: Makes inferences and predictions about a population based on a sample.\n",
        "Key Techniques: Hypothesis testing, confidence intervals, regression analysis, and ANOVA (Analysis of Variance)."
      ],
      "metadata": {
        "id": "7k0vRM00uKcR"
      }
    },
    {
      "cell_type": "markdown",
      "source": [
        "#3. What are descriptive statistics?\n",
        "Descriptive statistics are methods used to summarize and describe the main features of a data set. They provide a way to present quantitative data in a clear and understandable manner, allowing for easy interpretation of the data's characteristics."
      ],
      "metadata": {
        "id": "57x5b9cDuKfq"
      }
    },
    {
      "cell_type": "markdown",
      "source": [],
      "metadata": {
        "id": "O53dj5UzuKkD"
      }
    },
    {
      "cell_type": "markdown",
      "source": [
        "# 4. What is inferential statistics?\n",
        "Inferential statistics is a branch of statistics that allows researchers to make conclusions and predictions about a population based on a sample of data drawn from that population. Unlike descriptive statistics, which merely summarize and describe the characteristics of a data set, inferential statistics enables the generalization of findings beyond the immediate data."
      ],
      "metadata": {
        "id": "1Tl_OLKquKoC"
      }
    },
    {
      "cell_type": "markdown",
      "source": [
        "# 5. What is sampling in statistics?\n",
        "Sampling in statistics refers to the process of selecting a subset (sample) from a larger population to make inferences about that population. Since it is often impractical or impossible to collect data from every individual in a population, sampling allows researchers to gather information efficiently and cost-effectively."
      ],
      "metadata": {
        "id": "09So86EtuKp9"
      }
    },
    {
      "cell_type": "markdown",
      "source": [
        "# 6. What are the different types of sampling methods?\n",
        "The different types of sampling methods:\n",
        "\n",
        "**Probability Sampling**\n",
        "Every member of the population has a known chance of being selected, allowing for generalization.\n",
        "\n",
        "Simple Random Sampling: Every individual has an equal chance of selection.\n",
        "\n",
        "Stratified Sampling: Population is divided into subgroups (strata), and samples are randomly selected from each stratum.\n",
        "\n",
        "Systematic Sampling: A starting point is randomly chosen, and every nth individual is selected.\n",
        "\n",
        "Cluster Sampling: The population is divided into clusters, and entire clusters are randomly selected.\n",
        "\n",
        " **Non-Probability Sampling**\n",
        "Not all members have a known chance of selection, which can introduce bias.\n",
        "\n",
        "Convenience Sampling: Samples are taken from easily accessible groups.\n",
        "Judgmental (Purposive) Sampling: The researcher selects individuals based on their judgment.\n",
        "\n",
        "Snowball Sampling: Existing subjects recruit future subjects, useful for hard-to-reach populations.\n",
        "\n",
        "Quota Sampling: The researcher sets quotas for specific subgroups to ensure representation.\n"
      ],
      "metadata": {
        "id": "_YuJAn2uuKru"
      }
    },
    {
      "cell_type": "markdown",
      "source": [
        "# 7.What is the difference between random and non-random sampling?\n",
        "**Random Sampling:**\n",
        "\n",
        "In random sampling, every member of the population has a known and equal chance of being selected. This method aims to eliminate bias in the selection process.\n",
        "\n",
        "**Non-Random Sampling:**\n",
        "\n",
        "In non-random sampling, not all members of the population have a known or equal chance of being selected. This method can introduce bias in the selection process."
      ],
      "metadata": {
        "id": "yl-kpEkquKt9"
      }
    },
    {
      "cell_type": "markdown",
      "source": [
        "# 8. Define and give examples of qualitative and quantitative data.\n",
        "Qualitative Data\n",
        ": Non-numerical information that describes characteristics, qualities, or attributes.\n",
        "\n",
        "Examples:\n",
        "Interview responses (e.g., opinions about a product)\n",
        "Focus group discussions\n",
        "Observations of behavior\n",
        "Textual feedback from surveys\n",
        "Categorical data (e.g., colors, types of cuisine)\n",
        "\n",
        "\n",
        "Quantitative Data:  Numerical information that can be measured and expressed mathematically.\n",
        "\n",
        "Examples:\n",
        "Survey responses with numerical ratings (e.g., satisfaction on a scale of 1 to 10)\n",
        "Measurements (e.g., height, weight, temperature)\n",
        "Counts (e.g., number of customers in a store)\n",
        "Financial figures (e.g., revenue, expenses)\n",
        "Statistical data (e.g., averages, percentages)"
      ],
      "metadata": {
        "id": "zmUbPljiuKwS"
      }
    },
    {
      "cell_type": "markdown",
      "source": [
        "# 9. What are the different types of data in statistics?\n",
        "# Types of Data in Statistics\n",
        "\n",
        "In statistics, data can be classified into several types based on various criteria. The main types of data include:\n",
        "\n",
        "## 1. Qualitative Data (Categorical Data)\n",
        "This type of data describes characteristics or qualities that cannot be measured numerically. It can be further divided into:\n",
        "\n",
        "- **Nominal Data**: Categories without a specific order.\n",
        "  - *Examples*: Gender, hair color, types of cuisine (e.g., Italian, Mexican).\n",
        "  \n",
        "- **Ordinal Data**: Categories with a defined order but no consistent difference between them.\n",
        "  - *Examples*: Rankings (e.g., 1st, 2nd, 3rd place), satisfaction levels (e.g., satisfied, neutral, dissatisfied).\n",
        "\n",
        "## 2. Quantitative Data (Numerical Data)\n",
        "This type of data consists of numerical values that can be measured and expressed mathematically. It can be further divided into:\n",
        "\n",
        "- **Discrete Data**: Countable values that can take specific values.\n",
        "  - *Examples*: Number of students in a class, number of cars in a parking lot, number of goals scored in a game.\n",
        "\n",
        "- **Continuous Data**: Measurable values that can take any value within a given range.\n",
        "  - *Examples*: Height, weight, temperature, time.\n",
        "\n",
        "## 3. Time Series Data\n",
        "Data collected at different points in time, often used to analyze trends over time.\n",
        "- *Examples*: Monthly sales figures, daily stock prices, annual population growth.\n",
        "\n",
        "## 4. Cross-Sectional Data\n",
        "Data collected at a single point in time from multiple subjects or entities.\n",
        "- *Examples*: Survey responses from different individuals at one time, economic indicators from various countries in a given year.\n",
        "\n",
        "## 5. Panel Data (Longitudinal Data)\n",
        "Data that combines both time series and cross-sectional data, where multiple subjects are observed over time.\n",
        "- *Examples*: Tracking the same individuals' income over several years, monitoring the performance of the same companies over multiple quarters."
      ],
      "metadata": {
        "id": "BXlz2VlcuKzV"
      }
    },
    {
      "cell_type": "markdown",
      "source": [
        "# 10. Explain nominal, ordinal, interval, and ratio levels of measurement?\n",
        "# Levels of Measurement in Statistics\n",
        "\n",
        "In statistics, levels of measurement describe the nature of the data and the relationships between the values. The four primary levels of measurement are nominal, ordinal, interval, and ratio. Here’s a brief explanation of each, along with examples:\n",
        "\n",
        "## 1. Nominal Level of Measurement\n",
        "- **Definition**: The nominal level of measurement classifies data into distinct categories that do not have a specific order or ranking. The categories are mutually exclusive and collectively exhaustive.\n",
        "- **Characteristics**:\n",
        "  - No inherent order.\n",
        "  - Categories cannot be quantitatively compared.\n",
        "- **Examples**:\n",
        "  - Gender (male, female).\n",
        "  - Types of cuisine (Italian, Mexican, Chinese).\n",
        "  - Colors (red, blue, green).\n",
        "\n",
        "## 2. Ordinal Level of Measurement\n",
        "- **Definition**: The ordinal level of measurement classifies data into categories that have a meaningful order or ranking, but the intervals between the categories are not necessarily equal.\n",
        "- **Characteristics**:\n",
        "  - Categories have a defined order.\n",
        "  - Differences between ranks are not uniform or measurable.\n",
        "- **Examples**:\n",
        "  - Satisfaction ratings (e.g., very satisfied, satisfied, neutral, dissatisfied, very dissatisfied).\n",
        "  - Educational levels (e.g., high school, bachelor's degree, master's degree).\n",
        "  - Rankings in a competition (1st place, 2nd place, 3rd place).\n",
        "\n",
        "## 3. Interval Level of Measurement\n",
        "- **Definition**: The interval level of measurement involves numerical data where the intervals between values are meaningful and equal, but there is no true zero point.\n",
        "- **Characteristics**:\n",
        "  - Equal intervals between values.\n",
        "  - No true zero; zero does not indicate the absence of the quantity.\n",
        "- **Examples**:\n",
        "  - Temperature measured in Celsius or Fahrenheit (e.g., 20°C is not twice as hot as 10°C).\n",
        "  - Dates (e.g., the year 2000 is not \"twice\" as significant as the year 1000).\n",
        "\n",
        "## 4. Ratio Level of Measurement\n",
        "- **Definition**: The ratio level of measurement is similar to the interval level, but it has a true zero point, allowing for the comparison of absolute magnitudes.\n",
        "- **Characteristics**:\n",
        "  - Equal intervals between values.\n",
        "  - A true zero point indicates the absence of the quantity.\n",
        "- **Examples**:\n",
        "  - Height (e.g., 0 cm means no height).\n",
        "  - Weight (e.g., 0 kg means no weight).\n",
        "  - Income (e.g., $0 means no income).\n"
      ],
      "metadata": {
        "id": "85gcMcqluK1d"
      }
    },
    {
      "cell_type": "markdown",
      "source": [],
      "metadata": {
        "id": "8f6QEOkNzT4l"
      }
    },
    {
      "cell_type": "markdown",
      "source": [
        "# 11. What is the measure of central tendency?\n",
        "The **measure of central tendency** is a statistical measure that represents the center of a dataset. The three main types are:  \n",
        "\n",
        "1. **Mean** – The average of all values.  \n",
        "2. **Median** – The middle value when data is sorted.  \n",
        "3. **Mode** – The most frequently occurring value.  "
      ],
      "metadata": {
        "id": "tA7dhYT1zWzC"
      }
    },
    {
      "cell_type": "markdown",
      "source": [
        "# 12. Define mean, median, and mode?\n",
        "### Mean  \n",
        "The **mean** is the average of a dataset, calculated as:  \n",
        "\n",
        "Mean= ∑X/N\n",
        "​\n",
        "\n",
        "\n",
        "\n",
        "where \\( sum X \\) is the sum of all values and \\( N \\) is the number of values.\n",
        "\n",
        "### Median  \n",
        "The **median** is the middle value when the data is arranged in ascending or descending order.  \n",
        "- If \\( N \\) is odd, the median is the middle value.  \n",
        "- If \\( N \\) is even, the median is the average of the two middle values.\n",
        "\n",
        "### Mode  \n",
        "The **mode** is the most frequently occurring value in the dataset.  \n",
        "- A dataset can have **one mode (unimodal), two modes (bimodal), or more (multimodal)**.  \n",
        "- If no value repeats, the dataset has **no mode**.\n"
      ],
      "metadata": {
        "id": "4q8XnFj_zWvg"
      }
    },
    {
      "cell_type": "markdown",
      "source": [
        "# 13. What is the significance of the measure of central tendency?\n",
        "The **measure of central tendency** is significant because it helps summarize a dataset with a single representative value. Its importance includes:  \n",
        "\n",
        "1. **Data Summarization** – Reduces large datasets to a single meaningful value.  \n",
        "2. **Comparison** – Allows comparison between different datasets.  \n",
        "3. **Decision Making** – Helps in making informed decisions based on data trends.  \n",
        "4. **Identifying Patterns** – Reveals the general trend in a dataset.  \n",
        "5. **Basis for Further Analysis** – Used in statistical methods like variance, standard deviation, and hypothesis testing.  "
      ],
      "metadata": {
        "id": "q8PLvvtvzWrw"
      }
    },
    {
      "cell_type": "markdown",
      "source": [
        "## 14. What is variance, and how is it calculated?\n",
        "### **Variance**  \n",
        "Variance measures the **spread** of data points around the mean. A higher variance indicates that the data points are more spread out, while a lower variance means they are closer to the mean.  \n",
        "\n",
        "### **Formula for Variance**  \n",
        "For a dataset with values \\( X_1, X_2, ...., X_N \\) and mean \\( \\mu \\):  \n",
        "\n",
        "\n",
        "σ\n",
        "2\n",
        " =\n",
        "\n",
        "∑(X\n",
        "i\n",
        "​\n",
        " −μ)\n",
        "2\n",
        "/\n",
        "​N\n",
        "\n",
        "\n",
        "\n",
        "where:  \n",
        "- \\( σ 2) = Variance  \n",
        "- \\( X_i \\) = Each data point  \n",
        "- \\( μ) = Mean of the dataset  \n",
        "- \\( N \\) = Number of data points  \n"
      ],
      "metadata": {
        "id": "-pMm-9P0zWnr"
      }
    },
    {
      "cell_type": "markdown",
      "source": [
        "# 15. What is standard deviation, and why is it important?\n",
        "Standard deviation measures the **spread** of data around the mean. It is the square root of variance and indicates how much the data deviates from the average value.  \n",
        "\n",
        "#### **Formula for Standard Deviation**  \n",
        "σ= sqrt\n",
        "∑(X\n",
        "i\n",
        "​\n",
        " −μ)\n",
        "2\n",
        "/\n",
        "​N\n",
        "\n",
        "​\n",
        "\n",
        "where:  \n",
        "- \\( sigma \\) = Standard deviation  \n",
        "- \\( X_i \\) = Each data point  \n",
        "- \\( mu \\) = Mean of the dataset  \n",
        "- \\( N \\) = Number of data points  \n",
        "\n",
        "### **Importance of Standard Deviation**  \n",
        "1. **Measures Data Spread** – Shows how much data varies from the mean.  \n",
        "2. **Identifies Consistency** – Low standard deviation means data points are close to the mean; high means more variation.  \n",
        "3. **Compares Datasets** – Helps compare the spread of different datasets.  \n",
        "4. **Used in Risk Analysis** – Important in finance, quality control, and scientific studies.  \n"
      ],
      "metadata": {
        "id": "dxPfVNX3zV7o"
      }
    },
    {
      "cell_type": "markdown",
      "source": [
        "# 16. Define and explain the term range in statistics?\n",
        "### **Range in Statistics**  \n",
        "The **range** is a measure of dispersion that shows the difference between the **maximum** and **minimum** values in a dataset.  \n",
        "\n",
        "### **Formula for Range**  \n",
        "Range = Maximum Value - Minimum Value\n",
        "\n",
        "\n",
        "### **Explanation**  \n",
        "- The **range** gives a quick idea of how spread out the data is.  \n",
        "- A **large range** means high variability, while a **small range** means the data points are close together.  \n",
        "- It is **easy to calculate** but does not consider how data points are distributed between the minimum and maximum values.  \n"
      ],
      "metadata": {
        "id": "dqPr5rZXzWkP"
      }
    },
    {
      "cell_type": "markdown",
      "source": [
        "# 17. What is the difference between variance and standard deviation?\n",
        "### **Difference Between Variance and Standard Deviation**  \n",
        "\n",
        "| **Feature**         | **Variance** (\\(\\sigma^2\\))                                      | **Standard Deviation** (\\(\\sigma\\)) |\n",
        "|--------------------|----------------------------------------------------------------|----------------------------------|\n",
        "| **Definition**     | Measures the average squared deviation from the mean.         | Measures the spread of data around the mean. ||\n",
        "| **Units**         | Squared units of the original data.                            | Same units as the original data. |\n",
        "| **Interpretation**| Higher variance means more spread-out data.                   | Higher standard deviation means more variation from the mean. |\n",
        "| **Use Case**      | Used in statistical models and probability distributions.      | Used for easier interpretation in real-world applications. |\n"
      ],
      "metadata": {
        "id": "q2HQerzkzWXq"
      }
    },
    {
      "cell_type": "markdown",
      "source": [
        "\\"
      ],
      "metadata": {
        "id": "qReKboEizWJ-"
      }
    },
    {
      "cell_type": "markdown",
      "source": [
        "# 18. What is skewness in a dataset?\n",
        "### **Skewness in a Dataset**  \n",
        "**Skewness** measures the **asymmetry** of a dataset’s distribution around its mean. It tells us whether data is **symmetrically distributed** or leans toward one side.  \n",
        "\n",
        "### **Types of Skewness**  \n",
        "1. **Positive Skew (Right-Skewed)** – Tail extends more to the **right** (Mean > Median > Mode).  \n",
        "2. **Negative Skew (Left-Skewed)** – Tail extends more to the **left** (Mean < Median < Mode).  \n",
        "3. **Zero Skew (Symmetric)** – Data is evenly distributed around the mean (Mean ≈ Median ≈ Mode).  \n",
        "\n"
      ],
      "metadata": {
        "id": "IOyj5r6ZKRWk"
      }
    },
    {
      "cell_type": "markdown",
      "source": [
        "# 19. What does it mean if a dataset is positively or negatively skewed?\n",
        "### **Meaning of Positive and Negative Skewness**  \n",
        "\n",
        "1. **Positively Skewed (Right-Skewed) Dataset**  \n",
        "   - The **tail** extends more to the **right** (higher values).  \n",
        "   - **Mean > Median > Mode** (the mean is pulled toward higher values).  \n",
        "   - Example: Income distribution, where a few people earn significantly more than the majority.  \n",
        "\n",
        "2. **Negatively Skewed (Left-Skewed) Dataset**  \n",
        "   - The **tail** extends more to the **left** (lower values).  \n",
        "   - **Mean < Median < Mode** (the mean is pulled toward lower values).  \n",
        "   - Example: Exam scores where most students score high, but a few score very low.  "
      ],
      "metadata": {
        "id": "iVgTH0rfzVr3"
      }
    },
    {
      "cell_type": "markdown",
      "source": [
        "# 20. Define and explain kurtosis?\n",
        "### **Kurtosis**  \n",
        "Kurtosis measures the **\"tailedness\"** of a dataset’s distribution. It describes whether the data has **heavy tails (outliers) or a flatter shape** compared to a normal distribution.  \n",
        "\n",
        "### **Types of Kurtosis**  \n",
        "1. **Mesokurtic (\\(K = 3\\))** – Normal distribution with moderate tails (e.g., a bell curve).  \n",
        "2. **Leptokurtic (\\(K > 3\\))** – Heavy tails, meaning more outliers than normal.  \n",
        "3. **Platykurtic (\\(K < 3\\))** – Light tails, meaning fewer outliers than normal.  \n"
      ],
      "metadata": {
        "id": "YGNtP_hYMMSk"
      }
    },
    {
      "cell_type": "markdown",
      "source": [
        "# 21. What is the purpose of covariance?\n",
        "### **Purpose of Covariance**  \n",
        "Covariance measures the **direction of the relationship** between two variables. It helps determine **whether an increase in one variable is associated with an increase or decrease in another variable**.  \n",
        "\n",
        "### **Key Uses of Covariance**  \n",
        "1. **Determining Relationships** – Shows whether two variables move **together** (positive covariance) or in **opposite directions** (negative covariance).  \n",
        "2. **Risk Assessment in Finance** – Used in **portfolio management** to analyze how different stocks move together.  \n",
        "3. **Statistical Analysis** – Helps in **feature selection** and understanding variable dependencies in machine learning.  \n",
        "\n",
        "### **Interpreting Covariance**  \n",
        "- **Positive Covariance** → Both variables **increase or decrease together**.  \n",
        "- **Negative Covariance** → One variable **increases while the other decreases**.  \n",
        "- **Zero Covariance** → No relationship between the variables.  \n"
      ],
      "metadata": {
        "id": "gDO6eI5PMeAb"
      }
    },
    {
      "cell_type": "markdown",
      "source": [
        "# 22. What does correlation measure in statistics?\n",
        "### **What Does Correlation Measure in Statistics?**  \n",
        "Correlation measures the **strength and direction** of the relationship between two variables. It tells us **how closely the variables move together** on a scale from **-1 to 1**.  \n",
        "\n",
        "### **Types of Correlation**  \n",
        "1. **Positive Correlation (\\(+1\\))** – As one variable increases, the other also increases.  \n",
        "2. **Negative Correlation (\\(-1\\))** – As one variable increases, the other decreases.  \n",
        "3. **Zero Correlation (\\(0\\))** – No relationship between the variables.  \n"
      ],
      "metadata": {
        "id": "hQgODn6QMl2V"
      }
    },
    {
      "cell_type": "markdown",
      "source": [
        "# 23. What is the difference between covariance and correlation?\n",
        "### **Difference Between Covariance and Correlation**  \n",
        "\n",
        "| Feature            | Covariance (Cov(X, Y)\\)                            | Correlation (\\(r\\))                                |\n",
        "|-------------------|--------------------------------------------------|--------------------------------------------------|\n",
        "| **Definition**    | Measures the **direction** of the relationship between two variables. | Measures **both strength and direction** of the relationship. ||\n",
        "| **Range**        | No fixed range; values can be **any number**.       | Always between **-1 and 1**. |\n",
        "| **Interpretation** | Only tells whether the variables move **together** or **opposite**. | Tells how **strongly** the variables are related. |\n",
        "| **Units**        | Depends on the units of X and Y.                   | **Unitless** (standardized measure). |\n",
        "| **Effect of Scale** | Changes when the measurement units change. | Does **not** change with different units. |\n"
      ],
      "metadata": {
        "id": "r5sspoD1M_Q3"
      }
    },
    {
      "cell_type": "markdown",
      "source": [
        "# 24. What are some real-world applications of statistics?\n",
        "### **Real-World Applications of Statistics**  \n",
        "\n",
        "1. **Healthcare & Medicine** 🏥  \n",
        "   - Predicting disease outbreaks (e.g., COVID-19 tracking).  \n",
        "   - Clinical trials and drug testing.  \n",
        "   - Analyzing patient data for better treatments.  \n",
        "\n",
        "2. **Business & Marketing** 📈  \n",
        "   - Customer behavior analysis for targeted marketing.  \n",
        "   - Sales forecasting and inventory management.  \n",
        "   - A/B testing to improve product performance.  \n",
        "\n",
        "3. **Finance & Banking** 💰  \n",
        "   - Risk assessment in loans and investments.  \n",
        "   - Stock market predictions.  \n",
        "   - Fraud detection using anomaly detection models.  \n",
        "\n",
        "4. **Sports Analytics** ⚽🏀  \n",
        "   - Player performance evaluation.  \n",
        "   - Game strategy and team formation decisions.  \n",
        "   - Injury risk analysis.  \n",
        "\n",
        "5. **Data Science & Machine Learning** 🤖  \n",
        "   - Feature selection and model evaluation.  \n",
        "   - Sentiment analysis and recommendation systems.  \n",
        "   - Big data processing and decision-making.  \n",
        "\n",
        "6. **Government & Policy Making** 🏛️  \n",
        "   - Census data analysis for resource allocation.  \n",
        "   - Crime rate prediction and law enforcement strategies.  \n",
        "   - Economic growth forecasting.  \n",
        "\n",
        "7. **Education & Research** 📚  \n",
        "   - Student performance analysis.  \n",
        "   - Educational surveys and effectiveness studies.  \n",
        "   - Research hypothesis testing.  "
      ],
      "metadata": {
        "id": "CAWi-Qw1N0zC"
      }
    },
    {
      "cell_type": "markdown",
      "source": [
        "# **Practical**"
      ],
      "metadata": {
        "id": "HLWxVE0HOHQy"
      }
    },
    {
      "cell_type": "code",
      "source": [
        "# How do you calculate the mean, median, and mode of a dataset?\n",
        "import numpy as np\n",
        "from scipy import stats\n",
        "\n",
        "# Sample dataset\n",
        "data = [4, 8, 6, 5, 3, 4, 9, 4, 6, 8]\n",
        "\n",
        "# Calculate mean, median, and mode\n",
        "mean = np.mean(data)\n",
        "median = np.median(data)\n",
        "mode = stats.mode(data, keepdims=True)[0][0]  # keepdims=True for compatibility\n",
        "\n",
        "print(\"Mean:\", mean)\n",
        "print(\"Median:\", median)\n",
        "print(\"Mode:\", mode)\n"
      ],
      "metadata": {
        "colab": {
          "base_uri": "https://localhost:8080/"
        },
        "id": "6gx4qvaROZ08",
        "outputId": "43f59cd9-f5f5-447c-8550-91437c1b9319"
      },
      "execution_count": 1,
      "outputs": [
        {
          "output_type": "stream",
          "name": "stdout",
          "text": [
            "Mean: 5.7\n",
            "Median: 5.5\n",
            "Mode: 4\n"
          ]
        }
      ]
    },
    {
      "cell_type": "code",
      "source": [
        "#  Write a Python program to compute the variance and standard deviation of a dataset?\n",
        "import numpy as np\n",
        "\n",
        "# Sample dataset\n",
        "data = [10, 12, 23, 23, 16, 23, 21, 16]\n",
        "\n",
        "# Calculate variance and standard deviation\n",
        "variance = np.var(data, ddof=0)  # Population variance (ddof=0)\n",
        "std_dev = np.std(data, ddof=0)    # Population standard deviation (ddof=0)\n",
        "\n",
        "print(\"Variance:\", variance)\n",
        "print(\"Standard Deviation:\", std_dev)\n"
      ],
      "metadata": {
        "colab": {
          "base_uri": "https://localhost:8080/"
        },
        "id": "lgrFViGNOo8x",
        "outputId": "ba9d77b6-4818-4363-9d96-38e85bb94084"
      },
      "execution_count": 2,
      "outputs": [
        {
          "output_type": "stream",
          "name": "stdout",
          "text": [
            "Variance: 24.0\n",
            "Standard Deviation: 4.898979485566356\n"
          ]
        }
      ]
    },
    {
      "cell_type": "code",
      "source": [
        "# Create a dataset and classify it into nominal, ordinal, interval, and ratio types?\n",
        "import pandas as pd\n",
        "\n",
        "# Creating the dataset\n",
        "data = {\n",
        "    \"Gender\": [\"Male\", \"Female\", \"Other\", \"Male\", \"Female\"],\n",
        "    \"Education Level\": [\"Primary\", \"Graduate\", \"Postgraduate\", \"Secondary\", \"Graduate\"],\n",
        "    \"Temperature (°C)\": [25, 30, 35, 40, 28],\n",
        "    \"Salary (₹)\": [10000, 20000, 50000, 80000, 15000]\n",
        "}\n",
        "\n",
        "# Convert to DataFrame\n",
        "df = pd.DataFrame(data)\n",
        "\n",
        "# Display dataset\n",
        "print(df)\n"
      ],
      "metadata": {
        "colab": {
          "base_uri": "https://localhost:8080/"
        },
        "id": "HBLiKJQ3OxIr",
        "outputId": "44033acb-ae89-48fd-ad0e-defb405d8578"
      },
      "execution_count": 3,
      "outputs": [
        {
          "output_type": "stream",
          "name": "stdout",
          "text": [
            "   Gender Education Level  Temperature (°C)  Salary (₹)\n",
            "0    Male         Primary                25       10000\n",
            "1  Female        Graduate                30       20000\n",
            "2   Other    Postgraduate                35       50000\n",
            "3    Male       Secondary                40       80000\n",
            "4  Female        Graduate                28       15000\n"
          ]
        }
      ]
    },
    {
      "cell_type": "code",
      "source": [
        "# Implement sampling techniques like random sampling and stratified sampling?\n",
        "import pandas as pd\n",
        "import numpy as np\n",
        "from sklearn.model_selection import train_test_split\n",
        "\n",
        "# Creating a sample dataset\n",
        "data = {\n",
        "    \"ID\": range(1, 21),\n",
        "    \"Gender\": np.random.choice([\"Male\", \"Female\"], 20),  # Nominal data\n",
        "    \"Age\": np.random.randint(18, 60, 20),  # Ratio data\n",
        "    \"Income\": np.random.randint(20000, 100000, 20)  # Ratio data\n",
        "}\n",
        "\n",
        "df = pd.DataFrame(data)\n",
        "print(\"Original Dataset:\\n\", df)\n",
        "\n",
        "### **1. Random Sampling (Select 5 random samples)**\n",
        "random_sample = df.sample(n=5, random_state=42)\n",
        "print(\"\\nRandom Sampling:\\n\", random_sample)\n",
        "\n",
        "### **2. Stratified Sampling (Based on Gender)**\n",
        "stratified_sample = df.groupby(\"Gender\", group_keys=False).apply(lambda x: x.sample(n=2, random_state=42))\n",
        "print(\"\\nStratified Sampling (2 per Gender):\\n\", stratified_sample)\n"
      ],
      "metadata": {
        "colab": {
          "base_uri": "https://localhost:8080/"
        },
        "id": "mwf06xONPMbg",
        "outputId": "461b9a75-a851-4325-d499-e99b0080e18e"
      },
      "execution_count": 4,
      "outputs": [
        {
          "output_type": "stream",
          "name": "stdout",
          "text": [
            "Original Dataset:\n",
            "     ID  Gender  Age  Income\n",
            "0    1  Female   40   69576\n",
            "1    2  Female   47   79988\n",
            "2    3    Male   19   67102\n",
            "3    4    Male   41   70414\n",
            "4    5    Male   19   59612\n",
            "5    6  Female   28   59212\n",
            "6    7    Male   19   62240\n",
            "7    8  Female   36   57645\n",
            "8    9    Male   56   30696\n",
            "9   10  Female   18   69138\n",
            "10  11    Male   38   74533\n",
            "11  12    Male   41   61472\n",
            "12  13    Male   30   68430\n",
            "13  14    Male   26   36048\n",
            "14  15    Male   27   40547\n",
            "15  16  Female   28   61577\n",
            "16  17    Male   39   91583\n",
            "17  18    Male   26   28264\n",
            "18  19    Male   55   48770\n",
            "19  20    Male   26   62462\n",
            "\n",
            "Random Sampling:\n",
            "     ID  Gender  Age  Income\n",
            "0    1  Female   40   69576\n",
            "17  18    Male   26   28264\n",
            "15  16  Female   28   61577\n",
            "1    2  Female   47   79988\n",
            "8    9    Male   56   30696\n",
            "\n",
            "Stratified Sampling (2 per Gender):\n",
            "     ID  Gender  Age  Income\n",
            "0    1  Female   40   69576\n",
            "1    2  Female   47   79988\n",
            "14  15    Male   27   40547\n",
            "17  18    Male   26   28264\n"
          ]
        },
        {
          "output_type": "stream",
          "name": "stderr",
          "text": [
            "<ipython-input-4-efb45dc54649>:22: DeprecationWarning: DataFrameGroupBy.apply operated on the grouping columns. This behavior is deprecated, and in a future version of pandas the grouping columns will be excluded from the operation. Either pass `include_groups=False` to exclude the groupings or explicitly select the grouping columns after groupby to silence this warning.\n",
            "  stratified_sample = df.groupby(\"Gender\", group_keys=False).apply(lambda x: x.sample(n=2, random_state=42))\n"
          ]
        }
      ]
    },
    {
      "cell_type": "code",
      "source": [
        "# Write a Python function to calculate the range of a dataset?\n",
        "def calculate_range(data):\n",
        "    \"\"\"Function to calculate the range of a dataset\"\"\"\n",
        "    return max(data) - min(data)\n",
        "\n",
        "# Sample dataset\n",
        "dataset = [10, 25, 30, 50, 75, 90]\n",
        "\n",
        "# Calculate range\n",
        "range_value = calculate_range(dataset)\n",
        "\n",
        "print(\"Range of the dataset:\", range_value)\n"
      ],
      "metadata": {
        "colab": {
          "base_uri": "https://localhost:8080/"
        },
        "id": "AaMb6-k5PXU4",
        "outputId": "f321a18d-5649-492a-ebd2-ed1498d75b03"
      },
      "execution_count": 5,
      "outputs": [
        {
          "output_type": "stream",
          "name": "stdout",
          "text": [
            "Range of the dataset: 80\n"
          ]
        }
      ]
    },
    {
      "cell_type": "code",
      "source": [
        "# Create a dataset and plot its histogram to visualize skewness?\n",
        "import numpy as np\n",
        "import matplotlib.pyplot as plt\n",
        "import seaborn as sns\n",
        "from scipy.stats import skew\n",
        "\n",
        "# Generate a right-skewed dataset (positively skewed)\n",
        "data = np.random.exponential(scale=2, size=1000)\n",
        "\n",
        "# Calculate skewness value\n",
        "skewness_value = skew(data)\n",
        "\n",
        "# Plot the histogram\n",
        "plt.figure(figsize=(8, 5))\n",
        "sns.histplot(data, bins=30, kde=True, color='blue')\n",
        "\n",
        "# Add title and labels\n",
        "plt.title(f\"Histogram of Dataset (Skewness: {skewness_value:.2f})\")\n",
        "plt.xlabel(\"Values\")\n",
        "plt.ylabel(\"Frequency\")\n",
        "\n",
        "# Show the plot\n",
        "plt.show()\n"
      ],
      "metadata": {
        "colab": {
          "base_uri": "https://localhost:8080/",
          "height": 487
        },
        "id": "GeXeclfbPjvm",
        "outputId": "6479dd9a-f70c-4a78-dbfa-2a9a48f66432"
      },
      "execution_count": 6,
      "outputs": [
        {
          "output_type": "display_data",
          "data": {
            "text/plain": [
              "<Figure size 800x500 with 1 Axes>"
            ],
            "image/png": "[encoded data removed]"
          },
          "metadata": {}
        }
      ]
    },
    {
      "cell_type": "code",
      "source": [
        "# Calculate skewness and kurtosis of a dataset using Python libraries?\n",
        "import numpy as np\n",
        "import scipy.stats as stats\n",
        "\n",
        "# Sample dataset\n",
        "data = [10, 20, 30, 40, 50, 60, 70, 80, 90, 100, 110, 150, 200]\n",
        "\n",
        "# Calculate skewness\n",
        "skewness = stats.skew(data)\n",
        "\n",
        "# Calculate kurtosis\n",
        "kurtosis = stats.kurtosis(data)\n",
        "\n",
        "print(\"Skewness of dataset:\", skewness)\n",
        "print(\"Kurtosis of dataset:\", kurtosis)\n"
      ],
      "metadata": {
        "colab": {
          "base_uri": "https://localhost:8080/"
        },
        "id": "EbWW1EToPs9V",
        "outputId": "ed096137-7353-4666-f81d-a80928c88c38"
      },
      "execution_count": 7,
      "outputs": [
        {
          "output_type": "stream",
          "name": "stdout",
          "text": [
            "Skewness of dataset: 0.8744053050794982\n",
            "Kurtosis of dataset: 0.1698662581673056\n"
          ]
        }
      ]
    },
    {
      "cell_type": "code",
      "source": [
        "# Generate a dataset and demonstrate positive and negative skewness?\n",
        "import numpy as np\n",
        "import matplotlib.pyplot as plt\n",
        "import seaborn as sns\n",
        "from scipy.stats import skew\n",
        "\n",
        "# Generate positively skewed data (right-skewed)\n",
        "positive_skew_data = np.random.exponential(scale=2, size=1000)\n",
        "\n",
        "# Generate negatively skewed data (left-skewed)\n",
        "negative_skew_data = np.random.normal(loc=10, scale=2, size=1000) ** 2  # Squaring normal dist shifts it left\n",
        "\n",
        "# Calculate skewness values\n",
        "pos_skew_value = skew(positive_skew_data)\n",
        "neg_skew_value = skew(negative_skew_data)\n",
        "\n",
        "# Plot histograms\n",
        "fig, axes = plt.subplots(1, 2, figsize=(12, 5))\n",
        "\n",
        "sns.histplot(positive_skew_data, bins=30, kde=True, color='blue', ax=axes[0])\n",
        "axes[0].set_title(f\"Positive Skewness (Right-Skewed)\\nSkewness: {pos_skew_value:.2f}\")\n",
        "\n",
        "sns.histplot(negative_skew_data, bins=30, kde=True, color='red', ax=axes[1])\n",
        "axes[1].set_title(f\"Negative Skewness (Left-Skewed)\\nSkewness: {neg_skew_value:.2f}\")\n",
        "\n",
        "plt.show()\n"
      ],
      "metadata": {
        "colab": {
          "base_uri": "https://localhost:8080/",
          "height": 488
        },
        "id": "5OMqhYJvP0R3",
        "outputId": "b95f8f84-aa88-4559-9317-8dcf6b33161c"
      },
      "execution_count": 8,
      "outputs": [
        {
          "output_type": "display_data",
          "data": {
            "text/plain": [
              "<Figure size 1200x500 with 2 Axes>"
            ],
            "image/png": "[encoded data removed]"
          },
          "metadata": {}
        }
      ]
    },
    {
      "cell_type": "code",
      "source": [
        "# Write a Python script to calculate covariance between two datasets?\n",
        "import numpy as np\n",
        "\n",
        "# Sample datasets\n",
        "x = [10, 20, 30, 40, 50]\n",
        "y = [15, 25, 35, 45, 55]\n",
        "\n",
        "# Calculate covariance\n",
        "cov_matrix = np.cov(x, y, bias=True)  # bias=True for population covariance\n",
        "covariance = cov_matrix[0, 1]  # Extract covariance value\n",
        "\n",
        "print(\"Covariance between x and y:\", covariance)\n"
      ],
      "metadata": {
        "colab": {
          "base_uri": "https://localhost:8080/"
        },
        "id": "nF-7FLACQBUy",
        "outputId": "d85823e9-d761-4c25-a099-0aa741f864eb"
      },
      "execution_count": 9,
      "outputs": [
        {
          "output_type": "stream",
          "name": "stdout",
          "text": [
            "Covariance between x and y: 200.0\n"
          ]
        }
      ]
    },
    {
      "cell_type": "code",
      "source": [
        "# Write a Python script to calculate the correlation coefficient between two datasets?\n",
        "import numpy as np\n",
        "\n",
        "# Sample datasets\n",
        "x = [10, 20, 30, 40, 50]\n",
        "y = [15, 25, 35, 45, 55]\n",
        "\n",
        "# Calculate correlation coefficient\n",
        "correlation_matrix = np.corrcoef(x, y)\n",
        "correlation_coefficient = correlation_matrix[0, 1]  # Extract correlation value\n",
        "\n",
        "print(\"Correlation Coefficient between x and y:\", correlation_coefficient)\n"
      ],
      "metadata": {
        "colab": {
          "base_uri": "https://localhost:8080/"
        },
        "id": "3PUfhrekQJMy",
        "outputId": "b5fdbf17-ab4c-482e-cf12-c41ed3e8805d"
      },
      "execution_count": 10,
      "outputs": [
        {
          "output_type": "stream",
          "name": "stdout",
          "text": [
            "Correlation Coefficient between x and y: 1.0\n"
          ]
        }
      ]
    },
    {
      "cell_type": "code",
      "source": [
        "# Create a scatter plot to visualize the relationship between two variables?\n",
        "import numpy as np\n",
        "import matplotlib.pyplot as plt\n",
        "\n",
        "# Generate sample datasets\n",
        "x = np.random.randint(10, 100, 50)  # Independent variable\n",
        "y = x * 1.5 + np.random.randint(-10, 10, 50)  # Dependent variable with some randomness\n",
        "\n",
        "# Create scatter plot\n",
        "plt.figure(figsize=(8, 5))\n",
        "plt.scatter(x, y, color='blue', alpha=0.7, edgecolors='black')\n",
        "\n",
        "# Add title and labels\n",
        "plt.title(\"Scatter Plot of Two Variables\")\n",
        "plt.xlabel(\"X Variable\")\n",
        "plt.ylabel(\"Y Variable\")\n",
        "\n",
        "# Show the plot\n",
        "plt.show()\n"
      ],
      "metadata": {
        "colab": {
          "base_uri": "https://localhost:8080/",
          "height": 487
        },
        "id": "mYk_6mtOQQ04",
        "outputId": "8754c1f1-3d64-4a79-df19-febfaf1a3676"
      },
      "execution_count": 11,
      "outputs": [
        {
          "output_type": "display_data",
          "data": {
            "text/plain": [
              "<Figure size 800x500 with 1 Axes>"
            ],
            "image/png": "[encoded data removed]"
          },
          "metadata": {}
        }
      ]
    },
    {
      "cell_type": "code",
      "source": [
        "# Implement and compare simple random sampling and systematic sampling?\n",
        "import numpy as np\n",
        "import pandas as pd\n",
        "\n",
        "# Create a dataset\n",
        "data = {\"ID\": range(1, 101), \"Value\": np.random.randint(1, 100, 100)}\n",
        "df = pd.DataFrame(data)\n",
        "\n",
        "### **1. Simple Random Sampling (10 random samples)**\n",
        "simple_random_sample = df.sample(n=10, random_state=42)\n",
        "\n",
        "### **2. Systematic Sampling (Every 10th element)**\n",
        "interval = 10\n",
        "systematic_sample = df.iloc[::interval]  # Selects every 10th row\n",
        "\n",
        "# Print results\n",
        "print(\"Simple Random Sampling:\\n\", simple_random_sample)\n",
        "print(\"\\nSystematic Sampling:\\n\", systematic_sample)\n"
      ],
      "metadata": {
        "colab": {
          "base_uri": "https://localhost:8080/"
        },
        "id": "qplhCfqtQW-b",
        "outputId": "33fb3b66-a847-4fa4-808f-e74c15b161e4"
      },
      "execution_count": 12,
      "outputs": [
        {
          "output_type": "stream",
          "name": "stdout",
          "text": [
            "Simple Random Sampling:\n",
            "     ID  Value\n",
            "83  84     90\n",
            "53  54     10\n",
            "70  71     72\n",
            "45  46     97\n",
            "44  45     19\n",
            "39  40     61\n",
            "22  23     79\n",
            "80  81     87\n",
            "10  11     83\n",
            "0    1     99\n",
            "\n",
            "Systematic Sampling:\n",
            "     ID  Value\n",
            "0    1     99\n",
            "10  11     83\n",
            "20  21     24\n",
            "30  31     44\n",
            "40  41     18\n",
            "50  51      2\n",
            "60  61     16\n",
            "70  71     72\n",
            "80  81     87\n",
            "90  91     25\n"
          ]
        }
      ]
    },
    {
      "cell_type": "code",
      "source": [
        "# Calculate the mean, median, and mode of grouped data?\n",
        "import numpy as np\n",
        "import scipy.stats as stats\n",
        "\n",
        "# Grouped data (class intervals and frequencies)\n",
        "class_intervals = [(0, 10), (10, 20), (20, 30), (30, 40), (40, 50)]\n",
        "frequencies = [5, 8, 15, 10, 7]\n",
        "\n",
        "# Calculate class midpoints\n",
        "midpoints = [(c[0] + c[1]) / 2 for c in class_intervals]\n",
        "\n",
        "# Calculate Mean\n",
        "mean = np.sum(np.array(midpoints) * np.array(frequencies)) / np.sum(frequencies)\n",
        "\n",
        "# Calculate Median\n",
        "cumulative_frequencies = np.cumsum(frequencies)\n",
        "n = np.sum(frequencies) / 2\n",
        "median_class_index = np.where(cumulative_frequencies >= n)[0][0]\n",
        "L = class_intervals[median_class_index][0]  # Lower boundary of median class\n",
        "F = cumulative_frequencies[median_class_index - 1] if median_class_index > 0 else 0\n",
        "f = frequencies[median_class_index]  # Frequency of median class\n",
        "h = class_intervals[median_class_index][1] - class_intervals[median_class_index][0]  # Class width\n",
        "median = L + ((n - F) / f) * h\n",
        "\n",
        "# Calculate Mode\n",
        "mode_class_index = np.argmax(frequencies)  # Class with max frequency\n",
        "L_mode = class_intervals[mode_class_index][0]  # Lower boundary of modal class\n",
        "f1 = frequencies[mode_class_index]  # Frequency of modal class\n",
        "f0 = frequencies[mode_class_index - 1] if mode_class_index > 0 else 0  # Previous class frequency\n",
        "f2 = frequencies[mode_class_index + 1] if mode_class_index < len(frequencies) - 1 else 0  # Next class frequency\n",
        "mode = L_mode + ((f1 - f0) / ((2 * f1) - f0 - f2)) * h if (f1 - f0) != 0 and (f1 - f2) != 0 else L_mode\n",
        "\n",
        "# Print results\n",
        "print(\"Mean of grouped data:\", mean)\n",
        "print(\"Median of grouped data:\", median)\n",
        "print(\"Mode of grouped data:\", mode)\n"
      ],
      "metadata": {
        "colab": {
          "base_uri": "https://localhost:8080/"
        },
        "id": "fsJWkqC_Ql80",
        "outputId": "47f14221-ee0a-4c99-ef0a-cf0e3c69b128"
      },
      "execution_count": 13,
      "outputs": [
        {
          "output_type": "stream",
          "name": "stdout",
          "text": [
            "Mean of grouped data: 26.333333333333332\n",
            "Median of grouped data: 26.333333333333332\n",
            "Mode of grouped data: 25.833333333333336\n"
          ]
        }
      ]
    },
    {
      "cell_type": "code",
      "source": [
        "# Simulate data using Python and calculate its central tendency and dispersion?\n",
        "import numpy as np\n",
        "import scipy.stats as stats\n",
        "\n",
        "# Simulate dataset (100 random values from normal distribution)\n",
        "data = np.random.normal(loc=50, scale=15, size=100)\n",
        "\n",
        "# Calculate central tendency measures\n",
        "mean = np.mean(data)\n",
        "median = np.median(data)\n",
        "mode = stats.mode(data, keepdims=True)[0][0]  # Mode\n",
        "\n",
        "# Calculate dispersion measures\n",
        "variance = np.var(data, ddof=1)  # Sample variance\n",
        "std_dev = np.std(data, ddof=1)  # Sample standard deviation\n",
        "range_value = np.max(data) - np.min(data)\n",
        "\n",
        "# Print results\n",
        "print(\"Mean:\", mean)\n",
        "print(\"Median:\", median)\n",
        "print(\"Mode:\", mode)\n",
        "print(\"Variance:\", variance)\n",
        "print(\"Standard Deviation:\", std_dev)\n",
        "print(\"Range:\", range_value)\n"
      ],
      "metadata": {
        "colab": {
          "base_uri": "https://localhost:8080/"
        },
        "id": "1Bsaqh1bQuXr",
        "outputId": "8987e83f-fe15-4bb6-98ae-32b311534d08"
      },
      "execution_count": 14,
      "outputs": [
        {
          "output_type": "stream",
          "name": "stdout",
          "text": [
            "Mean: 51.699379225631965\n",
            "Median: 53.614602993862555\n",
            "Mode: 13.62201939572811\n",
            "Variance: 254.61017740828848\n",
            "Standard Deviation: 15.956508935487376\n",
            "Range: 84.9222005266225\n"
          ]
        }
      ]
    },
    {
      "cell_type": "code",
      "source": [
        "# Use NumPy or pandas to summarize a dataset’s descriptive statistics?\n",
        "import numpy as np\n",
        "import pandas as pd\n",
        "\n",
        "# Simulate a dataset (100 random values from a normal distribution)\n",
        "data = np.random.normal(loc=50, scale=15, size=100)\n",
        "\n",
        "# Convert to Pandas DataFrame\n",
        "df = pd.DataFrame(data, columns=['Values'])\n",
        "\n",
        "# Display descriptive statistics\n",
        "summary = df.describe()\n",
        "\n",
        "# Print results\n",
        "print(summary)\n"
      ],
      "metadata": {
        "colab": {
          "base_uri": "https://localhost:8080/"
        },
        "id": "7jKAMnkaQ2Xp",
        "outputId": "4ab1d73e-d4ef-4cb1-a664-8aca97155573"
      },
      "execution_count": 15,
      "outputs": [
        {
          "output_type": "stream",
          "name": "stdout",
          "text": [
            "           Values\n",
            "count  100.000000\n",
            "mean    49.255374\n",
            "std     14.955821\n",
            "min     12.792730\n",
            "25%     39.329367\n",
            "50%     49.583882\n",
            "75%     57.689145\n",
            "max    103.318483\n"
          ]
        }
      ]
    },
    {
      "cell_type": "code",
      "source": [
        "# Plot a boxplot to understand the spread and identify outliers?\n",
        "import numpy as np\n",
        "import pandas as pd\n",
        "import matplotlib.pyplot as plt\n",
        "\n",
        "# Simulate dataset (100 random values from a normal distribution)\n",
        "data = np.random.normal(loc=50, scale=15, size=100)\n",
        "\n",
        "# Convert to Pandas DataFrame\n",
        "df = pd.DataFrame(data, columns=['Values'])\n",
        "\n",
        "# Create a boxplot\n",
        "plt.figure(figsize=(6, 4))\n",
        "plt.boxplot(df['Values'], vert=True, patch_artist=True, boxprops=dict(facecolor=\"lightblue\"))\n",
        "\n",
        "# Add title and labels\n",
        "plt.title(\"Boxplot of the Dataset\")\n",
        "plt.ylabel(\"Values\")\n",
        "\n",
        "# Show the plot\n",
        "plt.show()\n"
      ],
      "metadata": {
        "colab": {
          "base_uri": "https://localhost:8080/",
          "height": 391
        },
        "id": "_arJtgsvQ6rh",
        "outputId": "aa21857f-edec-4c71-90f6-f8630dddf85c"
      },
      "execution_count": 16,
      "outputs": [
        {
          "output_type": "display_data",
          "data": {
            "text/plain": [
              "<Figure size 600x400 with 1 Axes>"
            ],
            "image/png": "[encoded data removed]"
          },
          "metadata": {}
        }
      ]
    },
    {
      "cell_type": "code",
      "source": [
        "# Calculate the interquartile range (IQR) of a dataset?\n",
        "import numpy as np\n",
        "import pandas as pd\n",
        "\n",
        "# Simulate dataset (100 random values from a normal distribution)\n",
        "data = np.random.normal(loc=50, scale=15, size=100)\n",
        "\n",
        "# Convert to Pandas DataFrame\n",
        "df = pd.DataFrame(data, columns=['Values'])\n",
        "\n",
        "# Calculate Q1 (25th percentile) and Q3 (75th percentile)\n",
        "Q1 = df['Values'].quantile(0.25)\n",
        "Q3 = df['Values'].quantile(0.75)\n",
        "\n",
        "# Compute Interquartile Range (IQR)\n",
        "IQR = Q3 - Q1\n",
        "\n",
        "# Print results\n",
        "print(\"Q1 (25th Percentile):\", Q1)\n",
        "print(\"Q3 (75th Percentile):\", Q3)\n",
        "print(\"Interquartile Range (IQR):\", IQR)\n"
      ],
      "metadata": {
        "colab": {
          "base_uri": "https://localhost:8080/"
        },
        "id": "BknRwWa7RFMp",
        "outputId": "44c8e301-a0b2-49c0-d028-f2676e0076d8"
      },
      "execution_count": 17,
      "outputs": [
        {
          "output_type": "stream",
          "name": "stdout",
          "text": [
            "Q1 (25th Percentile): 39.34212057429092\n",
            "Q3 (75th Percentile): 61.51532437341847\n",
            "Interquartile Range (IQR): 22.173203799127556\n"
          ]
        }
      ]
    },
    {
      "cell_type": "code",
      "source": [
        "#  Implement Z-score normalization and explain its significance?\n",
        "import numpy as np\n",
        "import pandas as pd\n",
        "from scipy.stats import zscore\n",
        "\n",
        "# Simulate dataset (100 random values from a normal distribution)\n",
        "data = np.random.normal(loc=50, scale=15, size=100)\n",
        "\n",
        "# Convert to Pandas DataFrame\n",
        "df = pd.DataFrame(data, columns=['Values'])\n",
        "\n",
        "# Apply Z-score normalization\n",
        "df['Z-Score'] = zscore(df['Values'])\n",
        "\n",
        "# Print first 10 rows\n",
        "print(df.head(10))\n"
      ],
      "metadata": {
        "colab": {
          "base_uri": "https://localhost:8080/"
        },
        "id": "uu5ALjtlRSAa",
        "outputId": "a6dc7c44-d9e4-4be9-cbdd-d31972aa7d37"
      },
      "execution_count": 18,
      "outputs": [
        {
          "output_type": "stream",
          "name": "stdout",
          "text": [
            "      Values   Z-Score\n",
            "0  48.212137 -0.154457\n",
            "1  38.692936 -0.741444\n",
            "2  59.345924  0.532092\n",
            "3  68.660543  1.106464\n",
            "4  68.382454  1.089316\n",
            "5  23.791937 -1.660292\n",
            "6  99.788485  3.025923\n",
            "7  36.843107 -0.855511\n",
            "8  70.193656  1.201001\n",
            "9  29.286197 -1.321497\n"
          ]
        }
      ]
    },
    {
      "cell_type": "code",
      "source": [
        "# Compare two datasets using their standard deviations?\n",
        "import numpy as np\n",
        "import pandas as pd\n",
        "\n",
        "# Simulate two datasets\n",
        "data1 = np.random.normal(loc=50, scale=10, size=100)  # Dataset 1 (Lower variability)\n",
        "data2 = np.random.normal(loc=50, scale=20, size=100)  # Dataset 2 (Higher variability)\n",
        "\n",
        "# Convert to Pandas DataFrame\n",
        "df = pd.DataFrame({'Dataset 1': data1, 'Dataset 2': data2})\n",
        "\n",
        "# Calculate Standard Deviations\n",
        "std_dev1 = np.std(df['Dataset 1'], ddof=1)\n",
        "std_dev2 = np.std(df['Dataset 2'], ddof=1)\n",
        "\n",
        "# Print results\n",
        "print(\"Standard Deviation of Dataset 1:\", std_dev1)\n",
        "print(\"Standard Deviation of Dataset 2:\", std_dev2)\n",
        "\n",
        "# Interpretation\n",
        "if std_dev1 > std_dev2:\n",
        "    print(\"Dataset 1 has more variability.\")\n",
        "elif std_dev1 < std_dev2:\n",
        "    print(\"Dataset 2 has more variability.\")\n",
        "else:\n",
        "    print(\"Both datasets have the same variability.\")\n"
      ],
      "metadata": {
        "colab": {
          "base_uri": "https://localhost:8080/"
        },
        "id": "tb_F-VNDRWw2",
        "outputId": "3d34b566-115b-4a19-e02b-4b80a4966008"
      },
      "execution_count": 19,
      "outputs": [
        {
          "output_type": "stream",
          "name": "stdout",
          "text": [
            "Standard Deviation of Dataset 1: 11.094775984635426\n",
            "Standard Deviation of Dataset 2: 20.208869369597576\n",
            "Dataset 2 has more variability.\n"
          ]
        }
      ]
    },
    {
      "cell_type": "code",
      "source": [
        "# Write a Python program to visualize covariance using a heatmap?\n",
        "import numpy as np\n",
        "import pandas as pd\n",
        "import seaborn as sns\n",
        "import matplotlib.pyplot as plt\n",
        "\n",
        "# Simulate two correlated datasets\n",
        "np.random.seed(42)\n",
        "data1 = np.random.normal(loc=50, scale=10, size=100)  # Dataset 1\n",
        "data2 = data1 * 0.8 + np.random.normal(loc=0, scale=5, size=100)  # Correlated Dataset 2\n",
        "\n",
        "# Convert to Pandas DataFrame\n",
        "df = pd.DataFrame({'Dataset 1': data1, 'Dataset 2': data2})\n",
        "\n",
        "# Compute Covariance Matrix\n",
        "cov_matrix = df.cov()\n",
        "\n",
        "# Plot Heatmap\n",
        "plt.figure(figsize=(6, 5))\n",
        "sns.heatmap(cov_matrix, annot=True, cmap='coolwarm', fmt=\".2f\")\n",
        "\n",
        "# Add title\n",
        "plt.title(\"Covariance Heatmap\")\n",
        "\n",
        "# Show plot\n",
        "plt.show()\n"
      ],
      "metadata": {
        "colab": {
          "base_uri": "https://localhost:8080/",
          "height": 468
        },
        "id": "TdWFTNDIRigC",
        "outputId": "675ec366-b12a-447b-9fb7-cdcb68636983"
      },
      "execution_count": 20,
      "outputs": [
        {
          "output_type": "display_data",
          "data": {
            "text/plain": [
              "<Figure size 600x500 with 2 Axes>"
            ],
            "image/png": "[encoded data removed]"
          },
          "metadata": {}
        }
      ]
    },
    {
      "cell_type": "code",
      "source": [
        "# Use seaborn to create a correlation matrix for a dataset?\n",
        "\n",
        "import numpy as np\n",
        "import pandas as pd\n",
        "import seaborn as sns\n",
        "import matplotlib.pyplot as plt\n",
        "\n",
        "# Simulate a dataset with three correlated variables\n",
        "np.random.seed(42)\n",
        "data1 = np.random.normal(50, 10, 100)  # Feature 1\n",
        "data2 = data1 * 0.7 + np.random.normal(0, 5, 100)  # Feature 2 (Correlated with Feature 1)\n",
        "data3 = np.random.normal(30, 8, 100)  # Feature 3 (Less correlated)\n",
        "\n",
        "# Convert to Pandas DataFrame\n",
        "df = pd.DataFrame({'Feature 1': data1, 'Feature 2': data2, 'Feature 3': data3})\n",
        "\n",
        "# Compute Correlation Matrix\n",
        "corr_matrix = df.corr()\n",
        "\n",
        "# Plot Heatmap\n",
        "plt.figure(figsize=(6, 5))\n",
        "sns.heatmap(corr_matrix, annot=True, cmap='coolwarm', fmt=\".2f\", linewidths=0.5)\n",
        "\n",
        "# Add title\n",
        "plt.title(\"Correlation Matrix Heatmap\")\n",
        "\n",
        "# Show plot\n",
        "plt.show()\n"
      ],
      "metadata": {
        "colab": {
          "base_uri": "https://localhost:8080/",
          "height": 468
        },
        "id": "wCf4IwN8RuW8",
        "outputId": "340e2013-f4cf-4255-aab6-ad67c8a3cb05"
      },
      "execution_count": 21,
      "outputs": [
        {
          "output_type": "display_data",
          "data": {
            "text/plain": [
              "<Figure size 600x500 with 2 Axes>"
            ],
            "image/png": "[encoded data removed]"
          },
          "metadata": {}
        }
      ]
    },
    {
      "cell_type": "code",
      "source": [
        "# Generate a dataset and implement both variance and standard deviation computations?\n",
        "import numpy as np\n",
        "import pandas as pd\n",
        "\n",
        "# Generate a dataset (100 random numbers from a normal distribution)\n",
        "np.random.seed(42)\n",
        "data = np.random.normal(loc=50, scale=15, size=100)\n",
        "\n",
        "# Convert to Pandas DataFrame\n",
        "df = pd.DataFrame(data, columns=['Values'])\n",
        "\n",
        "# Compute Variance\n",
        "variance = np.var(df['Values'], ddof=1)  # Sample Variance (ddof=1 for unbiased estimate)\n",
        "\n",
        "# Compute Standard Deviation\n",
        "std_dev = np.std(df['Values'], ddof=1)  # Sample Standard Deviation\n",
        "\n",
        "# Print results\n",
        "print(\"Variance:\", variance)\n",
        "print(\"Standard Deviation:\", std_dev)\n"
      ],
      "metadata": {
        "colab": {
          "base_uri": "https://localhost:8080/"
        },
        "id": "oU3I3UYOR10I",
        "outputId": "955e2301-4cd3-48ac-b07f-f7a3d4b74f51"
      },
      "execution_count": 22,
      "outputs": [
        {
          "output_type": "stream",
          "name": "stdout",
          "text": [
            "Variance: 185.573226066786\n",
            "Standard Deviation: 13.622526420117012\n"
          ]
        }
      ]
    },
    {
      "cell_type": "code",
      "source": [
        "# Visualize skewness and kurtosis using Python libraries like matplotlib or seaborn?\n",
        "import numpy as np\n",
        "import pandas as pd\n",
        "import seaborn as sns\n",
        "import matplotlib.pyplot as plt\n",
        "from scipy.stats import skew, kurtosis\n",
        "\n",
        "# Generate a dataset with skewness\n",
        "np.random.seed(42)\n",
        "data = np.random.exponential(scale=10, size=1000)  # Positively skewed data\n",
        "\n",
        "# Convert to DataFrame\n",
        "df = pd.DataFrame(data, columns=['Values'])\n",
        "\n",
        "# Calculate Skewness and Kurtosis\n",
        "skewness = skew(df['Values'])\n",
        "kurt = kurtosis(df['Values'])\n",
        "\n",
        "# Plot Histogram with KDE (Kernel Density Estimate)\n",
        "plt.figure(figsize=(8, 5))\n",
        "sns.histplot(df['Values'], kde=True, bins=30, color='skyblue')\n",
        "plt.axvline(df['Values'].mean(), color='red', linestyle='dashed', linewidth=2, label='Mean')\n",
        "\n",
        "# Add title and labels\n",
        "plt.title(f\"Histogram of Data (Skewness: {skewness:.2f}, Kurtosis: {kurt:.2f})\")\n",
        "plt.xlabel(\"Values\")\n",
        "plt.ylabel(\"Frequency\")\n",
        "plt.legend()\n",
        "plt.show()\n"
      ],
      "metadata": {
        "colab": {
          "base_uri": "https://localhost:8080/",
          "height": 487
        },
        "id": "oBz3XFNdSEsE",
        "outputId": "e9bca2cf-61ac-4171-dbab-5c59df15a281"
      },
      "execution_count": 23,
      "outputs": [
        {
          "output_type": "display_data",
          "data": {
            "text/plain": [
              "<Figure size 800x500 with 1 Axes>"
            ],
            "image/png": "[encoded data removed]"
          },
          "metadata": {}
        }
      ]
    },
    {
      "cell_type": "code",
      "source": [
        "#  Implement the Pearson and Spearman correlation coefficients for a dataset.\n",
        "import numpy as np\n",
        "import pandas as pd\n",
        "from scipy.stats import pearsonr, spearmanr\n",
        "\n",
        "# Generate a dataset with two correlated variables\n",
        "np.random.seed(42)\n",
        "x = np.random.normal(50, 10, 100)  # Feature 1\n",
        "y = x * 0.8 + np.random.normal(0, 5, 100)  # Feature 2 (correlated with Feature 1)\n",
        "\n",
        "# Convert to Pandas DataFrame\n",
        "df = pd.DataFrame({'Feature 1': x, 'Feature 2': y})\n",
        "\n",
        "# Compute Pearson Correlation\n",
        "pearson_corr, _ = pearsonr(df['Feature 1'], df['Feature 2'])\n",
        "\n",
        "# Compute Spearman Correlation\n",
        "spearman_corr, _ = spearmanr(df['Feature 1'], df['Feature 2'])\n",
        "\n",
        "# Print results\n",
        "print(\"Pearson Correlation Coefficient:\", pearson_corr)\n",
        "print(\"Spearman Correlation Coefficient:\", spearman_corr)\n"
      ],
      "metadata": {
        "colab": {
          "base_uri": "https://localhost:8080/"
        },
        "id": "Gyh8uhs-SbRW",
        "outputId": "79c2b8c1-a94f-4f3a-e6ee-0ccf643329ca"
      },
      "execution_count": 24,
      "outputs": [
        {
          "output_type": "stream",
          "name": "stdout",
          "text": [
            "Pearson Correlation Coefficient: 0.8137986739956311\n",
            "Spearman Correlation Coefficient: 0.7878547854785478\n"
          ]
        }
      ]
    }
  ]
}